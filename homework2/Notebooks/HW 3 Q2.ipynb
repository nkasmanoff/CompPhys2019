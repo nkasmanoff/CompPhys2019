{
 "cells": [
  {
   "cell_type": "markdown",
   "metadata": {},
   "source": [
    "# 6.13"
   ]
  },
  {
   "cell_type": "markdown",
   "metadata": {},
   "source": [
    "Wien's Law"
   ]
  },
  {
   "cell_type": "code",
   "execution_count": 229,
   "metadata": {
    "collapsed": true
   },
   "outputs": [],
   "source": [
    "def blackbody(l,T=6000):\n",
    "\n",
    "    \"\"\"\n",
    "    \n",
    "    Intensity of light as a function of lambda, at a given temperature T\n",
    "    \n",
    "    \"\"\"\n",
    "    \n",
    "    from numpy import pi,exp,power\n",
    "    kb = 1.380649e-23 #×10−23 J⋅K−1\n",
    "    #T is kelvin. \n",
    "    h =  6.62607015e-34#−34  J⋅s\n",
    "\n",
    "    c = 299792458 #m/s\n",
    "    I = (2*pi*h*(c*c)*(power(l,-5)))/(exp((h*c)/(l*kb*T)) - 1)\n",
    "    \n",
    "    return I"
   ]
  },
  {
   "cell_type": "code",
   "execution_count": 241,
   "metadata": {},
   "outputs": [],
   "source": [
    "ls = np.linspace(1e-7,1e-5)"
   ]
  },
  {
   "cell_type": "code",
   "execution_count": 242,
   "metadata": {},
   "outputs": [
    {
     "data": {
      "image/png": "[encoded data removed]",
      "text/plain": [
       "<Figure size 432x288 with 1 Axes>"
      ]
     },
     "metadata": {},
     "output_type": "display_data"
    }
   ],
   "source": [
    "plt.plot(ls,blackbody(ls))\n",
    "plt.xscale('log')"
   ]
  },
  {
   "cell_type": "markdown",
   "metadata": {},
   "source": [
    "# a) \n",
    "\n",
    "\n",
    "start by differentiating blackbody function, and if we do so by lambda, the peak wavelength will be when that functino is equal to 0. Use the substitution for x and b given below, and we find Wien's law, lambda_max = b/T and solvivng this is the max to the 5e-x function below. if fx = x, just make it x = 5 - 5e-0x\n",
    "\n",
    "let x = hc/λkBT and  b = hc/kBx, and x is the solution to 5e−x + x − 5 = 0."
   ]
  },
  {
   "cell_type": "markdown",
   "metadata": {
    "collapsed": true
   },
   "source": [
    "Steps to a \n",
    "\n",
    "differentiate this eqn by lambda\n",
    "\n",
    "next assert that the max is when this is equal to 0. Next make the substitution for lambda and the other constants with x, and trosnform this into a solvable by binary search method. \n",
    "\n",
    "\n",
    "Steps to b) \n",
    "\n",
    "make a binary search algorithm, and evaluate for x at which the f derived in a = 0.\n",
    "\n",
    "\n",
    "c) Now plug in what we have, and determine the temperature of the sun given lambda. "
   ]
  },
  {
   "cell_type": "code",
   "execution_count": 243,
   "metadata": {
    "collapsed": true
   },
   "outputs": [],
   "source": [
    "import numpy as np"
   ]
  },
  {
   "cell_type": "code",
   "execution_count": 244,
   "metadata": {
    "collapsed": true
   },
   "outputs": [],
   "source": [
    "def binary(f,a,b,tol = 1e-6):\n",
    "    \"\"\"Find the root of function f give the starting points a and b. \n",
    "    \n",
    "    The goal is for f(a) and f(b) to have opposite signs, and if they don't redo this step.\n",
    "    \n",
    "    But if they do have opposite signs, find the midpoint btw a and b, and evaluate. if this f(midpoint) is below tolerance,\n",
    "    return.\n",
    "    \n",
    "    \n",
    "    if not, determine the sign of this midpoint, and repeat the search. \n",
    "\n",
    "    \"\"\"\n",
    "    \n",
    "    from numpy import sign #tells you if a positive or negative\n",
    "    \n",
    "    if f(a) * f(b) > 0:\n",
    "        return \"The selected endpoints are the same sign, please try different inputs!\"\n",
    "\n",
    "    \n",
    "    c = (a + b)/2\n",
    "    while abs(f(c)) > tol:\n",
    "  \n",
    "        if f(a) * f(c) > 0: \n",
    "            a = c\n",
    "            print(\"Update a\")\n",
    "        elif f(a) * f(c) < 0:\n",
    "            b = c\n",
    "            print(\"Update b\")\n",
    "        else:\n",
    "            return c\n",
    "        \n",
    "        c = (a + b)/2\n",
    "\n",
    "    return c#,f(c)\n",
    "\n",
    "\n",
    "\n"
   ]
  },
  {
   "cell_type": "code",
   "execution_count": 245,
   "metadata": {
    "collapsed": true
   },
   "outputs": [],
   "source": [
    "f = lambda x: 5*np.exp(-x) + x - 5#5e−x + x − 5\n"
   ]
  },
  {
   "cell_type": "code",
   "execution_count": 246,
   "metadata": {},
   "outputs": [
    {
     "name": "stdout",
     "output_type": "stream",
     "text": [
      "Update a\n",
      "Update b\n",
      "Update a\n",
      "Update b\n",
      "Update b\n",
      "Update a\n",
      "Update a\n",
      "Update a\n",
      "Update a\n",
      "Update b\n",
      "Update a\n",
      "Update a\n",
      "Update b\n",
      "Update b\n",
      "Update b\n",
      "Update b\n",
      "Update a\n",
      "Update b\n",
      "Update b\n"
     ]
    },
    {
     "data": {
      "text/plain": [
       "4.965113639831543"
      ]
     },
     "execution_count": 246,
     "metadata": {},
     "output_type": "execute_result"
    }
   ],
   "source": [
    "binary(f=f,a=3,b =6 ,tol = 1e-6)"
   ]
  },
  {
   "cell_type": "code",
   "execution_count": 247,
   "metadata": {},
   "outputs": [
    {
     "data": {
      "text/plain": [
       "2.9103830456733704e-11"
      ]
     },
     "execution_count": 247,
     "metadata": {},
     "output_type": "execute_result"
    }
   ],
   "source": [
    "f(-7.275957614183426e-12)"
   ]
  },
  {
   "cell_type": "code",
   "execution_count": 248,
   "metadata": {
    "collapsed": true
   },
   "outputs": [],
   "source": [
    "xs = np.arange(0,100,.001)\n",
    "ys = f(xs)"
   ]
  },
  {
   "cell_type": "code",
   "execution_count": 249,
   "metadata": {
    "collapsed": true
   },
   "outputs": [],
   "source": [
    "import matplotlib.pyplot as plt\n",
    "%matplotlib inline"
   ]
  },
  {
   "cell_type": "code",
   "execution_count": 250,
   "metadata": {},
   "outputs": [
    {
     "data": {
      "text/plain": [
       "[<matplotlib.lines.Line2D at 0x11d9d1be0>]"
      ]
     },
     "execution_count": 250,
     "metadata": {},
     "output_type": "execute_result"
    },
    {
     "data": {
      "image/png": "[encoded data removed]",
      "text/plain": [
       "<Figure size 432x288 with 1 Axes>"
      ]
     },
     "metadata": {},
     "output_type": "display_data"
    }
   ],
   "source": [
    "plt.plot(xs,ys)\n"
   ]
  },
  {
   "cell_type": "markdown",
   "metadata": {},
   "source": [
    "So there is one zero a the origin, but we are interested in the other one. This is cleary between to and 6, so let's sovle"
   ]
  },
  {
   "cell_type": "code",
   "execution_count": 251,
   "metadata": {},
   "outputs": [
    {
     "name": "stdout",
     "output_type": "stream",
     "text": [
      "Update b\n",
      "Update a\n",
      "Update a\n",
      "Update a\n",
      "Update b\n",
      "Update b\n",
      "Update b\n",
      "Update b\n",
      "Update a\n",
      "Update a\n",
      "Update b\n",
      "Update b\n",
      "Update a\n",
      "Update b\n",
      "Update b\n",
      "Update a\n",
      "Update b\n",
      "Update b\n",
      "Update b\n",
      "Update a\n",
      "Update b\n"
     ]
    }
   ],
   "source": [
    "xroot = binary(f=f,a=1,b =10 ,tol = 1e-6)"
   ]
  },
  {
   "cell_type": "markdown",
   "metadata": {},
   "source": [
    "the answer is 4.965114593505859"
   ]
  },
  {
   "cell_type": "markdown",
   "metadata": {},
   "source": [
    "# c)\n",
    "\n",
    "The displacement law is the basis for the method of optical pyrometry, a method for mea- suring the temperatures of objects by observing the color of the thermal radiation they emit. The method is commonly used to estimate the surface temperatures of astronom- ical bodies, such as the Sun. The wavelength peak in the Sun’s emitted radiation falls at λ = 502 nm. From the equations above and your value of the displacement constant, estimate the surface temperature of the Sun."
   ]
  },
  {
   "cell_type": "code",
   "execution_count": 220,
   "metadata": {},
   "outputs": [
    {
     "data": {
      "text/plain": [
       "4.965113878250122"
      ]
     },
     "execution_count": 220,
     "metadata": {},
     "output_type": "execute_result"
    }
   ],
   "source": [
    "xroot"
   ]
  },
  {
   "cell_type": "code",
   "execution_count": 259,
   "metadata": {
    "collapsed": true
   },
   "outputs": [],
   "source": [
    "l = 5.02 *10**-7"
   ]
  },
  {
   "cell_type": "markdown",
   "metadata": {},
   "source": [
    "x = hc/λkBT\n",
    "\n",
    "T = hc/λkBx\n",
    "\n",
    "b = hc/kBx"
   ]
  },
  {
   "cell_type": "code",
   "execution_count": 260,
   "metadata": {
    "collapsed": true
   },
   "outputs": [],
   "source": [
    "kb = 1.380649e-23 #×10−23 J⋅K−1\n",
    "#T is kelvin. \n",
    "h =  6.62607015e-34#−34  J⋅s\n",
    "c = 2.99e8 #m/s\n",
    "x = xroot"
   ]
  },
  {
   "cell_type": "code",
   "execution_count": 261,
   "metadata": {
    "collapsed": true
   },
   "outputs": [],
   "source": [
    "b = (h*c)/(kb*x)"
   ]
  },
  {
   "cell_type": "code",
   "execution_count": 262,
   "metadata": {
    "scrolled": true
   },
   "outputs": [
    {
     "data": {
      "text/plain": [
       "2890.1123199257504"
      ]
     },
     "execution_count": 262,
     "metadata": {},
     "output_type": "execute_result"
    }
   ],
   "source": [
    "b*1e6"
   ]
  },
  {
   "cell_type": "code",
   "execution_count": 263,
   "metadata": {},
   "outputs": [
    {
     "data": {
      "text/plain": [
       "5.019999999999999e-07"
      ]
     },
     "execution_count": 263,
     "metadata": {},
     "output_type": "execute_result"
    }
   ],
   "source": [
    "l"
   ]
  },
  {
   "cell_type": "code",
   "execution_count": 267,
   "metadata": {},
   "outputs": [],
   "source": [
    "T = b/l"
   ]
  },
  {
   "cell_type": "markdown",
   "metadata": {
    "collapsed": true
   },
   "source": [
    "The surface temp is T, in kelvin\n"
   ]
  },
  {
   "cell_type": "code",
   "execution_count": 268,
   "metadata": {},
   "outputs": [
    {
     "data": {
      "text/plain": [
       "5757.195856425798"
      ]
     },
     "execution_count": 268,
     "metadata": {},
     "output_type": "execute_result"
    }
   ],
   "source": [
    "T"
   ]
  },
  {
   "cell_type": "code",
   "execution_count": null,
   "metadata": {
    "collapsed": true
   },
   "outputs": [],
   "source": []
  }
 ],
 "metadata": {
  "kernelspec": {
   "display_name": "Python 3",
   "language": "python",
   "name": "python3"
  },
  "language_info": {
   "codemirror_mode": {
    "name": "ipython",
    "version": 3
   },
   "file_extension": ".py",
   "mimetype": "text/x-python",
   "name": "python",
   "nbconvert_exporter": "python",
   "pygments_lexer": "ipython3",
   "version": "3.6.7"
  }
 },
 "nbformat": 4,
 "nbformat_minor": 2
}
