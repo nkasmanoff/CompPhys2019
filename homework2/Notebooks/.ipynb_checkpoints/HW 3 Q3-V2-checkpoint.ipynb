{
 "cells": [
  {
   "cell_type": "code",
   "execution_count": 1,
   "metadata": {
    "collapsed": true
   },
   "outputs": [],
   "source": [
    "import pandas as pd\n",
    "import numpy as np\n",
    "\n",
    "import matplotlib.pyplot as plt\n",
    "%matplotlib inline"
   ]
  },
  {
   "cell_type": "markdown",
   "metadata": {},
   "source": [
    "Start by locating the minima of a simple function, f(x,y) = (x-2)^2 + (y-2)^2"
   ]
  },
  {
   "cell_type": "code",
   "execution_count": 2,
   "metadata": {
    "collapsed": true
   },
   "outputs": [],
   "source": [
    "\n",
    "\n",
    "def easy_2D_grad_descent(f,x0,y0,tol=1e-3,h=1e-6,gamma=.1):\n",
    "    \"\"\"Gradient descent function for the easy to evaluate function given as the starting point of q3. \n",
    "    \"\"\"\n",
    "    \n",
    "    #first, define the initial values given as x and y\n",
    "    \n",
    "    x = x0\n",
    "    y = y0\n",
    "    fs = []\n",
    "    while True:\n",
    "        fs.append(f(x,y))\n",
    "        fprimex = (f(x=x + h,y=y ) - f(x=x,y=y )) / (h)\n",
    "        fprimey = (f(x=x,y=y+h ) - f(x=x,y=y ) )/ (h)\n",
    "   #     fprimez = f(x=x,y=y +h) - f(x=x,y=y ) / (h)\n",
    "\n",
    "        xnew = x- gamma*fprimex\n",
    "        ynew = y - gamma*fprimey\n",
    "    #    znew = z - gamma*fprimez\n",
    "      #  print('x',x)\n",
    "      #  print('xnew',xnew)\n",
    "        if abs(xnew-x) + abs(ynew - y)<tol: #+ abs(znew - z) < tol:\n",
    "            break\n",
    "        x = xnew\n",
    "        y = ynew\n",
    "    return x,y, fs"
   ]
  },
  {
   "cell_type": "code",
   "execution_count": 3,
   "metadata": {},
   "outputs": [
    {
     "name": "stdout",
     "output_type": "stream",
     "text": [
      "2.004055982121733 1.9999589353839053\n"
     ]
    },
    {
     "data": {
      "text/plain": [
       "Text(0.5, 1.0, '$f(x,y)$ vs. Step #')"
      ]
     },
     "execution_count": 3,
     "metadata": {},
     "output_type": "execute_result"
    },
    {
     "data": {
      "image/png": "[encoded data removed]",
      "text/plain": [
       "<Figure size 432x288 with 1 Axes>"
      ]
     },
     "metadata": {},
     "output_type": "display_data"
    }
   ],
   "source": [
    "f = lambda x,y: (x-2)**2 + (y-2)**2\n",
    "x,y,fs = easy_2D_grad_descent(f,12,1.9)\n",
    "print(x,y)\n",
    "plt.plot(fs)\n",
    "plt.xlabel(\"Step #\",fontsize=15)\n",
    "plt.ylabel(\"$f(x,y)$\",fontsize=15)\n",
    "plt.title(\"$f(x,y)$ vs. Step #\",fontsize=20)"
   ]
  },
  {
   "cell_type": "markdown",
   "metadata": {},
   "source": [
    "# Part B \n",
    "\n",
    "Now look at the cosmos dataset. \n"
   ]
  },
  {
   "cell_type": "code",
   "execution_count": 4,
   "metadata": {
    "collapsed": true
   },
   "outputs": [],
   "source": [
    "cosmos = pd.read_table(\"../dat/smf_cosmos.dat\", sep=\"\\s+\",header=None)\n",
    "cosmos.rename(columns={0:\"log M_gal [dex]\",1:\"n(M_gal) [1/dex/Volume]\",2:\"error in n(M_gal)\"},inplace=True)\n",
    "cosmos['M_gal'] = 10**cosmos['log M_gal [dex]']"
   ]
  },
  {
   "cell_type": "code",
   "execution_count": 5,
   "metadata": {},
   "outputs": [
    {
     "data": {
      "image/png": "[encoded data removed]",
      "text/plain": [
       "<Figure size 432x288 with 1 Axes>"
      ]
     },
     "metadata": {},
     "output_type": "display_data"
    }
   ],
   "source": [
    "#plt.plot(df['log M_gal [dex]'],df['n(M_gal) [1/dex/Volume]'],'bo')\n",
    "plt.errorbar(x = cosmos['M_gal'],y=(cosmos['n(M_gal) [1/dex/Volume]']),\n",
    "             yerr=cosmos['error in n(M_gal)'],marker='o',ls='')\n",
    "plt.title(\"Expected\")\n",
    "plt.yscale('log')\n",
    "plt.xscale('log')\n"
   ]
  },
  {
   "cell_type": "code",
   "execution_count": 7,
   "metadata": {
    "collapsed": true
   },
   "outputs": [],
   "source": [
    "def schecter(x,phi,M,alpha):\n",
    "    return phi *(x/M)**(alpha+1) * np.exp(-x/M)* np.log(10)\n",
    "\n",
    "\n",
    "def chisquared(cosmos,phi,M,alpha):\n",
    "   # print(cosmos)\n",
    "    cosmos['Fitted Function'] = schecter(cosmos['M_gal'],phi,M,alpha) #evaluate schecter with these conditions \n",
    "    cosmos['Chi Term'] = ((cosmos['n(M_gal) [1/dex/Volume]'] - cosmos['Fitted Function'])**2) / (cosmos['n(M_gal) [1/dex/Volume]'])**2\n",
    "    chisquared = sum(cosmos['Chi Term']) #this is the value to minimize\n",
    "    return chisquared\n",
    "    \n",
    "    "
   ]
  },
  {
   "cell_type": "code",
   "execution_count": 10,
   "metadata": {},
   "outputs": [
    {
     "name": "stdout",
     "output_type": "stream",
     "text": [
      "1.002 2 -0.10000000000000009\n",
      "12.0\n",
      "2.0 2\n",
      "1.002 2.0 -0.10000000000000009\n",
      "12.0\n"
     ]
    },
    {
     "ename": "ZeroDivisionError",
     "evalue": "float division by zero",
     "output_type": "error",
     "traceback": [
      "\u001b[0;31m---------------------------------------------------------------------------\u001b[0m",
      "\u001b[0;31mZeroDivisionError\u001b[0m                         Traceback (most recent call last)",
      "\u001b[0;32m<ipython-input-10-541f51a3a58d>\u001b[0m in \u001b[0;36m<module>\u001b[0;34m()\u001b[0m\n\u001b[1;32m     54\u001b[0m \u001b[0;34m\u001b[0m\u001b[0m\n\u001b[1;32m     55\u001b[0m \u001b[0;34m\u001b[0m\u001b[0m\n\u001b[0;32m---> 56\u001b[0;31m \u001b[0mgradient_descent\u001b[0m\u001b[0;34m(\u001b[0m\u001b[0mcosmos\u001b[0m\u001b[0;34m=\u001b[0m\u001b[0mcosmos\u001b[0m\u001b[0;34m,\u001b[0m\u001b[0mM_0\u001b[0m\u001b[0;34m=\u001b[0m\u001b[0;36m1\u001b[0m\u001b[0;34m,\u001b[0m\u001b[0malpha_0\u001b[0m\u001b[0;34m=\u001b[0m\u001b[0;34m-\u001b[0m\u001b[0;36m1.1\u001b[0m\u001b[0;34m,\u001b[0m\u001b[0mphi_0\u001b[0m\u001b[0;34m=\u001b[0m\u001b[0;36m.002\u001b[0m\u001b[0;34m)\u001b[0m\u001b[0;34m\u001b[0m\u001b[0;34m\u001b[0m\u001b[0m\n\u001b[0m\u001b[1;32m     57\u001b[0m \u001b[0;34m\u001b[0m\u001b[0m\n\u001b[1;32m     58\u001b[0m \u001b[0;34m\u001b[0m\u001b[0m\n",
      "\u001b[0;32m<ipython-input-10-541f51a3a58d>\u001b[0m in \u001b[0;36mgradient_descent\u001b[0;34m(cosmos, phi_0, M_0, alpha_0, h, gamma, tol)\u001b[0m\n\u001b[1;32m     23\u001b[0m         chiprime_phi = (chisquared(cosmos,phi ,M_0,\n\u001b[1;32m     24\u001b[0m                                    \u001b[0malpha_0\u001b[0m\u001b[0;34m)\u001b[0m \u001b[0;34m-\u001b[0m \u001b[0mchisquared\u001b[0m\u001b[0;34m(\u001b[0m\u001b[0mcosmos\u001b[0m\u001b[0;34m,\u001b[0m\u001b[0mphi_0\u001b[0m\u001b[0;34m,\u001b[0m\u001b[0mM_0\u001b[0m\u001b[0;34m,\u001b[0m\u001b[0;34m\u001b[0m\u001b[0;34m\u001b[0m\u001b[0m\n\u001b[0;32m---> 25\u001b[0;31m                                     alpha_0)) / (phi  - phi_0) \n\u001b[0m\u001b[1;32m     26\u001b[0m \u001b[0;34m\u001b[0m\u001b[0m\n\u001b[1;32m     27\u001b[0m \u001b[0;34m\u001b[0m\u001b[0m\n",
      "\u001b[0;31mZeroDivisionError\u001b[0m: float division by zero"
     ]
    }
   ],
   "source": [
    "def gradient_descent(cosmos,phi_0,M_0,alpha_0,h=1e-6,gamma=.000001,tol=1e-5):\n",
    "    \"\"\"\n",
    "    \n",
    "    Apply gradient descent to  minimize the fitting tool (chi squared in thsi case)\n",
    "    of the schecter function used to characterize the number of galaxies found in the unvierse at a given mass (scaled by some characteristic mass which we \n",
    "    will find now).\n",
    "    \n",
    "    \n",
    "    \"\"\"\n",
    "    \n",
    "    #def\n",
    "    \n",
    "    alpha =  alpha_0 + 1\n",
    "    M  =  M_0   + 1\n",
    "    phi  =  phi_0 + 1\n",
    "    \n",
    "   # print(phi,M,alpha)\n",
    "    while True: #for i =_0 to inf. \n",
    "        print(phi,M,alpha)\n",
    "\n",
    "       # print(phi ,M ,alpha)\n",
    "        print(chisquared(cosmos,phi,M,alpha))\n",
    "        \n",
    "        #what is log stepping here? \n",
    "        chiprime_phi = (chisquared(cosmos,phi ,M_0,\n",
    "                                   alpha_0) - chisquared(cosmos,phi_0,M_0,\n",
    "                                    alpha_0)) / (phi  - phi_0) \n",
    "        \n",
    "        \n",
    "        chiprime_M = (chisquared(cosmos,phi_0,M,\n",
    "                                   alpha_0) - chisquared(cosmos,phi_0,M_0,\n",
    "                                    alpha_0)) / (M  - M_0) \n",
    "        \n",
    "        chiprime_alpha = (chisquared(cosmos,phi_0,M_0,\n",
    "                                   alpha) - chisquared(cosmos,phi_0,M_0,\n",
    "                                    alpha_0)) / (alpha - alpha_0) \n",
    "        \n",
    "        phinew = phi  - gamma * chiprime_phi\n",
    "        \n",
    "        Mnew = M  - gamma * chiprime_M\n",
    "        \n",
    "        alphanew = alpha - gamma * chiprime_alpha #rinse and repeat, solve for alpha new after this. \n",
    "        \n",
    "        print(Mnew,M)\n",
    "        #  return phi,M,alpha\n",
    "            \n",
    "        phi_0 = phi \n",
    "        phi  = phinew\n",
    "        \n",
    "        M_0 = M \n",
    "        M  = Mnew  \n",
    "        \n",
    "        alpha_0 = alpha\n",
    "        alpha = alphanew\n",
    "        \n",
    "        \n",
    "        \n",
    "gradient_descent(cosmos=cosmos,M_0=1,alpha_0=-1.1,phi_0=.002)    \n",
    "\n",
    "\n",
    "\n"
   ]
  },
  {
   "cell_type": "code",
   "execution_count": null,
   "metadata": {},
   "outputs": [],
   "source": [
    "        \n",
    "        if abs(alpha_p1 - alpha) + abs(Mnew - M ) + abs(phinew - phi ) < tol:\n",
    "            break\n",
    "            \n",
    "        phi0 = phi \n",
    "        phi  = phinew\n",
    "        M0 = M \n",
    "        M  = Mnew    \n",
    "        alpha_0 = alpha\n",
    "        alpha = alpha_p1\n",
    "        \n",
    "    return phi,M,alpha"
   ]
  },
  {
   "cell_type": "markdown",
   "metadata": {},
   "source": [
    "The general gradient descent formulation should be\n",
    "\n",
    "$a_{i+1} = a_i - \\gamma * \\frac{f(a_i,b_{i-1},c_{i-1}) -  f(a_{i-1},b_{i-1},c_{i-1})}{a_i - a_{i-1}}$\n",
    "\n",
    "let a be alpha for this example\n",
    "\n",
    "alpha_i+1 = alpha - deriv, where alpha 0 is initial param. \n",
    "\n",
    "alphanew = alphai+1\n",
    "alpha = alphai\n",
    "alpha0 = alphai-1\n",
    "\n",
    "how to get initital alphai?\n",
    "\n",
    "\n",
    "Or.....\n",
    "\n",
    "\n",
    "\n",
    "$ \\frac{d\\chi}{d \\phi} = $ #nah"
   ]
  },
  {
   "cell_type": "code",
   "execution_count": null,
   "metadata": {},
   "outputs": [],
   "source": [
    "schechter_grad_descent(cosmos=cosmos,M0=1e10,alpha0=-1.1,phi0=.002)"
   ]
  },
  {
   "cell_type": "code",
   "execution_count": null,
   "metadata": {},
   "outputs": [],
   "source": [
    "cosmos"
   ]
  },
  {
   "cell_type": "code",
   "execution_count": null,
   "metadata": {
    "collapsed": true
   },
   "outputs": [],
   "source": [
    "def chisquared(cosmos,phi,M,alpha):\n",
    "   # print(cosmos)\n",
    "    cosmos['Fitted Function'] = schecter(cosmos['log M_gal [dex]'],phi=phi,M=M,alpha=alpha) #evaluate schecter with these conditions \n",
    "    chi_terms = ((cosmos['n(M_gal) [1/dex/Volume]'] - cosmos['Fitted Function'])**2) #/ (cosmos['n(M_gal) [1/dex/Volume]'])\n",
    "    chisquared = sum(chi_terms) #this is the value to minimize\n",
    "    return chisquared\n",
    "    \n",
    "    \n",
    "def schecter(x,phi,M,alpha):\n",
    "    return phi *(x/M)**(alpha+1) * np.exp(-x/M)* np.log(10)\n",
    "\n"
   ]
  },
  {
   "cell_type": "code",
   "execution_count": null,
   "metadata": {
    "collapsed": true
   },
   "outputs": [],
   "source": [
    "grid = pd.DataFrame(columns=['Phi','M','Alpha'])\n",
    "phis = 10**np.arange(-3.2,-1,.1)\n",
    "alphas = np.arange(-6,-1,.1)\n",
    "ms = 10**np.arange(9,13,.1)"
   ]
  },
  {
   "cell_type": "code",
   "execution_count": null,
   "metadata": {},
   "outputs": [],
   "source": [
    "phis"
   ]
  },
  {
   "cell_type": "code",
   "execution_count": null,
   "metadata": {
    "collapsed": true
   },
   "outputs": [],
   "source": [
    "X,Y,Z = np.meshgrid(phis,alphas,ms)"
   ]
  },
  {
   "cell_type": "code",
   "execution_count": null,
   "metadata": {
    "collapsed": true
   },
   "outputs": [],
   "source": [
    "\n",
    "grid['Phi'] = X.flatten()\n",
    "grid['M'] = Z.flatten()\n",
    "grid['Alpha'] = Y.flatten()"
   ]
  },
  {
   "cell_type": "code",
   "execution_count": null,
   "metadata": {
    "collapsed": true
   },
   "outputs": [],
   "source": [
    "\n",
    "grid['Chi Squared'] = grid.apply(lambda z: chisquared(cosmos,phi=z['Phi'],M=z['M'],alpha=z['Alpha']),axis = 1)"
   ]
  },
  {
   "cell_type": "code",
   "execution_count": null,
   "metadata": {
    "collapsed": true
   },
   "outputs": [],
   "source": [
    "phi = grid.loc[grid['Chi Squared'] == grid['Chi Squared'].min()]['Phi'].values[0]\n",
    "alpha = grid.loc[grid['Chi Squared'] == grid['Chi Squared'].min()]['Alpha'].values[0]\n",
    "M = grid.loc[grid['Chi Squared'] == grid['Chi Squared'].min()]['M'].values[0]"
   ]
  },
  {
   "cell_type": "code",
   "execution_count": null,
   "metadata": {},
   "outputs": [],
   "source": [
    "grid.loc[grid['Chi Squared'] == grid['Chi Squared'].min()]"
   ]
  },
  {
   "cell_type": "code",
   "execution_count": null,
   "metadata": {
    "collapsed": true
   },
   "outputs": [],
   "source": [
    "cosmos['Fitted Function'] = schecter(cosmos['log M_gal [dex]'],alpha=alpha,M=M,phi=phi)"
   ]
  },
  {
   "cell_type": "code",
   "execution_count": null,
   "metadata": {},
   "outputs": [],
   "source": [
    "plt.plot(cosmos['log M_gal [dex]'],cosmos['Fitted Function'])"
   ]
  },
  {
   "cell_type": "code",
   "execution_count": null,
   "metadata": {
    "scrolled": true
   },
   "outputs": [],
   "source": [
    "#plt.plot(df['log M_gal [dex]'],df['n(M_gal) [1/dex/Volume]'],'bo')\n",
    "plt.errorbar(x = cosmos['M_gal [dex]'],y=(cosmos['n(M_gal) [1/dex/Volume]']),\n",
    "             yerr=cosmos['error in n(M_gal)'],marker='o',ls='')\n",
    "plt.title(\"Grid Search Method\")\n",
    "plt.plot(cosmos['log M_gal [dex]'],cosmos['Fitted Function'])\n",
    "plt.yscale('log')\n",
    "plt.xscale('log')"
   ]
  },
  {
   "cell_type": "markdown",
   "metadata": {
    "collapsed": true
   },
   "source": [
    "REWRITE G DESCENT\n",
    "\n",
    "LOG STEP SIZE, START WITH THOSE HUGE NUMBERS "
   ]
  },
  {
   "cell_type": "markdown",
   "metadata": {},
   "source": [
    "Gradient Descent here"
   ]
  },
  {
   "cell_type": "code",
   "execution_count": null,
   "metadata": {
    "collapsed": true
   },
   "outputs": [],
   "source": [
    "phis = np.arange(-1,2)\n",
    "Ms = np.arange(10,11,.1)\n",
    "alphas = np.arange(-10,-1,.1)\n",
    "chimin = 1e5\n",
    "for phi in phis:\n",
    "    for M in Ms:\n",
    "        for alpha in alphas:\n",
    "            chisqua = chisquared(cosmos=cosmos,phi=phi,M=M,alpha=alpha)\n",
    "            if chisqua < chimin:\n",
    "                print(\"New Chi Min of \", chisqua)\n",
    "                print(\"Params: \", phi,M,alpha)\n",
    "                chimin = chisqua\n",
    "                phimin = phi\n",
    "                Mmin = M\n",
    "                alphamin = alpha"
   ]
  },
  {
   "cell_type": "code",
   "execution_count": null,
   "metadata": {
    "collapsed": true
   },
   "outputs": [],
   "source": [
    "\n",
    "def schecter(x,phi,M,alpha):\n",
    "    return phi * (x/M)**(alpha+1) * np.exp(-x/M) * 2.30258509299\n",
    "\n",
    "\n",
    "def chisquared(cosmos,phi,M,alpha):\n",
    "   # print(cosmos)\n",
    "    cosmos['Fitted Function'] = schecter(cosmos['log M_gal [dex]'],phi=phi,M=M,alpha=alpha) #evaluate schecter with these conditions \n",
    "    chi_terms = ((cosmos['n(M_gal) [1/dex/Volume]'] - cosmos['Fitted Function'])**2) / (cosmos['n(M_gal) [1/dex/Volume]'])\n",
    "    chisquared = sum(chi_terms) #this is the value to minimize\n",
    "    return chisquared\n",
    "    \n",
    "    \n",
    "\n",
    "def schechter_grad_descent(phi0,M0,alpha0,h=1,gamma=.01,tol=1e-5):\n",
    "    \"\"\"\n",
    "    Apply gradient descent to  minimize the fitting tool (chi squared in thsi case)\n",
    "    of the schecter function used to characterize the number of galaxies found in the unvierse at a given mass (scaled by some characteristic mass which we \n",
    "    will find now).\n",
    "    \n",
    "    \n",
    "    \n",
    "    This needs to be a log step, and start around \n",
    "  \n",
    "  phi 0.000794\n",
    "   \n",
    "   M\n",
    "    1.000000e+11\n",
    "    \n",
    "    alpha \n",
    "    -1.5\n",
    "    \n",
    "    \n",
    "    \"\"\"\n",
    "    \n",
    "    \n",
    "    phi = phi0\n",
    "    \n",
    "    M = M0\n",
    "    \n",
    "    alpha = alpha0\n",
    "    \n",
    "    \n",
    "    i = 0\n",
    "    chiterms = []\n",
    "    phis = []\n",
    "    Ms = []\n",
    "    alphas = []\n",
    "    while True:\n",
    "        cosmos = pd.read_table(\"../dat/smf_cosmos.dat\", sep=\"\\s+\",header=None)\n",
    "        cosmos.rename(columns={0:\"log M_gal [dex]\",1:\"n(M_gal) [1/dex/Volume]\",2:\"error in n(M_gal)\"},inplace=True)\n",
    "        cosmos['log M_gal [dex]'] = 10** cosmos['log M_gal [dex]']\n",
    "        chiprime_phi = (chisquared(cosmos,phi+h,M,alpha) - chisquared(cosmos,phi,M,alpha)) / (h)\n",
    "        \n",
    "     #   print(\"Chi squared: \")\n",
    "     #   print(chisquared(cosmos,phi,M,alpha))\n",
    "     #   print(\"Chisquared + h\" )\n",
    "     #   print(chisquared(cosmos,phi+h,M,alpha))\n",
    "        phinew = phi - gamma * chiprime_phi\n",
    "\n",
    "        chiprime_M = (chisquared(cosmos,phi,M+h,alpha) - chisquared(cosmos,phi,M,alpha)) / (h)\n",
    "        Mnew = M - gamma * chiprime_M\n",
    "        \n",
    "        chiprime_alpha = (chisquared(cosmos,phi,M,alpha+h) - chisquared(cosmos,phi,M,alpha)) / (h)\n",
    "        \n",
    "        alphanew = alpha - gamma * chiprime_alpha\n",
    "      #  print(\"starting vals: \")\n",
    "      #  print(phi,M,alpha)\n",
    "      #  print(\"Derivatives: \")\n",
    "      #  print(chiprime_phi,chiprime_M,chiprime_alpha)\n",
    "       # print(\"Grad descent vals: \")\n",
    "      #  print(phinew,Mnew,alphanew)\n",
    "        if abs(chisquared(cosmos,phi,M,alpha) - chisquared(cosmos,phinew,Mnew,alphanew)) < tol:\n",
    "            print(\"Best vals: \", phi,M,alpha)\n",
    "            break\n",
    "        \n",
    "        phi = phinew\n",
    "        M = Mnew\n",
    "        alpha = alphanew\n",
    "        chiterms.append(chisquared(cosmos,phi,M,alpha))\n",
    "        print(chisquared(cosmos,phi,M,alpha))\n",
    "        phis.append(phi)\n",
    "        Ms.append(M)\n",
    "        alphas.append(alpha)\n",
    "        i+=1\n",
    "        \n",
    "        \n",
    "    return chiterms,phis,Ms,alphas,i"
   ]
  },
  {
   "cell_type": "code",
   "execution_count": null,
   "metadata": {},
   "outputs": [],
   "source": [
    "cosmos['log M_gal [dex]']"
   ]
  },
  {
   "cell_type": "code",
   "execution_count": null,
   "metadata": {},
   "outputs": [],
   "source": [
    "chiterms,phis,Ms,alphas,i = schechter_grad_descent(8,10.5,1,gamma=.5,tol=1e-2)"
   ]
  },
  {
   "cell_type": "code",
   "execution_count": null,
   "metadata": {
    "collapsed": true
   },
   "outputs": [],
   "source": [
    "plt.plot(range(i),chiterms)"
   ]
  },
  {
   "cell_type": "code",
   "execution_count": null,
   "metadata": {
    "collapsed": true
   },
   "outputs": [],
   "source": [
    "plt.plot(range(i),phis)"
   ]
  },
  {
   "cell_type": "code",
   "execution_count": null,
   "metadata": {
    "collapsed": true
   },
   "outputs": [],
   "source": [
    "plt.plot(range(i),Ms)"
   ]
  },
  {
   "cell_type": "code",
   "execution_count": null,
   "metadata": {
    "collapsed": true
   },
   "outputs": [],
   "source": [
    "plt.plot(range(i),alphas)"
   ]
  },
  {
   "cell_type": "code",
   "execution_count": null,
   "metadata": {
    "collapsed": true
   },
   "outputs": [],
   "source": [
    "cosmos['Fitted Function'] = schecter(cosmos['log M_gal [dex]'],alpha=-11,M=5,phi=8)"
   ]
  },
  {
   "cell_type": "code",
   "execution_count": null,
   "metadata": {
    "collapsed": true
   },
   "outputs": [],
   "source": []
  },
  {
   "cell_type": "code",
   "execution_count": null,
   "metadata": {
    "collapsed": true
   },
   "outputs": [],
   "source": [
    "plt.plot(cosmos['log M_gal [dex]'],cosmos['Fitted Function'])"
   ]
  },
  {
   "cell_type": "code",
   "execution_count": null,
   "metadata": {
    "collapsed": true
   },
   "outputs": [],
   "source": [
    "#plt.plot(df['log M_gal [dex]'],df['n(M_gal) [1/dex/Volume]'],'bo')\n",
    "plt.errorbar(x = cosmos['log M_gal [dex]'],y=np.log10(cosmos['n(M_gal) [1/dex/Volume]']),\n",
    "             yerr=cosmos['error in n(M_gal)'],marker='o',ls='')\n",
    "\n",
    "plt.plot(cosmos['log M_gal [dex]'],cosmos['Fitted Function'])\n"
   ]
  },
  {
   "cell_type": "markdown",
   "metadata": {},
   "source": [
    "Now we try to fit the schecter function!"
   ]
  },
  {
   "cell_type": "code",
   "execution_count": null,
   "metadata": {
    "collapsed": true
   },
   "outputs": [],
   "source": []
  }
 ],
 "metadata": {
  "kernelspec": {
   "display_name": "Python 3",
   "language": "python",
   "name": "python3"
  },
  "language_info": {
   "codemirror_mode": {
    "name": "ipython",
    "version": 3
   },
   "file_extension": ".py",
   "mimetype": "text/x-python",
   "name": "python",
   "nbconvert_exporter": "python",
   "pygments_lexer": "ipython3",
   "version": "3.6.7"
  }
 },
 "nbformat": 4,
 "nbformat_minor": 2
}
