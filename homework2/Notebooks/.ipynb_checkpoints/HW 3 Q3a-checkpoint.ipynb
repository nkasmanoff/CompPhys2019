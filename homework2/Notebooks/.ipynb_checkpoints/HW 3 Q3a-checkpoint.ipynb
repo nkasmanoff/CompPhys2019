{
 "cells": [
  {
   "cell_type": "code",
   "execution_count": null,
   "metadata": {
    "collapsed": true
   },
   "outputs": [],
   "source": [
    "import pandas as pd\n",
    "import numpy as np\n",
    "\n",
    "import matplotlib.pyplot as plt\n",
    "%matplotlib inline"
   ]
  },
  {
   "cell_type": "markdown",
   "metadata": {},
   "source": [
    "Start by locating the minima of a simple function, f(x,y) = (x-2)^2 + (y-2)^2"
   ]
  },
  {
   "cell_type": "code",
   "execution_count": null,
   "metadata": {
    "collapsed": true
   },
   "outputs": [],
   "source": [
    "def deriv(f,x,h): #apply the \n",
    "    \n",
    "    \"\"\"\n",
    "    Using forward differencing, calulate the derivative of a given function f. \n",
    "    \n",
    "    \n",
    "    We seek to model the error behavior of these various methods for analytically solvable functions like cosine and\n",
    "    exponentials, and from there interpret the manifestation of these errors over different regimes. \n",
    "    \n",
    "    Parameters\n",
    "    ----------\n",
    "    \n",
    "    f : function\n",
    "        function of interest, i.e np.cos, np.exp, etc. \n",
    "    x : float\n",
    "        x value of the function to compute the derivative at. \n",
    "    h : float\n",
    "        Step size for the derivative calulcation, tends towards 0. \n",
    "\n",
    "    Returns\n",
    "    -------\n",
    "    Deriviative approximation using forward differencing. \n",
    "        \n",
    "    \"\"\"\n",
    "    #make sure to convert all values to float 32\n",
    "    fderiv = (f(x + h) - f(x)) / h\n",
    "\n",
    "    return fderiv"
   ]
  },
  {
   "cell_type": "code",
   "execution_count": null,
   "metadata": {
    "collapsed": true
   },
   "outputs": [],
   "source": [
    "\n",
    "\n",
    "def easy_2D_grad_descent(f,x0,y0,tol=1e-3,h=1e-6,gamma=.1):\n",
    "    \"\"\"Gradient descent function for the easy to evaluate function given as the starting point of q3. \n",
    "    \"\"\"\n",
    "    \n",
    "    #first, define the initial values given as x and y\n",
    "    \n",
    "    x = x0\n",
    "    y = y0\n",
    "    fs = []\n",
    "    while True:\n",
    "        fs.append(f(x,y))\n",
    "        fprimex = (f(x=x + h,y=y ) - f(x=x,y=y )) / (h)\n",
    "        fprimey = (f(x=x,y=y+h ) - f(x=x,y=y ) )/ (h)\n",
    "   #     fprimez = f(x=x,y=y +h) - f(x=x,y=y ) / (h)\n",
    "\n",
    "        xnew = x- gamma*fprimex\n",
    "        ynew = y - gamma*fprimey\n",
    "    #    znew = z - gamma*fprimez\n",
    "        print('x',x)\n",
    "        print('xnew',xnew)\n",
    "        if abs(xnew-x) + abs(ynew - y)<tol: #+ abs(znew - z) < tol:\n",
    "            break\n",
    "        x = xnew\n",
    "        y = ynew\n",
    "    return x,y, fs"
   ]
  },
  {
   "cell_type": "code",
   "execution_count": null,
   "metadata": {
    "collapsed": true
   },
   "outputs": [],
   "source": []
  },
  {
   "cell_type": "code",
   "execution_count": null,
   "metadata": {},
   "outputs": [],
   "source": [
    "f = lambda x,y: (x-2)**2 + (y-2)**2\n",
    "x,y,fs = easy_2D_grad_descent(f,1.9,1.9)"
   ]
  },
  {
   "cell_type": "code",
   "execution_count": 5,
   "metadata": {},
   "outputs": [],
   "source": [
    "plt.plot(fs)\n",
    "plt.xlabel(\"Step #\",fontsize=15)\n",
    "plt.ylabel(\"$f(x,y)$\",fontsize=15)\n",
    "plt.title(\"$f(x,y)$ vs. Step #\",fontsize=20)"
   ]
  },
  {
   "cell_type": "code",
   "execution_count": 6,
   "metadata": {
    "collapsed": true
   },
   "outputs": [],
   "source": [
    "cosmos = pd.read_table(\"../dat/smf_cosmos.dat\", sep=\"\\s+\",header=None)\n",
    "cosmos.rename(columns={0:\"log M_gal [dex]\",1:\"n(M_gal) [1/dex/Volume]\",2:\"error in n(M_gal)\"},inplace=True)\n",
    "\n"
   ]
  },
  {
   "cell_type": "code",
   "execution_count": 7,
   "metadata": {
    "collapsed": true
   },
   "outputs": [],
   "source": [
    "\n",
    "def schecter(x,phi,M,alpha):\n",
    "    return phi *(x/M)**(alpha+1) * np.exp(-x/M)* np.log(10)\n",
    "\n",
    "\n",
    "def chisquared(cosmos,phi,M,alpha):\n",
    "   # print(cosmos)\n",
    "    cosmos['Fitted Function'] = schecter(cosmos['log M_gal [dex]'],phi,M,alpha) #evaluate schecter with these conditions \n",
    "    cosmos['Chi Term'] = ((cosmos['n(M_gal) [1/dex/Volume]'] - cosmos['Fitted Function'])**2) / (cosmos['n(M_gal) [1/dex/Volume]'])**2\n",
    "    chisquared = sum(cosmos['Chi Term']) #this is the value to minimize\n",
    "    return chisquared\n",
    "    \n",
    "    \n",
    "\n",
    "def schechter_grad_descent(cosmos,phi0,M0,alpha0,h=1e-6,gamma=.1,tol=1e-5):\n",
    "    \"\"\"\n",
    "    Apply gradient descent to  minimize the fitting tool (chi squared in thsi case)\n",
    "    of the schecter function used to characterize the number of galaxies found in the unvierse at a given mass (scaled by some characteristic mass which we \n",
    "    will find now).\n",
    "    \n",
    "    \n",
    "    \"\"\"\n",
    "    \n",
    "    \n",
    "    phi = phi0\n",
    "    \n",
    "    M = M0\n",
    "    \n",
    "    alpha = alpha0\n",
    "    \n",
    "    \n",
    "\n",
    "    while True:\n",
    "        print(phi,M,alpha)\n",
    "        chiprime_phi = (chisquared(cosmos,phi+h,M,alpha) - chisquared(cosmos,phi-h,M,alpha)) / (2*h)\n",
    "        chiprime_M = (chisquared(cosmos,phi,M+h,alpha) - chisquared(cosmos,phi,M-h,alpha)) / (2*h)\n",
    "        chiprime_alpha = (chisquared(cosmos,phi,M,alpha+h) - chisquared(cosmos,phi,M,alpha-h)) / (2*h)\n",
    "        print(\"Chi Squared: \", chisquared(cosmos,phi,M,alpha))\n",
    "        \n",
    "        phinew = phi - gamma * chiprime_phi\n",
    "        Mnew = M - gamma * chiprime_M\n",
    "        alphanew = alpha - gamma * chiprime_alpha\n",
    "        if abs(alphanew - alpha) + abs(Mnew - M) + abs(phinew - phi) < tol:\n",
    "            break\n",
    "         \n",
    "        phi = phinew\n",
    "        M = Mnew\n",
    "        alpha = alphanew\n",
    "    return phi,M,alpha"
   ]
  },
  {
   "cell_type": "code",
   "execution_count": 9,
   "metadata": {},
   "outputs": [],
   "source": [
    "cosmos['log M_gal [dex]'] = 10** cosmos['log M_gal [dex]']"
   ]
  },
  {
   "cell_type": "code",
   "execution_count": 10,
   "metadata": {},
   "outputs": [
    {
     "data": {
      "text/html": [
       "<div>\n",
       "<style scoped>\n",
       "    .dataframe tbody tr th:only-of-type {\n",
       "        vertical-align: middle;\n",
       "    }\n",
       "\n",
       "    .dataframe tbody tr th {\n",
       "        vertical-align: top;\n",
       "    }\n",
       "\n",
       "    .dataframe thead th {\n",
       "        text-align: right;\n",
       "    }\n",
       "</style>\n",
       "<table border=\"1\" class=\"dataframe\">\n",
       "  <thead>\n",
       "    <tr style=\"text-align: right;\">\n",
       "      <th></th>\n",
       "      <th>log M_gal [dex]</th>\n",
       "      <th>n(M_gal) [1/dex/Volume]</th>\n",
       "      <th>error in n(M_gal)</th>\n",
       "    </tr>\n",
       "  </thead>\n",
       "  <tbody>\n",
       "    <tr>\n",
       "      <th>0</th>\n",
       "      <td>3.981072e+09</td>\n",
       "      <td>0.006871</td>\n",
       "      <td>0.000734</td>\n",
       "    </tr>\n",
       "    <tr>\n",
       "      <th>1</th>\n",
       "      <td>6.309573e+09</td>\n",
       "      <td>0.005688</td>\n",
       "      <td>0.000655</td>\n",
       "    </tr>\n",
       "    <tr>\n",
       "      <th>2</th>\n",
       "      <td>1.000000e+10</td>\n",
       "      <td>0.005491</td>\n",
       "      <td>0.000582</td>\n",
       "    </tr>\n",
       "    <tr>\n",
       "      <th>3</th>\n",
       "      <td>1.584893e+10</td>\n",
       "      <td>0.004989</td>\n",
       "      <td>0.000568</td>\n",
       "    </tr>\n",
       "    <tr>\n",
       "      <th>4</th>\n",
       "      <td>2.511886e+10</td>\n",
       "      <td>0.004780</td>\n",
       "      <td>0.000548</td>\n",
       "    </tr>\n",
       "    <tr>\n",
       "      <th>5</th>\n",
       "      <td>3.981072e+10</td>\n",
       "      <td>0.004230</td>\n",
       "      <td>0.000565</td>\n",
       "    </tr>\n",
       "    <tr>\n",
       "      <th>6</th>\n",
       "      <td>6.309573e+10</td>\n",
       "      <td>0.003651</td>\n",
       "      <td>0.000494</td>\n",
       "    </tr>\n",
       "    <tr>\n",
       "      <th>7</th>\n",
       "      <td>1.000000e+11</td>\n",
       "      <td>0.002253</td>\n",
       "      <td>0.000371</td>\n",
       "    </tr>\n",
       "    <tr>\n",
       "      <th>8</th>\n",
       "      <td>1.584893e+11</td>\n",
       "      <td>0.001117</td>\n",
       "      <td>0.000208</td>\n",
       "    </tr>\n",
       "    <tr>\n",
       "      <th>9</th>\n",
       "      <td>2.511886e+11</td>\n",
       "      <td>0.000418</td>\n",
       "      <td>0.000095</td>\n",
       "    </tr>\n",
       "    <tr>\n",
       "      <th>10</th>\n",
       "      <td>3.981072e+11</td>\n",
       "      <td>0.000084</td>\n",
       "      <td>0.000037</td>\n",
       "    </tr>\n",
       "    <tr>\n",
       "      <th>11</th>\n",
       "      <td>6.309573e+11</td>\n",
       "      <td>0.000012</td>\n",
       "      <td>0.000011</td>\n",
       "    </tr>\n",
       "  </tbody>\n",
       "</table>\n",
       "</div>"
      ],
      "text/plain": [
       "    log M_gal [dex]  n(M_gal) [1/dex/Volume]  error in n(M_gal)\n",
       "0      3.981072e+09                 0.006871           0.000734\n",
       "1      6.309573e+09                 0.005688           0.000655\n",
       "2      1.000000e+10                 0.005491           0.000582\n",
       "3      1.584893e+10                 0.004989           0.000568\n",
       "4      2.511886e+10                 0.004780           0.000548\n",
       "5      3.981072e+10                 0.004230           0.000565\n",
       "6      6.309573e+10                 0.003651           0.000494\n",
       "7      1.000000e+11                 0.002253           0.000371\n",
       "8      1.584893e+11                 0.001117           0.000208\n",
       "9      2.511886e+11                 0.000418           0.000095\n",
       "10     3.981072e+11                 0.000084           0.000037\n",
       "11     6.309573e+11                 0.000012           0.000011"
      ]
     },
     "execution_count": 10,
     "metadata": {},
     "output_type": "execute_result"
    }
   ],
   "source": [
    "cosmos"
   ]
  },
  {
   "cell_type": "code",
   "execution_count": 11,
   "metadata": {
    "collapsed": true
   },
   "outputs": [],
   "source": [
    "def chisquared(cosmos,phi,M,alpha):\n",
    "   # print(cosmos)\n",
    "    cosmos['Fitted Function'] = schecter(cosmos['log M_gal [dex]'],phi=phi,M=M,alpha=alpha) #evaluate schecter with these conditions \n",
    "    chi_terms = ((cosmos['n(M_gal) [1/dex/Volume]'] - cosmos['Fitted Function'])**2) #/ (cosmos['n(M_gal) [1/dex/Volume]'])\n",
    "    chisquared = sum(chi_terms) #this is the value to minimize\n",
    "    return chisquared\n",
    "    \n",
    "    \n",
    "def schecter(x,phi,M,alpha):\n",
    "    return phi *(x/M)**(alpha+1) * np.exp(-x/M)* np.log(10)\n",
    "\n"
   ]
  },
  {
   "cell_type": "code",
   "execution_count": 21,
   "metadata": {},
   "outputs": [],
   "source": [
    "grid = pd.DataFrame(columns=['Phi','M','Alpha'])\n",
    "phis = 10**np.arange(-3.2,-1,.1)\n",
    "alphas = np.arange(-6,-1,.5)\n",
    "ms = 10**np.arange(9,13,.5)"
   ]
  },
  {
   "cell_type": "code",
   "execution_count": 22,
   "metadata": {},
   "outputs": [
    {
     "data": {
      "text/plain": [
       "array([ 0.00063096,  0.00079433,  0.001     ,  0.00125893,  0.00158489,\n",
       "        0.00199526,  0.00251189,  0.00316228,  0.00398107,  0.00501187,\n",
       "        0.00630957,  0.00794328,  0.01      ,  0.01258925,  0.01584893,\n",
       "        0.01995262,  0.02511886,  0.03162278,  0.03981072,  0.05011872,\n",
       "        0.06309573,  0.07943282])"
      ]
     },
     "execution_count": 22,
     "metadata": {},
     "output_type": "execute_result"
    }
   ],
   "source": [
    "phis"
   ]
  },
  {
   "cell_type": "code",
   "execution_count": 23,
   "metadata": {
    "collapsed": true
   },
   "outputs": [],
   "source": [
    "X,Y,Z = np.meshgrid(phis,alphas,ms)"
   ]
  },
  {
   "cell_type": "code",
   "execution_count": 24,
   "metadata": {
    "collapsed": true
   },
   "outputs": [],
   "source": [
    "\n",
    "grid['Phi'] = X.flatten()\n",
    "grid['M'] = Z.flatten()\n",
    "grid['Alpha'] = Y.flatten()"
   ]
  },
  {
   "cell_type": "code",
   "execution_count": 25,
   "metadata": {},
   "outputs": [],
   "source": [
    "\n",
    "grid['Chi Squared'] = grid.apply(lambda z: chisquared(cosmos,phi=z['Phi'],M=z['M'],alpha=z['Alpha']),axis = 1)"
   ]
  },
  {
   "cell_type": "code",
   "execution_count": 26,
   "metadata": {},
   "outputs": [],
   "source": [
    "phi = grid.loc[grid['Chi Squared'] == grid['Chi Squared'].min()]['Phi'].values[0]\n",
    "alpha = grid.loc[grid['Chi Squared'] == grid['Chi Squared'].min()]['Alpha'].values[0]\n",
    "M = grid.loc[grid['Chi Squared'] == grid['Chi Squared'].min()]['M'].values[0]"
   ]
  },
  {
   "cell_type": "code",
   "execution_count": 34,
   "metadata": {},
   "outputs": [
    {
     "data": {
      "text/html": [
       "<div>\n",
       "<style scoped>\n",
       "    .dataframe tbody tr th:only-of-type {\n",
       "        vertical-align: middle;\n",
       "    }\n",
       "\n",
       "    .dataframe tbody tr th {\n",
       "        vertical-align: top;\n",
       "    }\n",
       "\n",
       "    .dataframe thead th {\n",
       "        text-align: right;\n",
       "    }\n",
       "</style>\n",
       "<table border=\"1\" class=\"dataframe\">\n",
       "  <thead>\n",
       "    <tr style=\"text-align: right;\">\n",
       "      <th></th>\n",
       "      <th>Phi</th>\n",
       "      <th>M</th>\n",
       "      <th>Alpha</th>\n",
       "      <th>Chi Squared</th>\n",
       "    </tr>\n",
       "  </thead>\n",
       "  <tbody>\n",
       "    <tr>\n",
       "      <th>1596</th>\n",
       "      <td>0.000794</td>\n",
       "      <td>1.000000e+11</td>\n",
       "      <td>-1.5</td>\n",
       "      <td>0.000024</td>\n",
       "    </tr>\n",
       "  </tbody>\n",
       "</table>\n",
       "</div>"
      ],
      "text/plain": [
       "           Phi             M  Alpha  Chi Squared\n",
       "1596  0.000794  1.000000e+11   -1.5     0.000024"
      ]
     },
     "execution_count": 34,
     "metadata": {},
     "output_type": "execute_result"
    }
   ],
   "source": [
    "grid.loc[grid['Chi Squared'] == grid['Chi Squared'].min()]"
   ]
  },
  {
   "cell_type": "code",
   "execution_count": 27,
   "metadata": {},
   "outputs": [],
   "source": [
    "cosmos['Fitted Function'] = schecter(cosmos['log M_gal [dex]'],alpha=alpha,M=M,phi=phi)"
   ]
  },
  {
   "cell_type": "code",
   "execution_count": 28,
   "metadata": {},
   "outputs": [
    {
     "data": {
      "text/plain": [
       "[<matplotlib.lines.Line2D at 0x12647f780>]"
      ]
     },
     "execution_count": 28,
     "metadata": {},
     "output_type": "execute_result"
    },
    {
     "data": {
      "image/png": "[encoded data removed]",
      "text/plain": [
       "<Figure size 432x288 with 1 Axes>"
      ]
     },
     "metadata": {},
     "output_type": "display_data"
    }
   ],
   "source": [
    "plt.plot(cosmos['log M_gal [dex]'],cosmos['Fitted Function'])"
   ]
  },
  {
   "cell_type": "code",
   "execution_count": 43,
   "metadata": {
    "scrolled": true
   },
   "outputs": [
    {
     "data": {
      "image/png": "[encoded data removed]",
      "text/plain": [
       "<Figure size 432x288 with 1 Axes>"
      ]
     },
     "metadata": {},
     "output_type": "display_data"
    }
   ],
   "source": [
    "#plt.plot(df['log M_gal [dex]'],df['n(M_gal) [1/dex/Volume]'],'bo')\n",
    "plt.errorbar(x = cosmos['log M_gal [dex]'],y=(cosmos['n(M_gal) [1/dex/Volume]']),\n",
    "             yerr=cosmos['error in n(M_gal)'],marker='o',ls='')\n",
    "plt.title(\"Grid Search Method\")\n",
    "plt.plot(cosmos['log M_gal [dex]'],cosmos['Fitted Function'])\n",
    "plt.yscale('log')\n",
    "plt.xscale('log')"
   ]
  },
  {
   "cell_type": "markdown",
   "metadata": {
    "collapsed": true
   },
   "source": [
    "REWRITE G DESCENT\n",
    "\n",
    "LOG STEP SIZE, START WITH THOSE HUGE NUMBERS "
   ]
  },
  {
   "cell_type": "markdown",
   "metadata": {},
   "source": [
    "Gradient Descent here"
   ]
  },
  {
   "cell_type": "code",
   "execution_count": null,
   "metadata": {
    "collapsed": true
   },
   "outputs": [],
   "source": [
    "phis = np.arange(-1,2)\n",
    "Ms = np.arange(10,11,.1)\n",
    "alphas = np.arange(-10,-1,.1)\n",
    "chimin = 1e5\n",
    "for phi in phis:\n",
    "    for M in Ms:\n",
    "        for alpha in alphas:\n",
    "            chisqua = chisquared(cosmos=cosmos,phi=phi,M=M,alpha=alpha)\n",
    "            if chisqua < chimin:\n",
    "                print(\"New Chi Min of \", chisqua)\n",
    "                print(\"Params: \", phi,M,alpha)\n",
    "                chimin = chisqua\n",
    "                phimin = phi\n",
    "                Mmin = M\n",
    "                alphamin = alpha"
   ]
  },
  {
   "cell_type": "code",
   "execution_count": 39,
   "metadata": {
    "collapsed": true
   },
   "outputs": [],
   "source": [
    "\n",
    "def schecter(x,phi,M,alpha):\n",
    "    return phi * (x/M)**(alpha+1) * np.exp(-x/M) * 2.30258509299\n",
    "\n",
    "\n",
    "def chisquared(cosmos,phi,M,alpha):\n",
    "   # print(cosmos)\n",
    "    cosmos['Fitted Function'] = schecter(cosmos['log M_gal [dex]'],phi=phi,M=M,alpha=alpha) #evaluate schecter with these conditions \n",
    "    chi_terms = ((cosmos['n(M_gal) [1/dex/Volume]'] - cosmos['Fitted Function'])**2) / (cosmos['n(M_gal) [1/dex/Volume]'])\n",
    "    chisquared = sum(chi_terms) #this is the value to minimize\n",
    "    return chisquared\n",
    "    \n",
    "    \n",
    "\n",
    "def schechter_grad_descent(phi0,M0,alpha0,h=1,gamma=.01,tol=1e-5):\n",
    "    \"\"\"\n",
    "    Apply gradient descent to  minimize the fitting tool (chi squared in thsi case)\n",
    "    of the schecter function used to characterize the number of galaxies found in the unvierse at a given mass (scaled by some characteristic mass which we \n",
    "    will find now).\n",
    "    \n",
    "    \n",
    "    \n",
    "    This needs to be a log step, and start around \n",
    "  \n",
    "  phi 0.000794\n",
    "   \n",
    "   M\n",
    "    1.000000e+11\n",
    "    \n",
    "    alpha \n",
    "    -1.5\n",
    "    \n",
    "    \n",
    "    \"\"\"\n",
    "    \n",
    "    \n",
    "    phi = phi0\n",
    "    \n",
    "    M = M0\n",
    "    \n",
    "    alpha = alpha0\n",
    "    \n",
    "    \n",
    "    i = 0\n",
    "    chiterms = []\n",
    "    phis = []\n",
    "    Ms = []\n",
    "    alphas = []\n",
    "    while True:\n",
    "        cosmos = pd.read_table(\"../dat/smf_cosmos.dat\", sep=\"\\s+\",header=None)\n",
    "        cosmos.rename(columns={0:\"log M_gal [dex]\",1:\"n(M_gal) [1/dex/Volume]\",2:\"error in n(M_gal)\"},inplace=True)\n",
    "        cosmos['log M_gal [dex]'] = 10** cosmos['log M_gal [dex]']\n",
    "        chiprime_phi = (chisquared(cosmos,phi+h,M,alpha) - chisquared(cosmos,phi,M,alpha)) / (h)\n",
    "        \n",
    "     #   print(\"Chi squared: \")\n",
    "     #   print(chisquared(cosmos,phi,M,alpha))\n",
    "     #   print(\"Chisquared + h\" )\n",
    "     #   print(chisquared(cosmos,phi+h,M,alpha))\n",
    "        phinew = phi - gamma * chiprime_phi\n",
    "\n",
    "        chiprime_M = (chisquared(cosmos,phi,M+h,alpha) - chisquared(cosmos,phi,M,alpha)) / (h)\n",
    "        Mnew = M - gamma * chiprime_M\n",
    "        \n",
    "        chiprime_alpha = (chisquared(cosmos,phi,M,alpha+h) - chisquared(cosmos,phi,M,alpha)) / (h)\n",
    "        \n",
    "        alphanew = alpha - gamma * chiprime_alpha\n",
    "      #  print(\"starting vals: \")\n",
    "      #  print(phi,M,alpha)\n",
    "      #  print(\"Derivatives: \")\n",
    "      #  print(chiprime_phi,chiprime_M,chiprime_alpha)\n",
    "       # print(\"Grad descent vals: \")\n",
    "      #  print(phinew,Mnew,alphanew)\n",
    "        if abs(chisquared(cosmos,phi,M,alpha) - chisquared(cosmos,phinew,Mnew,alphanew)) < tol:\n",
    "            print(\"Best vals: \", phi,M,alpha)\n",
    "            break\n",
    "        \n",
    "        phi = phinew\n",
    "        M = Mnew\n",
    "        alpha = alphanew\n",
    "        chiterms.append(chisquared(cosmos,phi,M,alpha))\n",
    "        print(chisquared(cosmos,phi,M,alpha))\n",
    "        phis.append(phi)\n",
    "        Ms.append(M)\n",
    "        alphas.append(alpha)\n",
    "        i+=1\n",
    "        \n",
    "        \n",
    "    return chiterms,phis,Ms,alphas,i"
   ]
  },
  {
   "cell_type": "code",
   "execution_count": 40,
   "metadata": {},
   "outputs": [
    {
     "data": {
      "text/plain": [
       "0     3.981072e+09\n",
       "1     6.309573e+09\n",
       "2     1.000000e+10\n",
       "3     1.584893e+10\n",
       "4     2.511886e+10\n",
       "5     3.981072e+10\n",
       "6     6.309573e+10\n",
       "7     1.000000e+11\n",
       "8     1.584893e+11\n",
       "9     2.511886e+11\n",
       "10    3.981072e+11\n",
       "11    6.309573e+11\n",
       "Name: log M_gal [dex], dtype: float64"
      ]
     },
     "execution_count": 40,
     "metadata": {},
     "output_type": "execute_result"
    }
   ],
   "source": [
    "cosmos['log M_gal [dex]']"
   ]
  },
  {
   "cell_type": "code",
   "execution_count": 41,
   "metadata": {},
   "outputs": [
    {
     "name": "stdout",
     "output_type": "stream",
     "text": [
      "Best vals:  8 10.5 1\n"
     ]
    }
   ],
   "source": [
    "chiterms,phis,Ms,alphas,i = schechter_grad_descent(8,10.5,1,gamma=.5,tol=1e-2)"
   ]
  },
  {
   "cell_type": "code",
   "execution_count": null,
   "metadata": {
    "collapsed": true
   },
   "outputs": [],
   "source": [
    "plt.plot(range(i),chiterms)"
   ]
  },
  {
   "cell_type": "code",
   "execution_count": null,
   "metadata": {
    "collapsed": true
   },
   "outputs": [],
   "source": [
    "plt.plot(range(i),phis)"
   ]
  },
  {
   "cell_type": "code",
   "execution_count": null,
   "metadata": {
    "collapsed": true
   },
   "outputs": [],
   "source": [
    "plt.plot(range(i),Ms)"
   ]
  },
  {
   "cell_type": "code",
   "execution_count": null,
   "metadata": {
    "collapsed": true
   },
   "outputs": [],
   "source": [
    "plt.plot(range(i),alphas)"
   ]
  },
  {
   "cell_type": "code",
   "execution_count": null,
   "metadata": {
    "collapsed": true
   },
   "outputs": [],
   "source": [
    "cosmos['Fitted Function'] = schecter(cosmos['log M_gal [dex]'],alpha=-11,M=5,phi=8)"
   ]
  },
  {
   "cell_type": "code",
   "execution_count": null,
   "metadata": {
    "collapsed": true
   },
   "outputs": [],
   "source": []
  },
  {
   "cell_type": "code",
   "execution_count": null,
   "metadata": {},
   "outputs": [],
   "source": [
    "plt.plot(cosmos['log M_gal [dex]'],cosmos['Fitted Function'])"
   ]
  },
  {
   "cell_type": "code",
   "execution_count": null,
   "metadata": {},
   "outputs": [],
   "source": [
    "#plt.plot(df['log M_gal [dex]'],df['n(M_gal) [1/dex/Volume]'],'bo')\n",
    "plt.errorbar(x = cosmos['log M_gal [dex]'],y=np.log10(cosmos['n(M_gal) [1/dex/Volume]']),\n",
    "             yerr=cosmos['error in n(M_gal)'],marker='o',ls='')\n",
    "\n",
    "plt.plot(cosmos['log M_gal [dex]'],cosmos['Fitted Function'])\n"
   ]
  },
  {
   "cell_type": "markdown",
   "metadata": {},
   "source": [
    "Now we try to fit the schecter function!"
   ]
  },
  {
   "cell_type": "code",
   "execution_count": null,
   "metadata": {
    "collapsed": true
   },
   "outputs": [],
   "source": []
  }
 ],
 "metadata": {
  "kernelspec": {
   "display_name": "Python 3",
   "language": "python",
   "name": "python3"
  },
  "language_info": {
   "codemirror_mode": {
    "name": "ipython",
    "version": 3
   },
   "file_extension": ".py",
   "mimetype": "text/x-python",
   "name": "python",
   "nbconvert_exporter": "python",
   "pygments_lexer": "ipython3",
   "version": "3.6.7"
  }
 },
 "nbformat": 4,
 "nbformat_minor": 2
}
