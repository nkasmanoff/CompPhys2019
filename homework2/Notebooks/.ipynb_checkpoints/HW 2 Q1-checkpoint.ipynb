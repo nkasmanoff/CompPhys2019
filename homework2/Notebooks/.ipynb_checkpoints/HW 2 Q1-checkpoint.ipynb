{
 "cells": [
  {
   "cell_type": "code",
   "execution_count": 2,
   "metadata": {
    "collapsed": true
   },
   "outputs": [],
   "source": [
    "import numpy as np\n",
    "import pandas as pd\n",
    "import matplotlib.pyplot as plt\n",
    "%matplotlib inline"
   ]
  },
  {
   "cell_type": "markdown",
   "metadata": {},
   "source": [
    "# 6.10 \n",
    "\n",
    "It says to do this problem before 6.11"
   ]
  },
  {
   "cell_type": "code",
   "execution_count": 3,
   "metadata": {
    "collapsed": true
   },
   "outputs": [],
   "source": [
    "def relaxation_method(x0,f,etol):\n",
    "    \"\"\"Starting at some initial value x0, \n",
    "    apply the relaxation method until convergence (below etol) to the function f. \n",
    "    \n",
    "    \"\"\"\n",
    "    x = x0\n",
    "    steps = 0\n",
    "    while abs(x - f(x)) > etol:\n",
    "\n",
    "        x = f(x)\n",
    "      #  print(x,f(x))\n",
    "\n",
    "        steps +=1\n",
    "    return x,steps"
   ]
  },
  {
   "cell_type": "markdown",
   "metadata": {},
   "source": [
    "a) see code"
   ]
  },
  {
   "cell_type": "code",
   "execution_count": 4,
   "metadata": {},
   "outputs": [
    {
     "data": {
      "text/plain": [
       "(0.79681336309667961, 14)"
      ]
     },
     "execution_count": 4,
     "metadata": {},
     "output_type": "execute_result"
    }
   ],
   "source": [
    "c = 2\n",
    "f = lambda x: 1-np.exp(-c*x)\n",
    "relaxation_method(10,f,1e-6)"
   ]
  },
  {
   "cell_type": "markdown",
   "metadata": {},
   "source": [
    "b) Using the relaxation method, we can calculate the solution for values of c from 0 to 3 (in the function $x = 1 - e^{cx}$,  stepping by 0.01 and plot of x as a function of c. We observe a clear transition from a regime in which x = 0 to a regime of nonzero x. This is another example of a phase transition, and in physics this transition is known as the percolation transition; in epidemiology it is the epidemic threshold."
   ]
  },
  {
   "cell_type": "code",
   "execution_count": 5,
   "metadata": {
    "collapsed": true,
    "scrolled": true
   },
   "outputs": [],
   "source": [
    "cs = np.arange(0,3,.01)\n",
    "xs = []\n",
    "for c in cs:\n",
    "    f = lambda x: 1-np.exp(-c*x)\n",
    "    x = relaxation_method(10,f,1e-6)[0]\n",
    "    xs.append(x)"
   ]
  },
  {
   "cell_type": "code",
   "execution_count": 11,
   "metadata": {},
   "outputs": [
    {
     "data": {
      "text/plain": [
       "Text(0, 0.5, '$x$')"
      ]
     },
     "execution_count": 11,
     "metadata": {},
     "output_type": "execute_result"
    },
    {
     "data": {
      "image/png": "[encoded data removed]",
      "text/plain": [
       "<Figure size 432x288 with 1 Axes>"
      ]
     },
     "metadata": {},
     "output_type": "display_data"
    }
   ],
   "source": [
    "plt.figure(figsize=(6,4))\n",
    "plt.plot(cs,xs,linewidth = 3)\n",
    "plt.xlabel('$c$',fontsize = 20)\n",
    "plt.ylabel('$x$',fontsize = 20)\n",
    "#plt.yscale('log')\n",
    "#plt.xscale('log')"
   ]
  },
  {
   "cell_type": "markdown",
   "metadata": {},
   "source": [
    "We observe this percolation transition at c=1"
   ]
  },
  {
   "cell_type": "markdown",
   "metadata": {},
   "source": [
    "# 6.11\n",
    "\n",
    "The ordinary relaxation method involves iterating the equation x′ = f(x), starting from an initial guess, until it converges. As we have seen, this is often a fast and easy way to find solutions to nonlinear equations. However, it is possible in some cases to make the method work even faster using the technique of overrelaxation. Suppose our initial guess at the solution of a particular equation is, say, x = 1, and the final, true solution is x = 5. After the first step of the iterative process, we might then see a value of, say, x = 3. In the overrelaxation method, we observe this value and note that x is increasing, then we deliberately overshoot the calculated value, in the hope that this will get us closer to the final solution—in this case we might pass over x = 3 and go straight to a value of x = 4 perhaps, which is closer to the final solution of x = 5 and hence should get us to that solution quicker. The overrelaxation method provides a formula for performing this kind of overshooting in a controlled fashion and often, though not\n",
    "always, it does get us to our solution faster. In detail, it works as follows. We can rewrite the equation x′ = f (x) in the form x′ = x + ∆x, where \n",
    "\n",
    "∆x = x′ − x = f (x) − x.\n",
    "\n",
    "The overrelaxation method involves iteration of the modified equation\n",
    "\n",
    "x′ = x + (1 + ω) ∆x,\n",
    "\n",
    "\n",
    "(keeping the definition of ∆x the same). If the parameter ω is zero, then this is the same as the ordinary relaxation method, but for ω > 0 the method takes the amount ∆x by which the value of x would have been changed and changes by a little more. Using ∆x = f (x) − x, we can also write x′ as\n",
    "\n",
    "\n",
    "x′ =x+(1+ω)􏰂f(x)−x􏰃=(1+ω)f(x)−ωx,\n",
    "\n"
   ]
  },
  {
   "cell_type": "markdown",
   "metadata": {},
   "source": [
    "Now 6.11, to expedite the rate of convergence of the relaxation method, we can include an additional parameter $\\omega$. If $\\omega >0$ the relaxation method is now over-relaxed, whereas if $\\omega < 0$ the relaxation method is now under-relaxed. In the initial form of the relaxation method we obtained that value for the error on the calclated value is $\\epsilon' = \\frac{}{}$. By following a similar procedure of Taylor expanding around the true value of the function but applying the new formulation of relaxation (given as $x' = (1+\\omega)f(x) - \\omega x$, we first ___, then by )___ we find the new value of error in each new step to be ... As we would expect, this value of epsilon is larger than the one previously obtained, assuring that this new formulation should provide a faster rate of converging. "
   ]
  },
  {
   "cell_type": "markdown",
   "metadata": {},
   "source": [
    "# a)\n",
    "\n",
    "\n",
    "Derive an equivalent of Eq. (6.81) for the overrelaxation method and hence show that the error on x′, the equivalent of Eq. (6.83), is given by"
   ]
  },
  {
   "cell_type": "markdown",
   "metadata": {},
   "source": [
    "# b) \n",
    "\n",
    "Consider again the equation x = 1 − exp(−cx) that we solved in Exercise 6.10. Take the program you wrote for part (a) of that exercise, which solved the equation for the case c = 2, and modify it to print out the number of iterations it takes to converge to a solution accurate to 10−6.\n",
    "\n",
    "\n",
    "We again consider the function $x = 1 - e^{-cx}$, and solve using the relaxation method. As shown by using the function in q1.py, we see that the original relaxation method takes 13 steps to converge below 1e-6. "
   ]
  },
  {
   "cell_type": "code",
   "execution_count": 62,
   "metadata": {
    "collapsed": true
   },
   "outputs": [],
   "source": [
    "def overrelaxation_method(x0,f,w,etol):\n",
    "    \"\"\"Starting at some initial value x0, \n",
    "    apply the relaxation method until convergence (below etol) to the function f. \n",
    "    \n",
    "    \"\"\"\n",
    "    steps = 0\n",
    "    x = x0\n",
    "    while abs(x - f(x)) > etol:\n",
    "      #  delta_x = x - f(x) #this is the current x\n",
    "      #  x = x + (1 + w)*delta_x\n",
    "        x = (1+w)*f(x) - w*x\n",
    "   #     print(x,f(x))\n",
    "        steps +=1\n",
    "        if type(x/np.inf) == type(np.nan):\n",
    "            return x,1000\n",
    "  #  print(\"Steps to converge = \", steps)\n",
    "    return x,steps"
   ]
  },
  {
   "cell_type": "code",
   "execution_count": 63,
   "metadata": {
    "scrolled": true
   },
   "outputs": [
    {
     "data": {
      "text/plain": [
       "(0.79681336309668871, 13)"
      ]
     },
     "execution_count": 63,
     "metadata": {},
     "output_type": "execute_result"
    }
   ],
   "source": [
    "c = 2\n",
    "f = lambda x: 1-np.exp(-c*x)\n",
    "relaxation_method(1,f,1e-6)"
   ]
  },
  {
   "cell_type": "code",
   "execution_count": 64,
   "metadata": {},
   "outputs": [
    {
     "data": {
      "text/plain": [
       "(0.79681237298326191, 4)"
      ]
     },
     "execution_count": 64,
     "metadata": {},
     "output_type": "execute_result"
    }
   ],
   "source": [
    "c = 2\n",
    "f = lambda x: 1-np.exp(-c*x)\n",
    "overrelaxation_method(1,f,.5,1e-6)"
   ]
  },
  {
   "cell_type": "code",
   "execution_count": 65,
   "metadata": {},
   "outputs": [
    {
     "name": "stdout",
     "output_type": "stream",
     "text": [
      "The overrelaxation method takes  4  steps to converge.\n",
      "By comparison, the relaxation method took  13  steps.\n"
     ]
    }
   ],
   "source": [
    "print(\"The overrelaxation method takes \", overrelaxation_method(1,f,.5,1e-6)[1], ' steps to converge.')\n",
    "print(\"By comparison, the relaxation method took \", relaxation_method(1,f,1e-6)[1], \" steps.\")"
   ]
  },
  {
   "cell_type": "markdown",
   "metadata": {},
   "source": [
    "c) Now write a new program (or modify the previous one) to solve the same equation x = 1 − e−cx for c = 2, again to an accuracy of 10−6, but this time using overrelaxation. Have your program print out the answers it finds along with the number of iterations it took to find them. Experiment with different values of ω to see how fast you can get the method to converge. A value of ω = 0.5 is a reasonable starting point. With some trial and error you should be able to get the calculation to converge about twice as fast as the simple relaxation method, i.e., in about half as many iterations."
   ]
  },
  {
   "cell_type": "code",
   "execution_count": 66,
   "metadata": {
    "collapsed": true
   },
   "outputs": [],
   "source": [
    "ws = np.arange(0,1,.1)\n",
    "convergence_steps = []\n",
    "for w in ws:\n",
    "    convergence_steps.append(\n",
    "    overrelaxation_method(1,f,w,1e-6)[1]\n",
    "    )"
   ]
  },
  {
   "cell_type": "code",
   "execution_count": 67,
   "metadata": {},
   "outputs": [
    {
     "data": {
      "text/plain": [
       "Text(0, 0.5, 'Steps to Converge')"
      ]
     },
     "execution_count": 67,
     "metadata": {},
     "output_type": "execute_result"
    },
    {
     "data": {
      "image/png": "[encoded data removed]",
      "text/plain": [
       "<Figure size 432x288 with 1 Axes>"
      ]
     },
     "metadata": {},
     "output_type": "display_data"
    }
   ],
   "source": [
    "plt.figure(figsize=(6,4))\n",
    "plt.plot(ws,convergence_steps,linewidth = 3)\n",
    "#plt.title(\"Steps to Convergence vs. w\")\n",
    "plt.xlabel('$\\omega$',fontsize = 20)\n",
    "plt.ylabel('Steps to Converge',fontsize=20)"
   ]
  },
  {
   "cell_type": "markdown",
   "metadata": {},
   "source": [
    "For this particular function and starting point, the optimal value for w is around 0.5, but seems to be somewhere within there and 0.7. "
   ]
  },
  {
   "cell_type": "markdown",
   "metadata": {},
   "source": [
    "# d) Are there any circumstances under which using a value ω < 0 would help us find a solution faster than we can with the ordinary relaxation method? (Hint: The answer is yes, but why?)"
   ]
  },
  {
   "cell_type": "markdown",
   "metadata": {
    "collapsed": true
   },
   "source": [
    "As stated in the question, yes, there are scenarios where making $\\omega < 0$ helps us find a solution than when we use ordinary relaxation. \n",
    "\n",
    "In order for a situation like this to arise, we consider the case of when a function would not normally converge. \n",
    "\n",
    "Generally speaking, the reason for such a failure is that the value of x at each iterative step never gets closer to it's true value. And in this same circumstance, if we allow the new value $x'$ to be smaller than the relaxation prediction, it will gradually converge when it woudn't. This is the utility of under-relaxation. "
   ]
  },
  {
   "cell_type": "markdown",
   "metadata": {
    "collapsed": true
   },
   "source": [
    "Under relaxation is used to help make functions that normally do converge, but don't under normal conditions of relaxing will go too far. "
   ]
  },
  {
   "cell_type": "code",
   "execution_count": 68,
   "metadata": {},
   "outputs": [
    {
     "name": "stderr",
     "output_type": "stream",
     "text": [
      "/Users/noahkasmanoff/anaconda/lib/python3.6/site-packages/ipykernel/__main__.py:3: RuntimeWarning: overflow encountered in double_scalars\n",
      "  app.launch_new_instance()\n",
      "/Users/noahkasmanoff/anaconda/lib/python3.6/site-packages/ipykernel/__main__.py:14: RuntimeWarning: invalid value encountered in double_scalars\n"
     ]
    },
    {
     "ename": "KeyboardInterrupt",
     "evalue": "",
     "output_type": "error",
     "traceback": [
      "\u001b[0;31m---------------------------------------------------------------------------\u001b[0m",
      "\u001b[0;31mKeyboardInterrupt\u001b[0m                         Traceback (most recent call last)",
      "\u001b[0;32m<ipython-input-68-aea30111f5a8>\u001b[0m in \u001b[0;36m<module>\u001b[0;34m()\u001b[0m\n\u001b[1;32m      6\u001b[0m \u001b[0;32mfor\u001b[0m \u001b[0mw\u001b[0m \u001b[0;32min\u001b[0m \u001b[0mws\u001b[0m\u001b[0;34m:\u001b[0m\u001b[0;34m\u001b[0m\u001b[0;34m\u001b[0m\u001b[0m\n\u001b[1;32m      7\u001b[0m     convergence_steps.append(\n\u001b[0;32m----> 8\u001b[0;31m     \u001b[0moverrelaxation_method\u001b[0m\u001b[0;34m(\u001b[0m\u001b[0;36m1\u001b[0m\u001b[0;34m,\u001b[0m\u001b[0mf\u001b[0m\u001b[0;34m,\u001b[0m\u001b[0mw\u001b[0m\u001b[0;34m,\u001b[0m\u001b[0;36m1e-6\u001b[0m\u001b[0;34m)\u001b[0m\u001b[0;34m[\u001b[0m\u001b[0;36m1\u001b[0m\u001b[0;34m]\u001b[0m\u001b[0;34m\u001b[0m\u001b[0;34m\u001b[0m\u001b[0m\n\u001b[0m\u001b[1;32m      9\u001b[0m     )\n\u001b[1;32m     10\u001b[0m \u001b[0;34m\u001b[0m\u001b[0m\n",
      "\u001b[0;32m<ipython-input-62-786f87fbe396>\u001b[0m in \u001b[0;36moverrelaxation_method\u001b[0;34m(x0, f, w, etol)\u001b[0m\n\u001b[1;32m     12\u001b[0m    \u001b[0;31m#     print(x,f(x))\u001b[0m\u001b[0;34m\u001b[0m\u001b[0;34m\u001b[0m\u001b[0;34m\u001b[0m\u001b[0m\n\u001b[1;32m     13\u001b[0m         \u001b[0msteps\u001b[0m \u001b[0;34m+=\u001b[0m\u001b[0;36m1\u001b[0m\u001b[0;34m\u001b[0m\u001b[0;34m\u001b[0m\u001b[0m\n\u001b[0;32m---> 14\u001b[0;31m         \u001b[0;32mif\u001b[0m \u001b[0mtype\u001b[0m\u001b[0;34m(\u001b[0m\u001b[0mx\u001b[0m\u001b[0;34m/\u001b[0m\u001b[0mnp\u001b[0m\u001b[0;34m.\u001b[0m\u001b[0minf\u001b[0m\u001b[0;34m)\u001b[0m \u001b[0;34m==\u001b[0m \u001b[0mtype\u001b[0m\u001b[0;34m(\u001b[0m\u001b[0mnp\u001b[0m\u001b[0;34m.\u001b[0m\u001b[0mnan\u001b[0m\u001b[0;34m)\u001b[0m\u001b[0;34m:\u001b[0m\u001b[0;34m\u001b[0m\u001b[0;34m\u001b[0m\u001b[0m\n\u001b[0m\u001b[1;32m     15\u001b[0m             \u001b[0;32mreturn\u001b[0m \u001b[0mx\u001b[0m\u001b[0;34m,\u001b[0m\u001b[0;36m1000\u001b[0m\u001b[0;34m\u001b[0m\u001b[0;34m\u001b[0m\u001b[0m\n\u001b[1;32m     16\u001b[0m   \u001b[0;31m#  print(\"Steps to converge = \", steps)\u001b[0m\u001b[0;34m\u001b[0m\u001b[0;34m\u001b[0m\u001b[0;34m\u001b[0m\u001b[0m\n",
      "\u001b[0;31mKeyboardInterrupt\u001b[0m: "
     ]
    }
   ],
   "source": [
    "c = 2\n",
    "f = lambda x: 1-np.exp(-c*x)\n",
    "f = lambda x: 1 - x**3\n",
    "ws = np.arange(-9,1,.1)\n",
    "convergence_steps = []\n",
    "for w in ws:\n",
    "    convergence_steps.append(\n",
    "    overrelaxation_method(1,f,w,1e-6)[1]\n",
    "    )\n",
    "    \n",
    "    "
   ]
  },
  {
   "cell_type": "code",
   "execution_count": 40,
   "metadata": {},
   "outputs": [
    {
     "name": "stdout",
     "output_type": "stream",
     "text": [
      "> \u001b[0;32m<ipython-input-39-aea30111f5a8>\u001b[0m(3)\u001b[0;36m<lambda>\u001b[0;34m()\u001b[0m\n",
      "\u001b[0;32m      1 \u001b[0;31m\u001b[0mc\u001b[0m \u001b[0;34m=\u001b[0m \u001b[0;36m2\u001b[0m\u001b[0;34m\u001b[0m\u001b[0;34m\u001b[0m\u001b[0m\n",
      "\u001b[0m\u001b[0;32m      2 \u001b[0;31m\u001b[0mf\u001b[0m \u001b[0;34m=\u001b[0m \u001b[0;32mlambda\u001b[0m \u001b[0mx\u001b[0m\u001b[0;34m:\u001b[0m \u001b[0;36m1\u001b[0m\u001b[0;34m-\u001b[0m\u001b[0mnp\u001b[0m\u001b[0;34m.\u001b[0m\u001b[0mexp\u001b[0m\u001b[0;34m(\u001b[0m\u001b[0;34m-\u001b[0m\u001b[0mc\u001b[0m\u001b[0;34m*\u001b[0m\u001b[0mx\u001b[0m\u001b[0;34m)\u001b[0m\u001b[0;34m\u001b[0m\u001b[0;34m\u001b[0m\u001b[0m\n",
      "\u001b[0m\u001b[0;32m----> 3 \u001b[0;31m\u001b[0mf\u001b[0m \u001b[0;34m=\u001b[0m \u001b[0;32mlambda\u001b[0m \u001b[0mx\u001b[0m\u001b[0;34m:\u001b[0m \u001b[0;36m1\u001b[0m \u001b[0;34m-\u001b[0m \u001b[0mx\u001b[0m\u001b[0;34m**\u001b[0m\u001b[0;36m3\u001b[0m\u001b[0;34m\u001b[0m\u001b[0;34m\u001b[0m\u001b[0m\n",
      "\u001b[0m\u001b[0;32m      4 \u001b[0;31m\u001b[0mws\u001b[0m \u001b[0;34m=\u001b[0m \u001b[0mnp\u001b[0m\u001b[0;34m.\u001b[0m\u001b[0marange\u001b[0m\u001b[0;34m(\u001b[0m\u001b[0;34m-\u001b[0m\u001b[0;36m9\u001b[0m\u001b[0;34m,\u001b[0m\u001b[0;36m1\u001b[0m\u001b[0;34m,\u001b[0m\u001b[0;36m.1\u001b[0m\u001b[0;34m)\u001b[0m\u001b[0;34m\u001b[0m\u001b[0;34m\u001b[0m\u001b[0m\n",
      "\u001b[0m\u001b[0;32m      5 \u001b[0;31m\u001b[0mconvergence_steps\u001b[0m \u001b[0;34m=\u001b[0m \u001b[0;34m[\u001b[0m\u001b[0;34m]\u001b[0m\u001b[0;34m\u001b[0m\u001b[0;34m\u001b[0m\u001b[0m\n",
      "\u001b[0m\n",
      "ipdb> x\n",
      "inf\n",
      "ipdb> exit\n"
     ]
    }
   ],
   "source": [
    "%debug"
   ]
  },
  {
   "cell_type": "code",
   "execution_count": 38,
   "metadata": {},
   "outputs": [
    {
     "data": {
      "text/plain": [
       "[<matplotlib.lines.Line2D at 0x120451fd0>]"
      ]
     },
     "execution_count": 38,
     "metadata": {},
     "output_type": "execute_result"
    },
    {
     "data": {
      "image/png": "[encoded data removed]",
      "text/plain": [
       "<Figure size 432x288 with 1 Axes>"
      ]
     },
     "metadata": {},
     "output_type": "display_data"
    }
   ],
   "source": [
    "c = 2\n",
    "f = lambda x: 1-np.exp(-c*x)\n",
    "xs = np.arange(-3,3,.1)\n",
    "plt.plot(xs,f(xs))"
   ]
  },
  {
   "cell_type": "code",
   "execution_count": 60,
   "metadata": {},
   "outputs": [
    {
     "data": {
      "text/plain": [
       "nan"
      ]
     },
     "execution_count": 60,
     "metadata": {},
     "output_type": "execute_result"
    }
   ],
   "source": [
    "x"
   ]
  },
  {
   "cell_type": "code",
   "execution_count": 61,
   "metadata": {},
   "outputs": [
    {
     "data": {
      "text/plain": [
       "0.0"
      ]
     },
     "execution_count": 61,
     "metadata": {},
     "output_type": "execute_result"
    }
   ],
   "source": [
    "3 / np.inf"
   ]
  },
  {
   "cell_type": "code",
   "execution_count": null,
   "metadata": {
    "collapsed": true
   },
   "outputs": [],
   "source": []
  }
 ],
 "metadata": {
  "kernelspec": {
   "display_name": "Python 3",
   "language": "python",
   "name": "python3"
  },
  "language_info": {
   "codemirror_mode": {
    "name": "ipython",
    "version": 3
   },
   "file_extension": ".py",
   "mimetype": "text/x-python",
   "name": "python",
   "nbconvert_exporter": "python",
   "pygments_lexer": "ipython3",
   "version": "3.6.7"
  }
 },
 "nbformat": 4,
 "nbformat_minor": 2
}
