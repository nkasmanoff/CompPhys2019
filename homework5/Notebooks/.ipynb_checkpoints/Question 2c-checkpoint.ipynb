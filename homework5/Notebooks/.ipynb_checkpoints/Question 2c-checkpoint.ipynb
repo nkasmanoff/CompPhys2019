{
 "cells": [
  {
   "cell_type": "markdown",
   "metadata": {},
   "source": [
    "You will use the relaxation method to solve for the potential of a series of charged particles. In the github under HOMEWORK5 there is a datafile names “particles.dat.” Inside this datafile is a set of (x,y) coordinates for a series of charged particles, all with charge equal to the electron charge. The range of coordinates is [0,100]. As with example 9.2 in Newman, these particles are placed in a box that is grounded on all 4 sides."
   ]
  },
  {
   "cell_type": "markdown",
   "metadata": {},
   "source": [
    "(a) Using the cloud-in-cell technique, assign the charges to a two-dimensional grid of size [0,M] per side, with M=100. The centers of each grid cell (i,j) is (i+0.5,j+0.5). Produce an image of the charge density field.\n"
   ]
  },
  {
   "cell_type": "markdown",
   "metadata": {},
   "source": [
    "(b) Use standard relaxation method to solve for Poisson’s equation. Produce an image showing the resulting potential field. Note the number of iterations it takes to converge. Use the same convergence criterion as the example in Newman, such that the maximum difference for any cell in the grid between the current and prior step is 1.0E-10."
   ]
  },
  {
   "cell_type": "markdown",
   "metadata": {},
   "source": [
    "(c) Now use the Guass-Seidel overrelaxation method to solve for Poisson’s equation. Determine the optimal value of the overrelaxation parameter ω, using one of the techniques discussed in class and in the chapter on nonlinear equations. Golden ratio search is a good example. Find the optimal value of ω to a precision of 0.001. Produce a plot showing how your answer for ω evolves with each step in your minimization process.\n"
   ]
  },
  {
   "cell_type": "markdown",
   "metadata": {},
   "source": [
    "# Notes: Use relaxation method to solve the problem, and compare it to the values given in particles.dat"
   ]
  },
  {
   "cell_type": "code",
   "execution_count": 1,
   "metadata": {},
   "outputs": [],
   "source": [
    "import numpy as np\n",
    "import matplotlib.pyplot as plt"
   ]
  },
  {
   "cell_type": "code",
   "execution_count": 2,
   "metadata": {},
   "outputs": [],
   "source": [
    "particles = np.loadtxt('../dat/particles.dat')"
   ]
  },
  {
   "cell_type": "markdown",
   "metadata": {},
   "source": [
    " The point cloud representation of the charged particles. One can understand this figure as each particle posessing a certain x y value, and plotted accordingly on a scatter plot. \n",
    " \n",
    " \n",
    "Next, we seek to represent these particles on a grid, leveraging the cloud-in-cell algorithm."
   ]
  },
  {
   "cell_type": "code",
   "execution_count": 3,
   "metadata": {},
   "outputs": [],
   "source": [
    "class Grid():\n",
    "    def __init__(self,length,width):\n",
    "        self.length = length\n",
    "        self.width = width\n",
    "        self.box = np.zeros([length,width])\n",
    "    \n",
    "    def CIC_interp(self,particles):\n",
    "        \"\"\"\n",
    "        \n",
    "        \"\"\"\n",
    "        for particle in particles:\n",
    "            #closest values in X and y\n",
    "            NNx = int(np.floor(particle[0]) ), int(np.ceil(particle[0]) )\n",
    "            NNy = int(np.floor(particle[1])), int(np.ceil(particle[1]))\n",
    "            \n",
    "            contrib_lower_X = abs(1 - particle[0] + NNx[0])\n",
    "            contrib_upper_X = 1 - contrib_lower_X\n",
    "\n",
    "            contrib_lower_Y = abs(1 - particle[1] + NNy[0])\n",
    "            contrib_upper_Y = 1 - contrib_lower_Y\n",
    "            \n",
    "            self.box[NNx[0]-1,NNy[0]-1] += contrib_lower_X*contrib_lower_Y\n",
    "            self.box[NNx[0]-1,NNy[1]-1] += contrib_lower_X*contrib_upper_Y\n",
    "            self.box[NNx[1]-1,NNy[0]-1] += contrib_upper_X*contrib_lower_Y\n",
    "            self.box[NNx[1]-1,NNy[1]-1] += contrib_upper_X*contrib_upper_Y\n",
    "            \n",
    "        return self.box"
   ]
  },
  {
   "cell_type": "code",
   "execution_count": 4,
   "metadata": {},
   "outputs": [],
   "source": [
    "grid = Grid(100,100)"
   ]
  },
  {
   "cell_type": "markdown",
   "metadata": {},
   "source": [
    "Now that the particles are in a grid space, there is the obvious advantage of now being able to use this grid to solve for a potential field, but an extra layer of value which is that we need not stop at the given boundaries! If we were truly interested, we could have designed the grid space to be much larger, and solved for the potential equation over a far larger region. The biggest drawback to doing so now is the extra layer of computation time demmanded to doing so, but later in this question, we will address different techniques for solving this sort of problem faster via. over-relaxation and Gauss-Seidel. "
   ]
  },
  {
   "cell_type": "code",
   "execution_count": 6,
   "metadata": {},
   "outputs": [],
   "source": [
    "rho = grid.CIC_interp(particles)\n",
    "\n",
    "def gauss_seidel_overrelaxation(omega,returnphi=False):\n",
    "    #Apply gauss seidel over relaxation method for different values of omega \n",
    "    \n",
    "    delta =  1.0 #make delta larger than target, allows loop to begin.\n",
    "    M = 100\n",
    "    a = 1\n",
    "    \n",
    "    target = 1e-10  # Target accuracy\n",
    "    epsilon0 = 1 #8.85e-12\n",
    "    # Create array[ no s since gauss seidel!!!] to hold potential values\n",
    "    phi = np.zeros([M,M],float)\n",
    "    # rho = -1.6e-19 * rho #unit charge, if useful! \n",
    "    steps = 0\n",
    "    while delta > target:\n",
    "        # Main loop\n",
    "        delta = 0.0\n",
    "        for i in range(0,M-1):\n",
    "            for j in range(0,M-1):\n",
    "                \n",
    "                phi_old = phi[i,j]\n",
    "                \n",
    "                phi_new = (1 + omega) * .25 * (phi[i-1,j] + phi[i+1,j] + phi[i,j-1] + phi[i,j+1] + rho[i,j]  * a*a / epsilon0)  - omega*phi_old\n",
    "                \n",
    "                phi[i,j] = phi_new \n",
    "                \n",
    "                difference = abs(phi_new - phi_old)\n",
    "                \n",
    "                if difference > delta: \n",
    "                    delta = difference\n",
    "        steps+=1\n",
    "        \n",
    "    if returnphi:\n",
    "        return steps,phi\n",
    "    \n",
    "    return steps"
   ]
  },
  {
   "cell_type": "markdown",
   "metadata": {},
   "source": [
    " 0.25*(U(i-1,j) + U(i+1,j) + U(i,j-1) + U(i,j+1) - h^2*F(i,j));\n",
    "    \n",
    "0.25 * (phi[i-1,j] + phi[i+1,j] + phi[i,j-1] + phi[i,j+1] - a*a* rho[i,j]/ epsilon0)"
   ]
  },
  {
   "cell_type": "markdown",
   "metadata": {},
   "source": [
    "The trick here is we should have at least some intuition  that suggests w is greater than .5, otherwise this is not much more powerful than the ordinary gauss seidel procedure. "
   ]
  },
  {
   "cell_type": "code",
   "execution_count": 7,
   "metadata": {},
   "outputs": [
    {
     "name": "stdout",
     "output_type": "stream",
     "text": [
      "w1 done\n",
      "w2 done\n",
      "w3 done\n",
      "w4 done\n"
     ]
    }
   ],
   "source": [
    "z = (1+np.sqrt(5))/2       # Golden ratio\n",
    "accuracy= .001\n",
    "\n",
    "# Function to calculate\n",
    "omegamins = []\n",
    "stepcounts = []\n",
    "f = gauss_seidel_overrelaxation\n",
    "# Initial positions of the four points\n",
    "w1 = .9\n",
    "w4 = .95\n",
    "w2 = w4 - (w4-w1)/z\n",
    "w3 = w1 + (w4-w1)/z\n",
    "\n",
    "# Initial values of the function at the four points\n",
    "f1 = f(w1)\n",
    "print(\"w1 done\")\n",
    "f2 = f(w2)\n",
    "print(\"w2 done\")\n",
    "f3 = f(w3)\n",
    "print(\"w3 done\")\n",
    "f4 = f(w4)\n",
    "print(\"w4 done\")\n"
   ]
  },
  {
   "cell_type": "code",
   "execution_count": null,
   "metadata": {},
   "outputs": [],
   "source": []
  },
  {
   "cell_type": "code",
   "execution_count": 8,
   "metadata": {},
   "outputs": [
    {
     "name": "stdout",
     "output_type": "stream",
     "text": [
      "0.9 0.9190983005625053 0.9309016994374947 0.95\n",
      "0.9190983005625053 0.9309016994374947 0.9381966011250105 0.95\n",
      "0.9309016994374947 0.9381966011250105 0.9427050983124842 0.95\n",
      "0.9381966011250105 0.9427050983124842 0.9454915028125263 0.95\n",
      "0.9381966011250105 0.9409830056250525 0.9427050983124842 0.9454915028125263\n",
      "0.9381966011250105 0.9399186938124421 0.9409830056250525 0.9427050983124842\n",
      "0.9381966011250105 0.9392609129376209 0.9399186938124421 0.9409830056250525\n",
      "0.9392609129376209 0.9399186938124421 0.9403252247502313 0.9409830056250525\n",
      "0.9399186938124421 0.9403252247502313 0.9405764746872634 0.9409830056250525\n",
      "The minimum falls at 0.940654115187642\n"
     ]
    }
   ],
   "source": [
    "# Main loop of the search process\n",
    "\n",
    "\n",
    "while w4-w1>accuracy:\n",
    "    print(w1,w2,w3,w4)\n",
    "    if f2<f3:\n",
    "        w4,f4 = w3,f3\n",
    "        w3,f3 = w2,f2\n",
    "        w2 = w4 - (w4-w1)/z\n",
    "        f2 = f(w2)\n",
    "    else:\n",
    "        w1,f1 = w2,f2\n",
    "        w2,f2 = w3,f3\n",
    "        w3 = w1 + (w4-w1)/z\n",
    "        f3 = f(w3)\n",
    "        \n",
    "    stepcounts.append(f(0.5*(w1+w4)))\n",
    "    omegamins.append(0.5*(w1+w4))\n",
    "# Print the result\n",
    "print(\"The minimum falls at\",0.5*(w1+w4))\n",
    "\n"
   ]
  },
  {
   "cell_type": "code",
   "execution_count": 11,
   "metadata": {},
   "outputs": [
    {
     "data": {
      "text/plain": [
       "Text(0, 0.5, 'Steps')"
      ]
     },
     "execution_count": 11,
     "metadata": {},
     "output_type": "execute_result"
    },
    {
     "data": {
      "image/png": "[encoded data removed]",
      "text/plain": [
       "<Figure size 432x288 with 1 Axes>"
      ]
     },
     "metadata": {
      "needs_background": "light"
     },
     "output_type": "display_data"
    }
   ],
   "source": [
    "plt.plot(omegamins,stepcounts,'ko')\n",
    "plt.xlabel(\"$\\omega$\",fontsize = 25)\n",
    "plt.ylabel(\"Steps\",fontsize = 25)"
   ]
  },
  {
   "cell_type": "code",
   "execution_count": 12,
   "metadata": {},
   "outputs": [],
   "source": [
    "steps,phi = f(0.940654115187642,returnphi=True)"
   ]
  },
  {
   "cell_type": "code",
   "execution_count": 13,
   "metadata": {},
   "outputs": [
    {
     "data": {
      "text/plain": [
       "507"
      ]
     },
     "execution_count": 13,
     "metadata": {},
     "output_type": "execute_result"
    }
   ],
   "source": [
    "steps"
   ]
  },
  {
   "cell_type": "code",
   "execution_count": 15,
   "metadata": {},
   "outputs": [
    {
     "data": {
      "text/plain": [
       "Text(0, 0.5, '$y$')"
      ]
     },
     "execution_count": 15,
     "metadata": {},
     "output_type": "execute_result"
    },
    {
     "data": {
      "image/png": "[encoded data removed]",
      "text/plain": [
       "<Figure size 432x288 with 1 Axes>"
      ]
     },
     "metadata": {
      "needs_background": "light"
     },
     "output_type": "display_data"
    }
   ],
   "source": [
    "plt.imshow(phi)\n",
    "plt.xlabel('$x$',fontsize = 25)\n",
    "plt.ylabel('$y$',fontsize = 25)"
   ]
  },
  {
   "cell_type": "code",
   "execution_count": null,
   "metadata": {},
   "outputs": [],
   "source": [
    "f(omegamin)"
   ]
  },
  {
   "cell_type": "code",
   "execution_count": null,
   "metadata": {},
   "outputs": [],
   "source": []
  },
  {
   "cell_type": "code",
   "execution_count": null,
   "metadata": {},
   "outputs": [],
   "source": []
  },
  {
   "cell_type": "code",
   "execution_count": null,
   "metadata": {},
   "outputs": [],
   "source": [
    "plt.imshow(phi)"
   ]
  },
  {
   "cell_type": "code",
   "execution_count": null,
   "metadata": {},
   "outputs": [],
   "source": [
    "plt.imshow(phi)"
   ]
  },
  {
   "cell_type": "code",
   "execution_count": null,
   "metadata": {},
   "outputs": [],
   "source": []
  }
 ],
 "metadata": {
  "kernelspec": {
   "display_name": "Python 3",
   "language": "python",
   "name": "python3"
  },
  "language_info": {
   "codemirror_mode": {
    "name": "ipython",
    "version": 3
   },
   "file_extension": ".py",
   "mimetype": "text/x-python",
   "name": "python",
   "nbconvert_exporter": "python",
   "pygments_lexer": "ipython3",
   "version": "3.7.4"
  }
 },
 "nbformat": 4,
 "nbformat_minor": 4
}
