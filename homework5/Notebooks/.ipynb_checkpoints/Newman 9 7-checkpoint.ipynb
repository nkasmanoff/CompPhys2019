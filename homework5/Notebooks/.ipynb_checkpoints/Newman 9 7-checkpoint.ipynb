{
 "cells": [
  {
   "cell_type": "markdown",
   "metadata": {},
   "source": [
    "Solve gravity equation using relaxation method. "
   ]
  },
  {
   "cell_type": "code",
   "execution_count": 78,
   "metadata": {},
   "outputs": [],
   "source": [
    "import numpy as np\n",
    "import matplotlib.pyplot as plt\n",
    "\n",
    "\n",
    "#constants \n",
    "g = 9.8 #gravity\n",
    "M = 100 # number of time slots\n",
    "tf = 10 #total amount of time\n",
    "\n",
    "h = tf/ M # time step to satisfy grid dimensions \n",
    "\n",
    "target  = 1e-6 #target acc\n",
    "\n",
    "#initalize array to save x position\n",
    "x = np.zeros([M+1],float)\n",
    "xprime = np.zeros([M+1],float)"
   ]
  },
  {
   "cell_type": "code",
   "execution_count": null,
   "metadata": {},
   "outputs": [],
   "source": []
  },
  {
   "cell_type": "code",
   "execution_count": 79,
   "metadata": {},
   "outputs": [],
   "source": [
    "#main loop\n",
    "\n",
    "delta = 1.0\n",
    "\n",
    "while delta > target:\n",
    "    for i in range(1,M):\n",
    "        if i == 0 or i == M:\n",
    "            xprime[i] = x[i]  #set by boundary conditions\n",
    "        else: #going to have to apply jacobi / relaxation method\n",
    "            xprime[i] = (g*h*h + x[i+1] + x[i-1]) / 2\n",
    "        #calculate max difference        \n",
    "        delta = max(abs(x - xprime))\n",
    "        #swap the two arrays\n",
    "        \n",
    "        x[i],xprime[i] = xprime[i],x[i]"
   ]
  },
  {
   "cell_type": "code",
   "execution_count": 80,
   "metadata": {},
   "outputs": [
    {
     "data": {
      "text/plain": [
       "[<matplotlib.lines.Line2D at 0x119186e10>]"
      ]
     },
     "execution_count": 80,
     "metadata": {},
     "output_type": "execute_result"
    },
    {
     "data": {
      "image/png": "[encoded data removed]",
      "text/plain": [
       "<Figure size 432x288 with 1 Axes>"
      ]
     },
     "metadata": {
      "needs_background": "light"
     },
     "output_type": "display_data"
    }
   ],
   "source": [
    "plt.plot(x)"
   ]
  },
  {
   "cell_type": "markdown",
   "metadata": {},
   "source": [
    "Value of g supposed to be negative? Physical interpretation is always going to be okay but if g is negative so is x(t)? "
   ]
  },
  {
   "cell_type": "code",
   "execution_count": 82,
   "metadata": {},
   "outputs": [
    {
     "data": {
      "text/plain": [
       "4.850967437913825"
      ]
     },
     "execution_count": 82,
     "metadata": {},
     "output_type": "execute_result"
    }
   ],
   "source": [
    "x[1]"
   ]
  },
  {
   "cell_type": "markdown",
   "metadata": {},
   "source": [
    "# Initial Velocity Prediction?"
   ]
  },
  {
   "cell_type": "code",
   "execution_count": 87,
   "metadata": {},
   "outputs": [],
   "source": [
    "v0 = (x[1] - x[0]) / h\n",
    "vf = (x[-1] - x[-2]) /h"
   ]
  },
  {
   "cell_type": "code",
   "execution_count": 90,
   "metadata": {},
   "outputs": [
    {
     "name": "stdout",
     "output_type": "stream",
     "text": [
      "The initial velocity of this problem is  48.50967437913825\n"
     ]
    }
   ],
   "source": [
    "print(\"The initial velocity of this problem is \", v0)"
   ]
  },
  {
   "cell_type": "code",
   "execution_count": 91,
   "metadata": {},
   "outputs": [
    {
     "name": "stdout",
     "output_type": "stream",
     "text": [
      "The final velocity of this system is  -48.5096897542625\n"
     ]
    }
   ],
   "source": [
    "print(\"The final velocity of this system is \", vf)"
   ]
  }
 ],
 "metadata": {
  "kernelspec": {
   "display_name": "Python 3",
   "language": "python",
   "name": "python3"
  },
  "language_info": {
   "codemirror_mode": {
    "name": "ipython",
    "version": 3
   },
   "file_extension": ".py",
   "mimetype": "text/x-python",
   "name": "python",
   "nbconvert_exporter": "python",
   "pygments_lexer": "ipython3",
   "version": "3.7.4"
  }
 },
 "nbformat": 4,
 "nbformat_minor": 4
}
