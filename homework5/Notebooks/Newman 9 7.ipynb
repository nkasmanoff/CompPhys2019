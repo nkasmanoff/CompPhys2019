{
 "cells": [
  {
   "cell_type": "markdown",
   "metadata": {},
   "source": [
    "Solve gravity equation using relaxation method. "
   ]
  },
  {
   "cell_type": "code",
   "execution_count": 14,
   "metadata": {},
   "outputs": [],
   "source": [
    "\n",
    "import numpy as np\n",
    "import matplotlib.pyplot as plt\n",
    "import seaborn as sns\n",
    "\n",
    "sns.set_style('white')\n",
    "\n",
    "#constants \n",
    "g = 9.8 #gravity\n",
    "M = 100 # number of time slots\n",
    "tf = 10 #total amount of time\n",
    "\n",
    "h = tf/ M # time step to satisfy grid dimensions \n",
    "\n",
    "target  = 1e-6 #target acc\n",
    "\n",
    "#initalize array to save x position\n",
    "x = np.zeros([M+1],float)\n",
    "xprime = np.zeros([M+1],float)"
   ]
  },
  {
   "cell_type": "markdown",
   "metadata": {},
   "source": [
    "The initial differential equation is $g = \\frac{dx^2}{d^2t}$\n",
    "\n",
    "\n",
    "Applying the known equation for second derivatives, we know that $ \\frac{dx^2}{d^2t} = \\frac{x(t+h) - 2x(t) + x(t-h)}{h^2}$. Combining these two equations, we can solve for $x(t)$, and the relaxation method is applied as a straightforward consequence of it, where the new value of $x(t)$, $x'(t)$ is equal to "
   ]
  },
  {
   "cell_type": "code",
   "execution_count": 15,
   "metadata": {},
   "outputs": [],
   "source": [
    "#main loop\n",
    "\n",
    "delta = 1.0\n",
    "\n",
    "while delta > target:\n",
    "    for i in range(1,M):\n",
    "        if i == 0 or i == M:\n",
    "            xprime[i] = x[i]  #set by boundary conditions\n",
    "        else: #going to have to apply jacobi / relaxation method\n",
    "            xprime[i] = (g*h*h + x[i+1] + x[i-1]) / 2\n",
    "        #calculate max difference        \n",
    "        delta = max(abs(x - xprime))\n",
    "        #swap the two arrays\n",
    "        \n",
    "        x[i],xprime[i] = xprime[i],x[i]"
   ]
  },
  {
   "cell_type": "code",
   "execution_count": 20,
   "metadata": {},
   "outputs": [
    {
     "data": {
      "text/plain": [
       "Text(0.5, 0, '$t$ (deci-s) ')"
      ]
     },
     "execution_count": 20,
     "metadata": {},
     "output_type": "execute_result"
    },
    {
     "data": {
      "image/png": "[encoded data removed]",
      "text/plain": [
       "<Figure size 432x288 with 1 Axes>"
      ]
     },
     "metadata": {},
     "output_type": "display_data"
    }
   ],
   "source": [
    "plt.plot(x,'ro--')\n",
    "plt.ylabel('$x(t) $ (m)',fontsize=25)\n",
    "plt.xlabel('$t$ (deci-s) ',fontsize=25)"
   ]
  },
  {
   "cell_type": "markdown",
   "metadata": {},
   "source": [
    "Value of g supposed to be negative? Physical interpretation is always going to be okay but if g is negative so is x(t)? "
   ]
  },
  {
   "cell_type": "code",
   "execution_count": 4,
   "metadata": {},
   "outputs": [
    {
     "data": {
      "text/plain": [
       "4.850967437913825"
      ]
     },
     "execution_count": 4,
     "metadata": {},
     "output_type": "execute_result"
    }
   ],
   "source": [
    "x[1]"
   ]
  },
  {
   "cell_type": "markdown",
   "metadata": {},
   "source": [
    "# Initial Velocity Prediction?"
   ]
  },
  {
   "cell_type": "code",
   "execution_count": 5,
   "metadata": {},
   "outputs": [],
   "source": [
    "v0 = (x[1] - x[0]) / h\n",
    "vf = (x[-1] - x[-2]) /h"
   ]
  },
  {
   "cell_type": "code",
   "execution_count": 6,
   "metadata": {},
   "outputs": [
    {
     "name": "stdout",
     "output_type": "stream",
     "text": [
      "The initial velocity of this problem is  48.50967437913825\n"
     ]
    }
   ],
   "source": [
    "print(\"The initial velocity of this problem is \", v0)"
   ]
  },
  {
   "cell_type": "code",
   "execution_count": 7,
   "metadata": {},
   "outputs": [
    {
     "name": "stdout",
     "output_type": "stream",
     "text": [
      "The final velocity of this system is  -48.5096897542625\n"
     ]
    }
   ],
   "source": [
    "print(\"The final velocity of this system is \", vf)"
   ]
  }
 ],
 "metadata": {
  "kernelspec": {
   "display_name": "Python 3",
   "language": "python",
   "name": "python3"
  },
  "language_info": {
   "codemirror_mode": {
    "name": "ipython",
    "version": 3
   },
   "file_extension": ".py",
   "mimetype": "text/x-python",
   "name": "python",
   "nbconvert_exporter": "python",
   "pygments_lexer": "ipython3",
   "version": "3.7.4"
  }
 },
 "nbformat": 4,
 "nbformat_minor": 4
}
