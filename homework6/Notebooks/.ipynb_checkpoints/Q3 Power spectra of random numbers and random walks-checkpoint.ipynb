{
 "cells": [
  {
   "cell_type": "markdown",
   "metadata": {},
   "source": [
    "# Construct your own linear congruential random number generator to generate uniformly distributed random numbers between [0,1). You can choose your values for the constants either from Newman or from the wikipedia page on LCG. Make sure you clearly state your choices in your writeup."
   ]
  },
  {
   "cell_type": "code",
   "execution_count": 1,
   "metadata": {},
   "outputs": [],
   "source": [
    "import numpy as np\n",
    "import matplotlib.pyplot as plt\n",
    "\n",
    "%matplotlib inline\n"
   ]
  },
  {
   "cell_type": "code",
   "execution_count": 2,
   "metadata": {},
   "outputs": [],
   "source": [
    "def lcg(modulus, a, c, seed):\n",
    "    \"\"\"Linear congruential generator.\n",
    "    from https://en.wikipedia.org/wiki/Linear_congruential_generator#Sample_Python_code\n",
    "    \n",
    "    modulus = the modulus, what to divide by\n",
    "    a = constant to multiply the seed by\n",
    "    seed = starting value\n",
    "    c = constant added to the seed\n",
    "    \"\"\"\n",
    "    while True:\n",
    "        seed = (a * seed + c) % modulus\n",
    "        yield seed"
   ]
  },
  {
   "cell_type": "markdown",
   "metadata": {},
   "source": [
    "# b) Using this LCG, create a function that generate Gaussian random variables. Demonstrate that your code works by comparing a histogram of 10,000 generated values to the unit Gaussian (zero mean, unit standard deviation). Make the y-axis a log scale— this more easily shows that the frequency of rare events is correctly calculated in your code."
   ]
  },
  {
   "cell_type": "code",
   "execution_count": 86,
   "metadata": {},
   "outputs": [],
   "source": [
    "N = int(1e4) #10000 points\n",
    "\n",
    "a = 1664525\n",
    "c = 1013904223\n",
    "m = 4294967296\n",
    "x = 1\n",
    "y = 42\n",
    "U1 = []\n",
    "U2 = []\n",
    "for i in range(N):\n",
    "    x = (a*x+c)%m\n",
    "    U1.append(x)\n",
    "    y = (a*y+c)%m\n",
    "    U2.append(y)\n",
    " \n",
    "\n",
    "U1 = np.divide(U1,max(U1))\n",
    "U2 = np.divide(U2,max(U2))   "
   ]
  },
  {
   "cell_type": "markdown",
   "metadata": {},
   "source": [
    "Now, apply Box-Muller Transform"
   ]
  },
  {
   "cell_type": "code",
   "execution_count": 87,
   "metadata": {},
   "outputs": [],
   "source": [
    "from numpy import sqrt,log,cos,pi,sin\n"
   ]
  },
  {
   "cell_type": "code",
   "execution_count": 88,
   "metadata": {},
   "outputs": [],
   "source": [
    "# transformation function\n",
    "def box_muller(u1,u2):\n",
    "    z1 = sqrt(-2*log(u1))*cos(2*pi*u2)\n",
    "    z2 = sqrt(-2*log(u1))*sin(2*pi*u2)\n",
    "    return z1,z2"
   ]
  },
  {
   "cell_type": "code",
   "execution_count": 89,
   "metadata": {},
   "outputs": [],
   "source": [
    "z1, _ = box_muller(U1,U2)"
   ]
  },
  {
   "cell_type": "code",
   "execution_count": 90,
   "metadata": {},
   "outputs": [
    {
     "data": {
      "text/plain": [
       "<matplotlib.legend.Legend at 0x11b292a90>"
      ]
     },
     "execution_count": 90,
     "metadata": {},
     "output_type": "execute_result"
    },
    {
     "data": {
      "image/png": "[encoded data removed]",
      "text/plain": [
       "<Figure size 432x288 with 1 Axes>"
      ]
     },
     "metadata": {
      "needs_background": "light"
     },
     "output_type": "display_data"
    }
   ],
   "source": [
    "plt.hist(z1,label = 'Box Muller')\n",
    "plt.yscale('log')\n",
    "plt.legend()"
   ]
  },
  {
   "cell_type": "markdown",
   "metadata": {},
   "source": [
    "Now to compare, let's generate 10000 samples using the conventional method. "
   ]
  },
  {
   "cell_type": "code",
   "execution_count": 91,
   "metadata": {},
   "outputs": [],
   "source": [
    "from numpy.random import randn\n"
   ]
  },
  {
   "cell_type": "code",
   "execution_count": 92,
   "metadata": {},
   "outputs": [],
   "source": [
    "standard_norm = []\n",
    "i = 0\n",
    "while i < N:\n",
    "\n",
    "    standard_norm.append(randn())\n",
    "    i +=1"
   ]
  },
  {
   "cell_type": "code",
   "execution_count": 93,
   "metadata": {},
   "outputs": [
    {
     "data": {
      "text/plain": [
       "<matplotlib.legend.Legend at 0x11b69ef50>"
      ]
     },
     "execution_count": 93,
     "metadata": {},
     "output_type": "execute_result"
    },
    {
     "data": {
      "image/png": "[encoded data removed]",
      "text/plain": [
       "<Figure size 432x288 with 1 Axes>"
      ]
     },
     "metadata": {
      "needs_background": "light"
     },
     "output_type": "display_data"
    }
   ],
   "source": [
    "plt.hist(standard_norm,label = 'convention')\n",
    "plt.yscale('log')\n",
    "plt.legend()"
   ]
  },
  {
   "cell_type": "markdown",
   "metadata": {},
   "source": [
    "Now the comparison"
   ]
  },
  {
   "cell_type": "code",
   "execution_count": 94,
   "metadata": {},
   "outputs": [
    {
     "data": {
      "text/plain": [
       "<matplotlib.legend.Legend at 0x11b7def90>"
      ]
     },
     "execution_count": 94,
     "metadata": {},
     "output_type": "execute_result"
    },
    {
     "data": {
      "image/png": "[encoded data removed]",
      "text/plain": [
       "<Figure size 432x288 with 1 Axes>"
      ]
     },
     "metadata": {
      "needs_background": "light"
     },
     "output_type": "display_data"
    }
   ],
   "source": [
    "plt.hist(z1,bins=100\n",
    ",label = 'Box Muller')\n",
    "\n",
    "plt.hist(standard_norm,bins=100\n",
    "         ,alpha = .75,label = 'convention')\n",
    "\n",
    "plt.yscale('log')\n",
    "plt.legend()"
   ]
  },
  {
   "cell_type": "markdown",
   "metadata": {},
   "source": [
    "Looks pretty good to me!"
   ]
  },
  {
   "cell_type": "markdown",
   "metadata": {},
   "source": [
    "# c) Using your code from homework #3, for producing the discrete Fourier transform of a set of data, calculate the power spectrum of your list of 10,000 random Gaussian numbers. Show that this list has the correct scaling with wavenumber k with a plot showing log P vs log k."
   ]
  },
  {
   "cell_type": "code",
   "execution_count": 95,
   "metadata": {},
   "outputs": [],
   "source": [
    "\n",
    "def dft(y):\n",
    "    \"\"\"\n",
    "    Code to calculate the discrete fourier transform c_k.\n",
    "    \n",
    "    Note that there will both a real and imaginary value for every c, \n",
    "    \n",
    "    so to find the maximum k we need to calculate the power spectrum .\n",
    "    \n",
    "    \"\"\"\n",
    "    N = len(y) #we create the interval as the length of the dataset.. \n",
    "    \n",
    "    c = np.zeros(N,complex) #list of fourier coef.\n",
    "\n",
    "    for k in range(N): # Iterate over possible k's\n",
    "        for n in range(N): #Iterate over all n's\n",
    "            c[k] += y[n]*np.exp(-2j*np.pi*k*n/N) #create a sum to solve for c[k]\n",
    "    return c\n",
    "\n",
    "c = dft(z1)"
   ]
  },
  {
   "cell_type": "code",
   "execution_count": 99,
   "metadata": {},
   "outputs": [
    {
     "name": "stdout",
     "output_type": "stream",
     "text": [
      "Power Spectrum of Fourier Transform of Z1\n"
     ]
    },
    {
     "data": {
      "image/png": "[encoded data removed]",
      "text/plain": [
       "<Figure size 432x288 with 1 Axes>"
      ]
     },
     "metadata": {
      "needs_background": "light"
     },
     "output_type": "display_data"
    }
   ],
   "source": [
    "power = np.real(c)**2 + np.imag(c)**2\n",
    "plt.plot(power) #k is just the index number. \n",
    "\n",
    "plt.ylabel(\"$log(|c(k)|^2)$\",fontsize=20)\n",
    "plt.xlabel('$log(k)$',fontsize=20)\n",
    "print(\"Power Spectrum of Fourier Transform of Z1\")\n",
    "plt.xscale('log')\n",
    "plt.yscale('log')"
   ]
  },
  {
   "cell_type": "code",
   "execution_count": null,
   "metadata": {},
   "outputs": [],
   "source": []
  },
  {
   "cell_type": "markdown",
   "metadata": {},
   "source": [
    "# d) Use this list of random Gaussian numbers to construct a random walk— ie, the i-th value of the sequence is (i-1)-th value in the sequence plus the i-th Gaussian number. Show a plot of your random walk as a function of iteration i."
   ]
  },
  {
   "cell_type": "code",
   "execution_count": 110,
   "metadata": {},
   "outputs": [],
   "source": [
    "random_walk = z1.cumsum()\n"
   ]
  },
  {
   "cell_type": "code",
   "execution_count": 111,
   "metadata": {},
   "outputs": [
    {
     "data": {
      "text/plain": [
       "[<matplotlib.lines.Line2D at 0x11ec4ec10>]"
      ]
     },
     "execution_count": 111,
     "metadata": {},
     "output_type": "execute_result"
    },
    {
     "data": {
      "image/png": "[encoded data removed]",
      "text/plain": [
       "<Figure size 432x288 with 1 Axes>"
      ]
     },
     "metadata": {
      "needs_background": "light"
     },
     "output_type": "display_data"
    }
   ],
   "source": [
    "plt.plot(random_walk)\n",
    "plt.plot(z2.cumsum())"
   ]
  },
  {
   "cell_type": "code",
   "execution_count": null,
   "metadata": {},
   "outputs": [],
   "source": [
    "c = dft(random_walk)"
   ]
  },
  {
   "cell_type": "code",
   "execution_count": null,
   "metadata": {},
   "outputs": [],
   "source": [
    "power = np.real(c)**2 + np.imag(c)**2\n",
    "plt.plot(power) #k is just the index number. \n",
    "\n",
    "plt.ylabel(\"$log(|c(k)|^2)$\",fontsize=20)\n",
    "plt.xlabel('$log(k)$',fontsize=20)\n",
    "print(\"Power Spectrum of FT Gaussian Random Walk\")\n",
    "plt.xscale('log')\n",
    "plt.yscale('log')"
   ]
  },
  {
   "cell_type": "code",
   "execution_count": null,
   "metadata": {},
   "outputs": [],
   "source": []
  }
 ],
 "metadata": {
  "kernelspec": {
   "display_name": "Python 3",
   "language": "python",
   "name": "python3"
  },
  "language_info": {
   "codemirror_mode": {
    "name": "ipython",
    "version": 3
   },
   "file_extension": ".py",
   "mimetype": "text/x-python",
   "name": "python",
   "nbconvert_exporter": "python",
   "pygments_lexer": "ipython3",
   "version": "3.7.4"
  }
 },
 "nbformat": 4,
 "nbformat_minor": 4
}
