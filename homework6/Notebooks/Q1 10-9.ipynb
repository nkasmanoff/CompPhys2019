{
 "cells": [
  {
   "cell_type": "markdown",
   "metadata": {},
   "source": [
    "Write a program to perform a Markov chain Monte Carlo simulation of the Ising model on the square lattice for a system of 20 × 20 spins. You will need to set up variables to hold the value ±1 of the spin on each lattice site, probably using a two-dimensional integer array, and then take the following steps."
   ]
  },
  {
   "cell_type": "code",
   "execution_count": 1,
   "metadata": {},
   "outputs": [],
   "source": [
    "import numpy as np\n",
    "import matplotlib.pyplot as plt"
   ]
  },
  {
   "cell_type": "code",
   "execution_count": 2,
   "metadata": {},
   "outputs": [],
   "source": [
    "#first, initialize the array\n",
    "N = 20\n",
    "lattice = np.empty((20,20),int)"
   ]
  },
  {
   "cell_type": "code",
   "execution_count": 3,
   "metadata": {},
   "outputs": [],
   "source": [
    "for i in range(N):\n",
    "    for j in range(N):\n",
    "        #initialize randomly as 1 or -1\n",
    "        if np.random.random() <= 0.5:\n",
    "            lattice[i,j] = 1\n",
    "        else: \n",
    "            lattice[i,j] = -1"
   ]
  },
  {
   "cell_type": "code",
   "execution_count": 4,
   "metadata": {},
   "outputs": [
    {
     "data": {
      "text/plain": [
       "<matplotlib.image.AxesImage at 0x11c907490>"
      ]
     },
     "execution_count": 4,
     "metadata": {},
     "output_type": "execute_result"
    },
    {
     "data": {
      "image/png": "[encoded data removed]",
      "text/plain": [
       "<Figure size 432x288 with 1 Axes>"
      ]
     },
     "metadata": {
      "needs_background": "light"
     },
     "output_type": "display_data"
    }
   ],
   "source": [
    "plt.imshow(lattice,cmap = 'magma')"
   ]
  },
  {
   "cell_type": "markdown",
   "metadata": {},
   "source": [
    "# a) First write a function to calculate the total energy of the system, as given by the equation above. That is, for a given array of values of the spins, go through every pair of adjacent spins and add up the contributions sisj from all of them, then multiply by −J. \n",
    "\n",
    "\n",
    "Hint 1: Each unique pair of adjacent spins crops up only once in the sum. Thus there is a term −Js1s2 if spins 1 and 2 are adjacent to one another, but you do not also need a term −Js2s1. \n",
    "\n",
    "Hint 2: To make your final program to run in a reasonable amount of time, you will find it helpful if you can work out a way to calculate the energy using Python’s ability to do arithmetic with entire arrays at once. If you do the calculation step by step, your program will be significantly slower."
   ]
  },
  {
   "cell_type": "code",
   "execution_count": 5,
   "metadata": {},
   "outputs": [],
   "source": [
    "def energy(s):\n",
    "    J = 1\n",
    "    s1 = s[:-1,:]*s[1:,:]\n",
    "    s2 = s[:,:-1]*s[:,1:]\n",
    "\n",
    "    E = -J*(s1.sum() + s2.sum())\n",
    "\n",
    "    return E"
   ]
  },
  {
   "cell_type": "code",
   "execution_count": 6,
   "metadata": {},
   "outputs": [
    {
     "data": {
      "text/plain": [
       "8"
      ]
     },
     "execution_count": 6,
     "metadata": {},
     "output_type": "execute_result"
    }
   ],
   "source": [
    "energy(lattice)"
   ]
  },
  {
   "cell_type": "markdown",
   "metadata": {},
   "source": [
    "# b) Now use your function as the basis for a Metropolis-style simulation of the Ising model with J = 1 and temperature T = 1 in units where the Boltzmann constant kB is also 1. Initially set the spin variables randomly to ±1, so that on average about a half of them are up and a half down, giving a total magnetization of roughly zero. Then choose a spin at random, flip it, and calculate the new energy after it is flipped, and hence also the change in energy as a result of the flip. Then decide whether to accept the flip using the Metropolis acceptance formula, Eq. (10.60). If the move is rejected you will have to flip the spin back to where it was. Otherwise you keep the flipped spin. Now repeat this process for many moves."
   ]
  },
  {
   "cell_type": "code",
   "execution_count": 7,
   "metadata": {},
   "outputs": [],
   "source": [
    "from numpy.random import randint\n"
   ]
  },
  {
   "cell_type": "markdown",
   "metadata": {},
   "source": [
    "Initialize lattice here"
   ]
  },
  {
   "cell_type": "code",
   "execution_count": 8,
   "metadata": {},
   "outputs": [],
   "source": [
    "#first, initialize the array\n",
    "N = 20\n",
    "s = np.empty((20,20),int)\n",
    "for i in range(N):\n",
    "    for j in range(N):\n",
    "        #initialize randomly as 1 or -1\n",
    "        if np.random.random() <= 0.5:\n",
    "            s[i,j] = 1\n",
    "        else: \n",
    "            s[i,j] = -1"
   ]
  },
  {
   "cell_type": "code",
   "execution_count": 9,
   "metadata": {},
   "outputs": [
    {
     "data": {
      "text/plain": [
       "<matplotlib.image.AxesImage at 0x11d0f9490>"
      ]
     },
     "execution_count": 9,
     "metadata": {},
     "output_type": "execute_result"
    },
    {
     "data": {
      "image/png": "[encoded data removed]",
      "text/plain": [
       "<Figure size 432x288 with 1 Axes>"
      ]
     },
     "metadata": {
      "needs_background": "light"
     },
     "output_type": "display_data"
    }
   ],
   "source": [
    "plt.imshow(s)"
   ]
  },
  {
   "cell_type": "code",
   "execution_count": 14,
   "metadata": {},
   "outputs": [],
   "source": [
    "def make_lattice(N):\n",
    "    \"\"\"Returns a randomized NxN grid lattice which will evolve over time. \n",
    "    \"\"\"\n",
    "    #first, initialize the array\n",
    "    N = 20\n",
    "    s = np.empty((20,20),int)\n",
    "    for i in range(N):\n",
    "        for j in range(N):\n",
    "            #initialize randomly as 1 or -1\n",
    "            if np.random.random() <= 0.5:\n",
    "                s[i,j] = 1\n",
    "            else: \n",
    "                s[i,j] = -1\n",
    "            \n",
    "    return s"
   ]
  },
  {
   "cell_type": "code",
   "execution_count": 15,
   "metadata": {},
   "outputs": [],
   "source": [
    "def metropolize(s,steps):\n",
    "    \"\"\"\n",
    "    Returns a time evolved ising grid, after the designated number of steps. \n",
    "    \"\"\"\n",
    "    J = 1\n",
    "    T = 1\n",
    "    kb = 1\n",
    "    beta = 1\n",
    "\n",
    "    # now do me\n",
    "    eplot = []\n",
    "    Mplot = []\n",
    "    E1 = energy(s)\n",
    "    M = s.sum()\n",
    "    for k in range(steps): # over total steps\n",
    "        i = randint(N) #select a random point\n",
    "        j = randint(N)\n",
    "        s[i,j] *=-1 #propose an energy change,   by -1 will immediately flip it!\n",
    "\n",
    "        E2 = energy(s) #compute new energy\n",
    "\n",
    "        dE = E2 - E1 #see what the change in energy is \n",
    "\n",
    "        if dE>0:  #if the system's total energy was not greater, \n",
    "\n",
    "            if np.random.random()<np.exp(-beta*dE):  #accept the flip with probability according to boltzlmann dist. \n",
    "                E1 = E2 #flip is acepted\n",
    "                M = s.sum()   #calculate new magnetization \n",
    "            else:  \n",
    "                s[i,j]*=-1  #if it wasn't accepted, revert back like this. \n",
    "\n",
    "        else:\n",
    "            E1 = E2 #flip is accepted because energy falls\n",
    "            M = s.sum()\n",
    "        eplot.append(E1)\n",
    "        Mplot.append(M)\n",
    "    print(\"Done!\")\n",
    "    \n",
    "    \n",
    "    return s, eplot,Mplot"
   ]
  },
  {
   "cell_type": "code",
   "execution_count": 35,
   "metadata": {},
   "outputs": [
    {
     "name": "stdout",
     "output_type": "stream",
     "text": [
      "Done!\n",
      "Done!\n",
      "Done!\n",
      "Done!\n",
      "Done!\n"
     ]
    },
    {
     "data": {
      "text/plain": [
       "<matplotlib.legend.Legend at 0x11ff35fd0>"
      ]
     },
     "execution_count": 35,
     "metadata": {},
     "output_type": "execute_result"
    },
    {
     "name": "stderr",
     "output_type": "stream",
     "text": [
      "/Users/noahkasmanoff/anaconda3/lib/python3.7/site-packages/IPython/core/events.py:88: UserWarning: Creating legend with loc=\"best\" can be slow with large amounts of data.\n",
      "  func(*args, **kwargs)\n",
      "/Users/noahkasmanoff/anaconda3/lib/python3.7/site-packages/IPython/core/pylabtools.py:128: UserWarning: Creating legend with loc=\"best\" can be slow with large amounts of data.\n",
      "  fig.canvas.print_figure(bytes_io, **kw)\n"
     ]
    },
    {
     "data": {
      "image/png": "[encoded data removed]",
      "text/plain": [
       "<Figure size 432x288 with 1 Axes>"
      ]
     },
     "metadata": {
      "needs_background": "light"
     },
     "output_type": "display_data"
    }
   ],
   "source": [
    "i = 0\n",
    "while i < 5: \n",
    "    s = make_lattice(20)\n",
    "    snew,eplot,Mplot = metropolize(s,int(1e6\n",
    "                    ))\n",
    "    plt.plot(Mplot,label = str(i))\n",
    "    i +=1\n",
    "    \n",
    "plt.xlabel('Steps',fontsize=25)\n",
    "plt.ylabel('M',fontsize=25)\n",
    "plt.legend()"
   ]
  },
  {
   "cell_type": "markdown",
   "metadata": {},
   "source": [
    "# Make a plot of the total magnetization M = ∑i si of the system as a function of time for a million Monte Carlo steps. You should see that the system develops a “spontaneous mag- netization,” a nonzero value of the overall magnetization. "
   ]
  },
  {
   "cell_type": "markdown",
   "metadata": {},
   "source": [
    "# d) Runyourprogramseveraltimesandobservethesignofthemagnetizationthatdevelops, positive or negative. Describe what you find and give a brief explanation of what is happening."
   ]
  },
  {
   "cell_type": "code",
   "execution_count": null,
   "metadata": {},
   "outputs": [],
   "source": []
  },
  {
   "cell_type": "code",
   "execution_count": null,
   "metadata": {},
   "outputs": [],
   "source": []
  },
  {
   "cell_type": "code",
   "execution_count": null,
   "metadata": {},
   "outputs": [],
   "source": []
  },
  {
   "cell_type": "code",
   "execution_count": null,
   "metadata": {},
   "outputs": [],
   "source": []
  },
  {
   "cell_type": "markdown",
   "metadata": {},
   "source": [
    "For this, I'll plot in comparison multiple magnetization curves. Would be nice if all one line then. "
   ]
  },
  {
   "cell_type": "markdown",
   "metadata": {},
   "source": [
    "# e) Print out several plots of what's happening in the lattice at different stages in the ising model. "
   ]
  },
  {
   "cell_type": "code",
   "execution_count": 34,
   "metadata": {},
   "outputs": [
    {
     "name": "stdout",
     "output_type": "stream",
     "text": [
      "Done!\n",
      "Done!\n",
      "Done!\n",
      "Done!\n"
     ]
    },
    {
     "data": {
      "text/plain": [
       "Text(0, 0.5, '$y$')"
      ]
     },
     "execution_count": 34,
     "metadata": {},
     "output_type": "execute_result"
    },
    {
     "data": {
      "image/png": "[encoded data removed]",
      "text/plain": [
       "<Figure size 432x288 with 1 Axes>"
      ]
     },
     "metadata": {
      "needs_background": "light"
     },
     "output_type": "display_data"
    },
    {
     "data": {
      "image/png": "[encoded data removed]",
      "text/plain": [
       "<Figure size 432x288 with 1 Axes>"
      ]
     },
     "metadata": {
      "needs_background": "light"
     },
     "output_type": "display_data"
    },
    {
     "data": {
      "image/png": "[encoded data removed]",
      "text/plain": [
       "<Figure size 432x288 with 1 Axes>"
      ]
     },
     "metadata": {
      "needs_background": "light"
     },
     "output_type": "display_data"
    },
    {
     "data": {
      "image/png": "[encoded data removed]",
      "text/plain": [
       "<Figure size 432x288 with 1 Axes>"
      ]
     },
     "metadata": {
      "needs_background": "light"
     },
     "output_type": "display_data"
    },
    {
     "data": {
      "image/png": "[encoded data removed]",
      "text/plain": [
       "<Figure size 432x288 with 1 Axes>"
      ]
     },
     "metadata": {
      "needs_background": "light"
     },
     "output_type": "display_data"
    }
   ],
   "source": [
    "i = 0\n",
    "\n",
    "s = make_lattice(20)\n",
    "#start with original\n",
    "plt.figure()\n",
    "plt.title('0 Steps',fontsize=25)\n",
    "plt.imshow(s)\n",
    "plt.xlabel('$x$',fontsize=25)\n",
    "plt.ylabel('$y$',fontsize = 25)\n",
    "\n",
    "plt.figure()\n",
    "snew,eplot,Mplot = metropolize(s,int(1e3))\n",
    "plt.title('1e3 Steps',fontsize=25)\n",
    "plt.imshow(snew)\n",
    "plt.xlabel('$x$',fontsize=25)\n",
    "plt.ylabel('$y$',fontsize = 25)\n",
    "\n",
    "\n",
    "plt.figure()\n",
    "snew,eplot,Mplot = metropolize(snew,int(1e4))\n",
    "plt.title('1e4 Steps',fontsize=25)\n",
    "plt.imshow(snew)\n",
    "plt.xlabel('$x$',fontsize=25)\n",
    "plt.ylabel('$y$',fontsize = 25)\n",
    "\n",
    "\n",
    "\n",
    "plt.figure()\n",
    "snew,eplot,Mplot = metropolize(snew,int(1e5))\n",
    "plt.title('1e5 Steps',fontsize=25)\n",
    "plt.imshow(snew)\n",
    "plt.xlabel('$x$',fontsize=25)\n",
    "plt.ylabel('$y$',fontsize = 25)\n",
    "\n",
    "\n",
    "plt.figure()\n",
    "snew,eplot,Mplot = metropolize(snew,int(1e6))\n",
    "plt.title('1e6 Steps',fontsize=25)\n",
    "plt.imshow(snew)\n",
    "plt.xlabel('$x$',fontsize=25)\n",
    "plt.ylabel('$y$',fontsize = 25)\n"
   ]
  },
  {
   "cell_type": "code",
   "execution_count": null,
   "metadata": {},
   "outputs": [],
   "source": []
  }
 ],
 "metadata": {
  "kernelspec": {
   "display_name": "Python 3",
   "language": "python",
   "name": "python3"
  },
  "language_info": {
   "codemirror_mode": {
    "name": "ipython",
    "version": 3
   },
   "file_extension": ".py",
   "mimetype": "text/x-python",
   "name": "python",
   "nbconvert_exporter": "python",
   "pygments_lexer": "ipython3",
   "version": "3.7.4"
  }
 },
 "nbformat": 4,
 "nbformat_minor": 4
}
