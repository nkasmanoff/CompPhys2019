{
 "cells": [
  {
   "cell_type": "markdown",
   "metadata": {},
   "source": [
    "# a)  Write a program to solve the problem using simulated annealing on a 50 × 50 lattice. The “energy” function for the system is minus the number of dimers, so that it is minimized when the dimers are a maximum. The moves for the Markov chain are as follows:"
   ]
  },
  {
   "cell_type": "code",
   "execution_count": 3,
   "metadata": {},
   "outputs": [],
   "source": [
    "import numpy as np\n",
    "import matplotlib.pyplot as plt\n",
    "import random\n",
    "%matplotlib inline"
   ]
  },
  {
   "cell_type": "code",
   "execution_count": null,
   "metadata": {},
   "outputs": [],
   "source": []
  },
  {
   "cell_type": "markdown",
   "metadata": {},
   "source": [
    "add dimers now, create a function that \n",
    "\n",
    "\n",
    "- picks a random point on the lattice \n",
    "\n",
    "- pick a random direction, and select and try\n",
    "\n",
    "- If that works, save to lattice\n",
    "\n",
    "- If it doesn't work, try another random selection \n",
    "\n",
    "- Repeat until either on the grid, or don't "
   ]
  },
  {
   "cell_type": "markdown",
   "metadata": {},
   "source": [
    "From book : \n",
    "\n",
    "\n",
    "i) Choose two adjacent sites on the lattice at random.\n",
    "ii) If those two sites are currently occupied by a single dimer, remove the dimer from\n",
    "the lattice.\n",
    "iii) If they are currently both empty, add a dimer.\n",
    "iv) Otherwise, do nothing.\n",
    "\n",
    "\n",
    "\n"
   ]
  },
  {
   "cell_type": "code",
   "execution_count": 4,
   "metadata": {},
   "outputs": [],
   "source": [
    "def anneal_dimers(lattice,T):\n",
    "    \n",
    "    #first propose a location i,j, and then i+1,j, i-1,j, i,j+1, i,j-1\n",
    "    \n",
    "    first_pt = random.randrange(start=1,stop = lattice.shape[0]-1) , random.randrange(start=1,stop = lattice.shape[0]-1)\n",
    "    directions= ['U','D','L','R']\n",
    "    direction = np.random.choice(directions)\n",
    "    if direction == 'U':\n",
    "        second_pt = first_pt[0] , first_pt[1] + 1\n",
    "    if direction == 'D':\n",
    "        second_pt = first_pt[0] , first_pt[1] - 1\n",
    "    if direction == 'L':\n",
    "        second_pt = first_pt[0] - 1, first_pt[1]\n",
    "    if direction == 'R':\n",
    "        second_pt = first_pt[0] + 1, first_pt[1]\n",
    "            \n",
    "    #now decide whether or not to accept or reject this change. \n",
    "    \n",
    "    \n",
    "    if lattice[first_pt] + lattice[second_pt] == 0:\n",
    "        #accept! No one is here\n",
    "        lattice[first_pt] = 1\n",
    "        lattice[second_pt] = 1\n",
    "    if lattice[first_pt] + lattice[second_pt] == 1:\n",
    "        pass\n",
    "        #do nothing\n",
    "        \n",
    "    if lattice[first_pt] + lattice[second_pt] == 2:\n",
    "        #both occupied. Are we better off removing this dimer and trying later? \n",
    "        #We will determine whether or not to with sim anneal. \n",
    "        \n",
    "        if np.random.random() < np.exp(-1/T):\n",
    "            lattice[first_pt] = 0\n",
    "            lattice[second_pt] = 0\n",
    "        else: \n",
    "            #leave as is\n",
    "            pass \n",
    "            \n",
    "    return lattice"
   ]
  },
  {
   "cell_type": "code",
   "execution_count": 5,
   "metadata": {},
   "outputs": [],
   "source": [
    "L = 50\n",
    "s = np.zeros((L,L),int)"
   ]
  },
  {
   "cell_type": "code",
   "execution_count": 6,
   "metadata": {},
   "outputs": [
    {
     "data": {
      "text/plain": [
       "<matplotlib.image.AxesImage at 0x114b34f90>"
      ]
     },
     "execution_count": 6,
     "metadata": {},
     "output_type": "execute_result"
    },
    {
     "data": {
      "image/png": "[encoded data removed]",
      "text/plain": [
       "<Figure size 432x288 with 1 Axes>"
      ]
     },
     "metadata": {
      "needs_background": "light"
     },
     "output_type": "display_data"
    }
   ],
   "source": [
    "plt.imshow(s)"
   ]
  },
  {
   "cell_type": "code",
   "execution_count": 9,
   "metadata": {},
   "outputs": [
    {
     "data": {
      "text/plain": [
       "<matplotlib.image.AxesImage at 0x11789a710>"
      ]
     },
     "execution_count": 9,
     "metadata": {},
     "output_type": "execute_result"
    },
    {
     "data": {
      "image/png": "[encoded data removed]",
      "text/plain": [
       "<Figure size 432x288 with 3 Axes>"
      ]
     },
     "metadata": {
      "needs_background": "light"
     },
     "output_type": "display_data"
    }
   ],
   "source": [
    "N = 0\n",
    "\n",
    "L = 50\n",
    "s = np.zeros((L,L),int)\n",
    "while N < 100:\n",
    "    \n",
    "    s = anneal_dimers(s,T=1)\n",
    "\n",
    "    N +=1\n",
    "    \n",
    "plt.subplot(131)\n",
    "plt.title(str(N) + \" Steps\")\n",
    "plt.imshow(s)\n",
    "\n",
    "\n",
    "while N < 1000:\n",
    "    \n",
    "    s = anneal_dimers(s,T=1)\n",
    "\n",
    "    N +=1\n",
    "    \n",
    "plt.subplot(132)\n",
    "plt.title(str(N) + \" Steps\")\n",
    "plt.imshow(s)\n",
    "\n",
    "\n",
    "\n",
    "while N < 10000:\n",
    "    \n",
    "    s = anneal_dimers(s,T=1)\n",
    "\n",
    "    N +=1\n",
    "plt.subplot(133)\n",
    "plt.title(str(N) + \" Steps\")\n",
    "plt.imshow(s)"
   ]
  },
  {
   "cell_type": "code",
   "execution_count": 11,
   "metadata": {},
   "outputs": [
    {
     "data": {
      "text/plain": [
       "<matplotlib.image.AxesImage at 0x11762d550>"
      ]
     },
     "execution_count": 11,
     "metadata": {},
     "output_type": "execute_result"
    },
    {
     "data": {
      "image/png": "[encoded data removed]",
      "text/plain": [
       "<Figure size 432x288 with 3 Axes>"
      ]
     },
     "metadata": {
      "needs_background": "light"
     },
     "output_type": "display_data"
    }
   ],
   "source": [
    "N = 0\n",
    "\n",
    "L = 50\n",
    "s = np.zeros((L,L),int)\n",
    "while N < 10000:\n",
    "    \n",
    "    s = anneal_dimers(s,T=.1)\n",
    "\n",
    "    N +=1\n",
    "    \n",
    "plt.subplot(131)\n",
    "plt.title(\"T = 0.1\")\n",
    "plt.imshow(s)\n",
    "\n",
    "\n",
    "N = 0\n",
    "L = 50\n",
    "s = np.zeros((L,L),int)\n",
    "while N < 10000:\n",
    "    \n",
    "    s = anneal_dimers(s,T=1)\n",
    "\n",
    "    N +=1\n",
    "    \n",
    "plt.subplot(132)\n",
    "plt.title(\"T = 1\")\n",
    "plt.imshow(s)\n",
    "\n",
    "N = 0\n",
    "L = 50\n",
    "s = np.zeros((L,L),int)\n",
    "while N < 10000:\n",
    "    \n",
    "    s = anneal_dimers(s,T=10)\n",
    "\n",
    "    N +=1\n",
    "plt.subplot(133)\n",
    "plt.title(\"T = 10 \")\n",
    "plt.imshow(s)"
   ]
  },
  {
   "cell_type": "code",
   "execution_count": null,
   "metadata": {},
   "outputs": [],
   "source": [
    "np.random.random()"
   ]
  },
  {
   "cell_type": "code",
   "execution_count": null,
   "metadata": {},
   "outputs": [],
   "source": []
  }
 ],
 "metadata": {
  "kernelspec": {
   "display_name": "Python 3",
   "language": "python",
   "name": "python3"
  },
  "language_info": {
   "codemirror_mode": {
    "name": "ipython",
    "version": 3
   },
   "file_extension": ".py",
   "mimetype": "text/x-python",
   "name": "python",
   "nbconvert_exporter": "python",
   "pygments_lexer": "ipython3",
   "version": "3.7.4"
  }
 },
 "nbformat": 4,
 "nbformat_minor": 4
}
