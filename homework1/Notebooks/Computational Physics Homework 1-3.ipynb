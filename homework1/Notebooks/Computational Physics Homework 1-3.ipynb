{
 "cells": [
  {
   "cell_type": "markdown",
   "metadata": {},
   "source": [
    "Noah Kasmanoff\n",
    "\n",
    "nsk367@nyu.edu\n",
    "\n",
    "Notebook workspace for questions in homework 1, will convert answers into py files and move to src once confident in their results. "
   ]
  },
  {
   "cell_type": "markdown",
   "metadata": {},
   "source": [
    "1) Differentiate the functions cos(x) and exp(x) at x = 0.1, 10 using single precision\n",
    "    forward-, central- and extrapolated-difference algorithms.\n",
    "\n",
    "    a) Write a code that implements these three methods.\n",
    "    \n",
    "    b) Make a log-log plot of the relative error ε vs step size h and check whether\n",
    "    the scaling and the number of significant digits obtained agrees with\n",
    "    simple estimates.\n",
    "    \n",
    "    c) Truncation and roundoff error manifest themselves in different regimes in\n",
    "    these plots. Clearly identify these regimes."
   ]
  },
  {
   "cell_type": "code",
   "execution_count": 34,
   "metadata": {
    "collapsed": true
   },
   "outputs": [],
   "source": [
    "import matplotlib.pyplot as plt\n",
    "%matplotlib inline\n",
    "import numpy as np\n",
    "import pandas as pd\n",
    "import seaborn as sns\n",
    "\n",
    "sns.set_style('whitegrid')\n",
    "sns.set_palette('husl')\n"
   ]
  },
  {
   "cell_type": "code",
   "execution_count": 70,
   "metadata": {
    "collapsed": true
   },
   "outputs": [],
   "source": [
    "Pk = pd.read_csv('../dat/lcdm_z0.matter_pk',delimiter=' ',names=['k','P(k)','idk1',\n",
    "                                                                'idk2'],header=None)\n",
    "\n",
    "Pk = Pk[Pk.columns[0:2]]"
   ]
  },
  {
   "cell_type": "code",
   "execution_count": 72,
   "metadata": {},
   "outputs": [
    {
     "data": {
      "text/html": [
       "<div>\n",
       "<style scoped>\n",
       "    .dataframe tbody tr th:only-of-type {\n",
       "        vertical-align: middle;\n",
       "    }\n",
       "\n",
       "    .dataframe tbody tr th {\n",
       "        vertical-align: top;\n",
       "    }\n",
       "\n",
       "    .dataframe thead th {\n",
       "        text-align: right;\n",
       "    }\n",
       "</style>\n",
       "<table border=\"1\" class=\"dataframe\">\n",
       "  <thead>\n",
       "    <tr style=\"text-align: right;\">\n",
       "      <th></th>\n",
       "      <th>k</th>\n",
       "      <th>P(k)</th>\n",
       "    </tr>\n",
       "  </thead>\n",
       "  <tbody>\n",
       "    <tr>\n",
       "      <th>0</th>\n",
       "      <td>0.000100</td>\n",
       "      <td>651.342300</td>\n",
       "    </tr>\n",
       "    <tr>\n",
       "      <th>1</th>\n",
       "      <td>0.000102</td>\n",
       "      <td>665.741300</td>\n",
       "    </tr>\n",
       "    <tr>\n",
       "      <th>2</th>\n",
       "      <td>0.000105</td>\n",
       "      <td>680.458400</td>\n",
       "    </tr>\n",
       "    <tr>\n",
       "      <th>3</th>\n",
       "      <td>0.000107</td>\n",
       "      <td>695.500400</td>\n",
       "    </tr>\n",
       "    <tr>\n",
       "      <th>4</th>\n",
       "      <td>0.000110</td>\n",
       "      <td>710.874700</td>\n",
       "    </tr>\n",
       "    <tr>\n",
       "      <th>5</th>\n",
       "      <td>0.000112</td>\n",
       "      <td>726.588500</td>\n",
       "    </tr>\n",
       "    <tr>\n",
       "      <th>6</th>\n",
       "      <td>0.000115</td>\n",
       "      <td>742.649300</td>\n",
       "    </tr>\n",
       "    <tr>\n",
       "      <th>7</th>\n",
       "      <td>0.000117</td>\n",
       "      <td>759.064700</td>\n",
       "    </tr>\n",
       "    <tr>\n",
       "      <th>8</th>\n",
       "      <td>0.000120</td>\n",
       "      <td>775.842600</td>\n",
       "    </tr>\n",
       "    <tr>\n",
       "      <th>9</th>\n",
       "      <td>0.000123</td>\n",
       "      <td>792.990900</td>\n",
       "    </tr>\n",
       "    <tr>\n",
       "      <th>10</th>\n",
       "      <td>0.000126</td>\n",
       "      <td>810.517700</td>\n",
       "    </tr>\n",
       "    <tr>\n",
       "      <th>11</th>\n",
       "      <td>0.000129</td>\n",
       "      <td>828.431400</td>\n",
       "    </tr>\n",
       "    <tr>\n",
       "      <th>12</th>\n",
       "      <td>0.000132</td>\n",
       "      <td>846.740500</td>\n",
       "    </tr>\n",
       "    <tr>\n",
       "      <th>13</th>\n",
       "      <td>0.000135</td>\n",
       "      <td>865.453600</td>\n",
       "    </tr>\n",
       "    <tr>\n",
       "      <th>14</th>\n",
       "      <td>0.000138</td>\n",
       "      <td>884.579700</td>\n",
       "    </tr>\n",
       "    <tr>\n",
       "      <th>15</th>\n",
       "      <td>0.000141</td>\n",
       "      <td>904.127900</td>\n",
       "    </tr>\n",
       "    <tr>\n",
       "      <th>16</th>\n",
       "      <td>0.000145</td>\n",
       "      <td>924.107300</td>\n",
       "    </tr>\n",
       "    <tr>\n",
       "      <th>17</th>\n",
       "      <td>0.000148</td>\n",
       "      <td>944.527500</td>\n",
       "    </tr>\n",
       "    <tr>\n",
       "      <th>18</th>\n",
       "      <td>0.000151</td>\n",
       "      <td>965.398100</td>\n",
       "    </tr>\n",
       "    <tr>\n",
       "      <th>19</th>\n",
       "      <td>0.000155</td>\n",
       "      <td>986.729000</td>\n",
       "    </tr>\n",
       "    <tr>\n",
       "      <th>20</th>\n",
       "      <td>0.000158</td>\n",
       "      <td>1008.530000</td>\n",
       "    </tr>\n",
       "    <tr>\n",
       "      <th>21</th>\n",
       "      <td>0.000162</td>\n",
       "      <td>1030.812000</td>\n",
       "    </tr>\n",
       "    <tr>\n",
       "      <th>22</th>\n",
       "      <td>0.000166</td>\n",
       "      <td>1053.586000</td>\n",
       "    </tr>\n",
       "    <tr>\n",
       "      <th>23</th>\n",
       "      <td>0.000170</td>\n",
       "      <td>1076.861000</td>\n",
       "    </tr>\n",
       "    <tr>\n",
       "      <th>24</th>\n",
       "      <td>0.000174</td>\n",
       "      <td>1100.649000</td>\n",
       "    </tr>\n",
       "    <tr>\n",
       "      <th>25</th>\n",
       "      <td>0.000178</td>\n",
       "      <td>1124.962000</td>\n",
       "    </tr>\n",
       "    <tr>\n",
       "      <th>26</th>\n",
       "      <td>0.000182</td>\n",
       "      <td>1149.810000</td>\n",
       "    </tr>\n",
       "    <tr>\n",
       "      <th>27</th>\n",
       "      <td>0.000186</td>\n",
       "      <td>1175.206000</td>\n",
       "    </tr>\n",
       "    <tr>\n",
       "      <th>28</th>\n",
       "      <td>0.000191</td>\n",
       "      <td>1201.161000</td>\n",
       "    </tr>\n",
       "    <tr>\n",
       "      <th>29</th>\n",
       "      <td>0.000195</td>\n",
       "      <td>1227.687000</td>\n",
       "    </tr>\n",
       "    <tr>\n",
       "      <th>...</th>\n",
       "      <td>...</td>\n",
       "      <td>...</td>\n",
       "    </tr>\n",
       "    <tr>\n",
       "      <th>671</th>\n",
       "      <td>512.861400</td>\n",
       "      <td>0.000007</td>\n",
       "    </tr>\n",
       "    <tr>\n",
       "      <th>672</th>\n",
       "      <td>524.807500</td>\n",
       "      <td>0.000007</td>\n",
       "    </tr>\n",
       "    <tr>\n",
       "      <th>673</th>\n",
       "      <td>537.031800</td>\n",
       "      <td>0.000006</td>\n",
       "    </tr>\n",
       "    <tr>\n",
       "      <th>674</th>\n",
       "      <td>549.540900</td>\n",
       "      <td>0.000006</td>\n",
       "    </tr>\n",
       "    <tr>\n",
       "      <th>675</th>\n",
       "      <td>562.341300</td>\n",
       "      <td>0.000005</td>\n",
       "    </tr>\n",
       "    <tr>\n",
       "      <th>676</th>\n",
       "      <td>575.439900</td>\n",
       "      <td>0.000005</td>\n",
       "    </tr>\n",
       "    <tr>\n",
       "      <th>677</th>\n",
       "      <td>588.843700</td>\n",
       "      <td>0.000005</td>\n",
       "    </tr>\n",
       "    <tr>\n",
       "      <th>678</th>\n",
       "      <td>602.559600</td>\n",
       "      <td>0.000004</td>\n",
       "    </tr>\n",
       "    <tr>\n",
       "      <th>679</th>\n",
       "      <td>616.595000</td>\n",
       "      <td>0.000004</td>\n",
       "    </tr>\n",
       "    <tr>\n",
       "      <th>680</th>\n",
       "      <td>630.957300</td>\n",
       "      <td>0.000004</td>\n",
       "    </tr>\n",
       "    <tr>\n",
       "      <th>681</th>\n",
       "      <td>645.654200</td>\n",
       "      <td>0.000004</td>\n",
       "    </tr>\n",
       "    <tr>\n",
       "      <th>682</th>\n",
       "      <td>660.693400</td>\n",
       "      <td>0.000003</td>\n",
       "    </tr>\n",
       "    <tr>\n",
       "      <th>683</th>\n",
       "      <td>676.083000</td>\n",
       "      <td>0.000003</td>\n",
       "    </tr>\n",
       "    <tr>\n",
       "      <th>684</th>\n",
       "      <td>691.831000</td>\n",
       "      <td>0.000003</td>\n",
       "    </tr>\n",
       "    <tr>\n",
       "      <th>685</th>\n",
       "      <td>707.945800</td>\n",
       "      <td>0.000003</td>\n",
       "    </tr>\n",
       "    <tr>\n",
       "      <th>686</th>\n",
       "      <td>724.436000</td>\n",
       "      <td>0.000003</td>\n",
       "    </tr>\n",
       "    <tr>\n",
       "      <th>687</th>\n",
       "      <td>741.310200</td>\n",
       "      <td>0.000002</td>\n",
       "    </tr>\n",
       "    <tr>\n",
       "      <th>688</th>\n",
       "      <td>758.577600</td>\n",
       "      <td>0.000002</td>\n",
       "    </tr>\n",
       "    <tr>\n",
       "      <th>689</th>\n",
       "      <td>776.247100</td>\n",
       "      <td>0.000002</td>\n",
       "    </tr>\n",
       "    <tr>\n",
       "      <th>690</th>\n",
       "      <td>794.328200</td>\n",
       "      <td>0.000002</td>\n",
       "    </tr>\n",
       "    <tr>\n",
       "      <th>691</th>\n",
       "      <td>812.830500</td>\n",
       "      <td>0.000002</td>\n",
       "    </tr>\n",
       "    <tr>\n",
       "      <th>692</th>\n",
       "      <td>831.763800</td>\n",
       "      <td>0.000002</td>\n",
       "    </tr>\n",
       "    <tr>\n",
       "      <th>693</th>\n",
       "      <td>851.138000</td>\n",
       "      <td>0.000002</td>\n",
       "    </tr>\n",
       "    <tr>\n",
       "      <th>694</th>\n",
       "      <td>870.963600</td>\n",
       "      <td>0.000002</td>\n",
       "    </tr>\n",
       "    <tr>\n",
       "      <th>695</th>\n",
       "      <td>891.250900</td>\n",
       "      <td>0.000001</td>\n",
       "    </tr>\n",
       "    <tr>\n",
       "      <th>696</th>\n",
       "      <td>912.010800</td>\n",
       "      <td>0.000001</td>\n",
       "    </tr>\n",
       "    <tr>\n",
       "      <th>697</th>\n",
       "      <td>933.254300</td>\n",
       "      <td>0.000001</td>\n",
       "    </tr>\n",
       "    <tr>\n",
       "      <th>698</th>\n",
       "      <td>954.992600</td>\n",
       "      <td>0.000001</td>\n",
       "    </tr>\n",
       "    <tr>\n",
       "      <th>699</th>\n",
       "      <td>977.237200</td>\n",
       "      <td>0.000001</td>\n",
       "    </tr>\n",
       "    <tr>\n",
       "      <th>700</th>\n",
       "      <td>1000.000000</td>\n",
       "      <td>0.000001</td>\n",
       "    </tr>\n",
       "  </tbody>\n",
       "</table>\n",
       "<p>701 rows × 2 columns</p>\n",
       "</div>"
      ],
      "text/plain": [
       "               k         P(k)\n",
       "0       0.000100   651.342300\n",
       "1       0.000102   665.741300\n",
       "2       0.000105   680.458400\n",
       "3       0.000107   695.500400\n",
       "4       0.000110   710.874700\n",
       "5       0.000112   726.588500\n",
       "6       0.000115   742.649300\n",
       "7       0.000117   759.064700\n",
       "8       0.000120   775.842600\n",
       "9       0.000123   792.990900\n",
       "10      0.000126   810.517700\n",
       "11      0.000129   828.431400\n",
       "12      0.000132   846.740500\n",
       "13      0.000135   865.453600\n",
       "14      0.000138   884.579700\n",
       "15      0.000141   904.127900\n",
       "16      0.000145   924.107300\n",
       "17      0.000148   944.527500\n",
       "18      0.000151   965.398100\n",
       "19      0.000155   986.729000\n",
       "20      0.000158  1008.530000\n",
       "21      0.000162  1030.812000\n",
       "22      0.000166  1053.586000\n",
       "23      0.000170  1076.861000\n",
       "24      0.000174  1100.649000\n",
       "25      0.000178  1124.962000\n",
       "26      0.000182  1149.810000\n",
       "27      0.000186  1175.206000\n",
       "28      0.000191  1201.161000\n",
       "29      0.000195  1227.687000\n",
       "..           ...          ...\n",
       "671   512.861400     0.000007\n",
       "672   524.807500     0.000007\n",
       "673   537.031800     0.000006\n",
       "674   549.540900     0.000006\n",
       "675   562.341300     0.000005\n",
       "676   575.439900     0.000005\n",
       "677   588.843700     0.000005\n",
       "678   602.559600     0.000004\n",
       "679   616.595000     0.000004\n",
       "680   630.957300     0.000004\n",
       "681   645.654200     0.000004\n",
       "682   660.693400     0.000003\n",
       "683   676.083000     0.000003\n",
       "684   691.831000     0.000003\n",
       "685   707.945800     0.000003\n",
       "686   724.436000     0.000003\n",
       "687   741.310200     0.000002\n",
       "688   758.577600     0.000002\n",
       "689   776.247100     0.000002\n",
       "690   794.328200     0.000002\n",
       "691   812.830500     0.000002\n",
       "692   831.763800     0.000002\n",
       "693   851.138000     0.000002\n",
       "694   870.963600     0.000002\n",
       "695   891.250900     0.000001\n",
       "696   912.010800     0.000001\n",
       "697   933.254300     0.000001\n",
       "698   954.992600     0.000001\n",
       "699   977.237200     0.000001\n",
       "700  1000.000000     0.000001\n",
       "\n",
       "[701 rows x 2 columns]"
      ]
     },
     "execution_count": 72,
     "metadata": {},
     "output_type": "execute_result"
    }
   ],
   "source": [
    "Pk"
   ]
  },
  {
   "cell_type": "markdown",
   "metadata": {},
   "source": [
    "For now, let's assume that's the correct ordering and columns. Pk[0] -> k values, Pk[1] -> P values. "
   ]
  },
  {
   "cell_type": "markdown",
   "metadata": {},
   "source": [
    " 1e4 / 1e6"
   ]
  },
  {
   "cell_type": "markdown",
   "metadata": {},
   "source": [
    "Units??\n",
    "\n",
    "\n",
    "0th order Bessel function used? \n",
    "\n",
    "\n"
   ]
  },
  {
   "cell_type": "code",
   "execution_count": 73,
   "metadata": {
    "collapsed": true
   },
   "outputs": [],
   "source": [
    "def integrate(f,a,b,N):\n",
    "\n",
    "    h = (b - a) / (N)\n",
    "        \n",
    "    s = f(a) + f(b) + 4*f(b-h)\n",
    "    for k in range(1,N//2):\n",
    "        s += 4*f(a + (2*k-1)*h) + 2*f(a+2*k*h)\n",
    "    I_simpson = (h/3)*s  #   expected error ~h^4\n",
    "        \n",
    "\n",
    "    return I_simpson\n",
    "    "
   ]
  },
  {
   "cell_type": "code",
   "execution_count": 77,
   "metadata": {
    "collapsed": true
   },
   "outputs": [],
   "source": [
    "from scipy import interpolate"
   ]
  },
  {
   "cell_type": "code",
   "execution_count": 78,
   "metadata": {},
   "outputs": [
    {
     "data": {
      "text/plain": [
       "<module 'scipy.interpolate' from '/Users/noahkasmanoff/anaconda/lib/python3.6/site-packages/scipy/interpolate/__init__.py'>"
      ]
     },
     "execution_count": 78,
     "metadata": {},
     "output_type": "execute_result"
    }
   ],
   "source": [
    "interpolate.CubicSpline(x)\n",
    "\n",
    "x = np.arange(10)\n",
    "y = np.sin(x)\n",
    "cs = CubicSpline(x, y)\n",
    ">>> xs = np.arange(-0.5, 9.6, 0.1)\n",
    ">>> fig, ax = plt.subplots(figsize=(6.5, 4))\n",
    ">>> ax.plot(x, y, 'o', label='data')\n",
    ">>> ax.plot(xs, np.sin(xs), label='true')"
   ]
  },
  {
   "cell_type": "code",
   "execution_count": 79,
   "metadata": {
    "collapsed": true
   },
   "outputs": [],
   "source": [
    "cs = interpolate.CubicSpline(Pk['k'],Pk['Integrand'])"
   ]
  },
  {
   "cell_type": "code",
   "execution_count": 85,
   "metadata": {},
   "outputs": [
    {
     "data": {
      "text/plain": [
       "[<matplotlib.lines.Line2D at 0x122b5bcf8>]"
      ]
     },
     "execution_count": 85,
     "metadata": {},
     "output_type": "execute_result"
    },
    {
     "data": {
      "image/png": "[encoded data removed]",
      "text/plain": [
       "<Figure size 432x288 with 1 Axes>"
      ]
     },
     "metadata": {},
     "output_type": "display_data"
    }
   ],
   "source": [
    "plt.plot(cs(10**np.linspace(-3.99,2.99,101)))\n",
    "plt.plot(integrand_F(10**np.linspace(-3.99,2.99,101)))\n",
    "\n",
    "#cubic spline performs slightly better!"
   ]
  },
  {
   "cell_type": "code",
   "execution_count": 81,
   "metadata": {},
   "outputs": [
    {
     "data": {
      "text/plain": [
       "0.024787071209281964"
      ]
     },
     "execution_count": 81,
     "metadata": {},
     "output_type": "execute_result"
    }
   ],
   "source": []
  },
  {
   "cell_type": "code",
   "execution_count": 91,
   "metadata": {
    "collapsed": true
   },
   "outputs": [],
   "source": [
    "#cubic spline everything\n",
    "corrs = []\n",
    "rs = np.linspace(50,120,21)\n",
    "for r in rs:\n",
    "    Pk['Integrand'] = Pk['k'] * Pk['P(k)'] * np.sin(Pk['k'] * r)  / ( r * 2* np.pi * np.pi)\n",
    "    integrand_F = lambda x: np.interp(x,Pk['k'],Pk['Integrand'])\n",
    "    cs = interpolate.CubicSpline(Pk['k'],Pk['Integrand'])\n",
    "    integrand_F = lambda x: cs(x) \n",
    "    integral = integrate(f=integrand_F,a = 1, b = 9,N=int(1e5))\n",
    "    corrs.append(integral)"
   ]
  },
  {
   "cell_type": "code",
   "execution_count": 121,
   "metadata": {
    "scrolled": true
   },
   "outputs": [],
   "source": [
    "corrs = []\n",
    "rs = np.linspace(50,120,21)\n",
    "for r in rs:\n",
    "    Pk['Integrand'] = Pk['k'] * Pk['P(k)'] * np.sin(Pk['k'] * r)  / ( r)\n",
    "    #integrand_F = lambda x: np.interp(x,Pk['k'],Pk['Integrand'])\n",
    "   # integral = integrate(f=integrand_F,a = 1, b = 9,N=int(1e5))\n",
    "    #corrs.append(integral)"
   ]
  },
  {
   "cell_type": "code",
   "execution_count": 138,
   "metadata": {},
   "outputs": [
    {
     "data": {
      "text/plain": [
       "array([  2.,   4.,   6.,   8.,  10.,  12.,  14.,  16.,  18.,  20.,  22.,\n",
       "        24.,  26.,  28.,  30.,  32.,  34.,  36.,  38.,  40.,  42.,  44.,\n",
       "        46.,  48.,  50.,  52.,  54.,  56.,  58.,  60.,  62.,  64.,  66.,\n",
       "        68.,  70.,  72.,  74.,  76.,  78.,  80.,  82.,  84.,  86.,  88.,\n",
       "        90.,  92.,  94.,  96.,  98., 100., 102., 104., 106., 108., 110.,\n",
       "       112., 114., 116., 118., 120.])"
      ]
     },
     "execution_count": 138,
     "metadata": {},
     "output_type": "execute_result"
    }
   ],
   "source": [
    "np.linspace(2,120,121//2)"
   ]
  },
  {
   "cell_type": "code",
   "execution_count": 154,
   "metadata": {},
   "outputs": [
    {
     "name": "stdout",
     "output_type": "stream",
     "text": [
      "2.0 4.292992696067096\n",
      "2.9833333333333334 2.8047736200954754\n",
      "3.966666666666667 2.0086334618404025\n",
      "4.949999999999999 1.5181141964123241\n",
      "5.933333333333334 1.1892841274706885\n",
      "6.916666666666666 0.9560109152013931\n",
      "7.8999999999999995 0.7836511382700885\n",
      "8.883333333333333 0.6523135601165619\n",
      "9.866666666666667 0.5497914247481538\n",
      "10.85 0.468187380846948\n",
      "11.833333333333332 0.4021842557544298\n",
      "12.816666666666666 0.3480742070749989\n",
      "13.799999999999999 0.30320290962134283\n",
      "14.783333333333333 0.26562102751860445\n",
      "15.766666666666666 0.23387189254758756\n",
      "16.75 0.20684399681852944\n",
      "17.733333333333334 0.18367942083961994\n",
      "18.716666666666665 0.163704495914967\n",
      "19.7 0.1463862474999483\n",
      "20.683333333333334 0.1312960920514376\n",
      "21.666666666666664 0.11808834807880722\n",
      "22.65 0.10647984333083883\n",
      "23.633333333333333 0.09623866979690762\n",
      "24.616666666666667 0.08717151304150843\n",
      "25.599999999999998 0.07911808340261868\n",
      "26.583333333333332 0.071943130058443\n",
      "27.566666666666666 0.06553322921840445\n",
      "28.549999999999997 0.059791458335121846\n",
      "29.53333333333333 0.054635831051485416\n",
      "30.516666666666666 0.04999557099100463\n",
      "31.5 0.045810538839648314\n",
      "32.483333333333334 0.04202809609070717\n",
      "33.46666666666667 0.03860321634636492\n",
      "34.449999999999996 0.03549622984082199\n",
      "35.43333333333333 0.03267317238771805\n",
      "36.416666666666664 0.03010375102191883\n",
      "37.4 0.02776180873580932\n",
      "38.38333333333333 0.02562387375637637\n",
      "39.36666666666667 0.023669793314663522\n",
      "40.35 0.021881263241804408\n",
      "41.33333333333333 0.02024242163054603\n",
      "42.31666666666666 0.018738756152802582\n",
      "43.3 0.017357807314385923\n",
      "44.28333333333333 0.016088105011746113\n",
      "45.266666666666666 0.014919652284773094\n",
      "46.25 0.013843149625129844\n",
      "47.233333333333334 0.012850612696608163\n",
      "48.21666666666666 0.011934609308805558\n",
      "49.199999999999996 0.01108873174045379\n",
      "50.18333333333333 0.010306797299000987\n",
      "51.166666666666664 0.009583542717288517\n",
      "52.15 0.008913984298231299\n",
      "53.13333333333333 0.008293881277011615\n",
      "54.11666666666667 0.007719087490575818\n",
      "55.099999999999994 0.007186056017405279\n",
      "56.08333333333333 0.006691297827129185\n",
      "57.06666666666666 0.006231930168120569\n",
      "58.05 0.005805111722730066\n",
      "59.03333333333333 0.005408453085585134\n",
      "60.016666666666666 0.005039492441736621\n",
      "61.0 0.004696221082898707\n",
      "61.98333333333333 0.004376615338332946\n",
      "62.96666666666666 0.0040790499669549046\n",
      "63.949999999999996 0.003801832181614759\n",
      "64.93333333333334 0.003543578759547778\n",
      "65.91666666666666 0.0033028126391593682\n",
      "66.89999999999999 0.0030783975461593847\n",
      "67.88333333333333 0.0028691517575663767\n",
      "68.86666666666666 0.0026741791338772644\n",
      "69.85 0.002492454658269944\n",
      "70.83333333333333 0.0023232015685535033\n",
      "71.81666666666666 0.0021655801977164286\n",
      "72.8 0.0020190297962537664\n",
      "73.78333333333333 0.001882905256305225\n",
      "74.76666666666667 0.0017567764402290872\n",
      "75.75 0.0016401064127272674\n",
      "76.73333333333333 0.001532591500402708\n",
      "77.71666666666667 0.0014338700504707258\n",
      "78.7 0.0013438189661124746\n",
      "79.68333333333332 0.0012622375838572048\n",
      "80.66666666666666 0.0011891021242859867\n",
      "81.64999999999999 0.0011243081801203135\n",
      "82.63333333333333 0.0010679616467677514\n",
      "83.61666666666666 0.001020126554083201\n",
      "84.6 0.0009810508192819296\n",
      "85.58333333333333 0.0009508899288047392\n",
      "86.56666666666666 0.0009299202645306663\n",
      "87.55 0.000918306655810415\n",
      "88.53333333333333 0.000916328170051446\n",
      "89.51666666666667 0.000924126020039719\n",
      "90.5 0.0009418560539507391\n",
      "91.48333333333333 0.000969410307802576\n",
      "92.46666666666667 0.001006563687247067\n",
      "93.44999999999999 0.001052724318376599\n",
      "94.43333333333332 0.0011070898415692927\n",
      "95.41666666666666 0.0011684023269274422\n",
      "96.39999999999999 0.0012350790718094087\n",
      "97.38333333333333 0.00130497952214406\n",
      "98.36666666666666 0.0013756016910269437\n",
      "99.35 0.0014439729779765764\n",
      "100.33333333333333 0.0015069479544099467\n",
      "101.31666666666666 0.0015611695136037891\n",
      "102.3 0.0016033887020396695\n",
      "103.28333333333333 0.0016304724869369\n",
      "104.26666666666667 0.0016397701753959216\n",
      "105.25 0.0016291957722460973\n",
      "106.23333333333333 0.001597598730618425\n",
      "107.21666666666665 0.0015447770824022745\n",
      "108.19999999999999 0.0014716610708433522\n",
      "109.18333333333332 0.0013800892163922634\n",
      "110.16666666666666 0.0012727614024226844\n",
      "111.14999999999999 0.001152859947384525\n",
      "112.13333333333333 0.0010239335416302696\n",
      "113.11666666666666 0.0008895347861174993\n",
      "114.1 0.0007531442867598113\n",
      "115.08333333333333 0.0006178869728014281\n",
      "116.06666666666666 0.0004865224555969864\n",
      "117.05 0.00036125355730479657\n",
      "118.03333333333333 0.00024381025673966358\n",
      "119.01666666666667 0.00013535206895556892\n",
      "120.0 3.662426142405455e-05\n"
     ]
    }
   ],
   "source": [
    "#cubic spline pk, then multiply \n",
    "\n",
    "corrs = []\n",
    "rs = np.linspace(2,120,121)\n",
    "for r in rs:\n",
    "    cs = interpolate.CubicSpline(x=Pk['k'],y=Pk['P(k)'])\n",
    "    f3 = lambda k: ((k*k*cs(k)*np.sin(k*r)) / (k*r))\n",
    "    integral = integrate(f = f3,a = min(Pk['k'])+.00001, b = max(Pk['k']) - .00001 , N=int(1e5)) / (2*np.pi**2)#THIS WAS ITTT!!\n",
    "    corrs.append(integral)\n",
    "    \n",
    "    print(r,integral)\n"
   ]
  },
  {
   "cell_type": "markdown",
   "metadata": {},
   "source": [
    "This problem took me a lot longer than I anticipated, and in addition to my notes above, I'd like to "
   ]
  },
  {
   "cell_type": "code",
   "execution_count": 213,
   "metadata": {},
   "outputs": [
    {
     "data": {
      "text/plain": [
       "<matplotlib.legend.Legend at 0x125c6cb70>"
      ]
     },
     "execution_count": 213,
     "metadata": {},
     "output_type": "execute_result"
    },
    {
     "data": {
      "image/png": "[encoded data removed]",
      "text/plain": [
       "<Figure size 720x720 with 1 Axes>"
      ]
     },
     "metadata": {},
     "output_type": "display_data"
    }
   ],
   "source": [
    "plt.figure(figsize=(10,10))\n",
    "\n",
    "corrs = np.array(corrs)\n",
    "corrs80 = corrs[rs>80]\n",
    "rs80 = rs[rs>80]\n",
    "plt.plot(rs,corrs,'b--')\n",
    "plt.plot(rs80[corrs80.argmax()],corrs80[corrs80.argmax()],'y*',markersize = 20,label = 'BAO Bump')\n",
    "plt.xlabel(\"Separation r [Mpc/h]\",fontsize = 15)\n",
    "plt.ylabel('Correlation Function ξ (r)',fontsize = 15)\n",
    "plt.title(\"Correlation Function vs. Separation \",fontsize = 20)\n",
    "plt.legend()"
   ]
  },
  {
   "cell_type": "code",
   "execution_count": 205,
   "metadata": {},
   "outputs": [
    {
     "data": {
      "text/plain": [
       "106.23333333333333"
      ]
     },
     "execution_count": 205,
     "metadata": {},
     "output_type": "execute_result"
    }
   ],
   "source": [
    "rs80[26]"
   ]
  },
  {
   "cell_type": "code",
   "execution_count": 214,
   "metadata": {},
   "outputs": [
    {
     "data": {
      "text/plain": [
       "<matplotlib.legend.Legend at 0x12600def0>"
      ]
     },
     "execution_count": 214,
     "metadata": {},
     "output_type": "execute_result"
    },
    {
     "data": {
      "image/png": "[encoded data removed]",
      "text/plain": [
       "<Figure size 720x720 with 1 Axes>"
      ]
     },
     "metadata": {},
     "output_type": "display_data"
    }
   ],
   "source": [
    "plt.figure(figsize=(10,10))\n",
    "r2corrs = np.multiply(np.power(rs,2),corrs)\n",
    "r2corrs80 = r2corrs[rs > 80]\n",
    "plt.plot(rs,r2corrs,'b--')\n",
    "plt.plot(rs80[r2corrs80.argmax()],r2corrs80[r2corrs80.argmax()],'y*',markersize=20,label = 'BAO Bump')\n",
    "plt.xlabel(\"Separation r [Mpc/h]\",fontsize = 15)\n",
    "plt.ylabel('r^2 * ξ (r)',fontsize = 15)\n",
    "plt.title(\"r^2 * ξ (r) vs. r  \",fontsize = 20)\n",
    "plt.legend()"
   ]
  },
  {
   "cell_type": "markdown",
   "metadata": {},
   "source": [
    "In the Correlation vs Separation graph, we locate the BAO bump at approximately r = 105.25\n",
    "When adjusting at r^2, this bump is at around r = 106.33.\n",
    "\n",
    "These differences are minor and assumed negligible, and an artifact of multiplying by this scaled factor of r**2. \n",
    "\n",
    "In any case, we will follow with the original manifestation of this trend (and actually modeling a trend), to conclude that the BAO bump is at approximately r = 105.25 Mpc/h. "
   ]
  },
  {
   "cell_type": "code",
   "execution_count": 163,
   "metadata": {},
   "outputs": [],
   "source": [
    "#rs[rs>80]\n",
    "corrs = np.array(corrs)"
   ]
  },
  {
   "cell_type": "code",
   "execution_count": 167,
   "metadata": {
    "collapsed": true
   },
   "outputs": [],
   "source": [
    "corrs80 = corrs[rs>80]\n",
    "rs80 = rs[rs>80]"
   ]
  },
  {
   "cell_type": "code",
   "execution_count": 170,
   "metadata": {},
   "outputs": [
    {
     "data": {
      "text/plain": [
       "0.0016397701753959216"
      ]
     },
     "execution_count": 170,
     "metadata": {},
     "output_type": "execute_result"
    }
   ],
   "source": [
    "rs80[max(corrs80)"
   ]
  },
  {
   "cell_type": "code",
   "execution_count": 177,
   "metadata": {},
   "outputs": [
    {
     "data": {
      "text/plain": [
       "[<matplotlib.lines.Line2D at 0x12502fac8>]"
      ]
     },
     "execution_count": 177,
     "metadata": {},
     "output_type": "execute_result"
    },
    {
     "data": {
      "image/png": "[encoded data removed]",
      "text/plain": [
       "<Figure size 432x288 with 1 Axes>"
      ]
     },
     "metadata": {},
     "output_type": "display_data"
    }
   ],
   "source": [
    "plt.plot(rs[corrs80.argmax()],corrs80[corrs80.argmax()],'o')"
   ]
  },
  {
   "cell_type": "code",
   "execution_count": null,
   "metadata": {
    "collapsed": true
   },
   "outputs": [],
   "source": []
  },
  {
   "cell_type": "markdown",
   "metadata": {},
   "source": [
    "# THESE ONES LOOK RIGHT!"
   ]
  },
  {
   "cell_type": "code",
   "execution_count": 149,
   "metadata": {},
   "outputs": [
    {
     "data": {
      "text/plain": [
       "Text(0.5, 1.0, 'Correlation Function vs. Separation ')"
      ]
     },
     "execution_count": 149,
     "metadata": {},
     "output_type": "execute_result"
    },
    {
     "data": {
      "image/png": "[encoded data removed]",
      "text/plain": [
       "<Figure size 432x288 with 1 Axes>"
      ]
     },
     "metadata": {},
     "output_type": "display_data"
    }
   ],
   "source": [
    "plt.plot(rs,corrs,'-')\n",
    "plt.xlabel(\"Separation r [Mpc/h]\",fontsize = 15)\n",
    "plt.ylabel('Correlation Function ξ (r)',fontsize = 15)\n",
    "plt.title(\"Correlation Function vs. Separation \",fontsize = 20)\n",
    "#plt.xscale('symlog')"
   ]
  },
  {
   "cell_type": "code",
   "execution_count": 150,
   "metadata": {
    "scrolled": false
   },
   "outputs": [
    {
     "data": {
      "text/plain": [
       "Text(0.5, 1.0, 'r^2 * Correlation Function vs. Separation ')"
      ]
     },
     "execution_count": 150,
     "metadata": {},
     "output_type": "execute_result"
    },
    {
     "data": {
      "image/png": "[encoded data removed]",
      "text/plain": [
       "<Figure size 432x288 with 1 Axes>"
      ]
     },
     "metadata": {},
     "output_type": "display_data"
    }
   ],
   "source": [
    "plt.plot(rs,np.multiply(np.power(rs,2),corrs),'-')\n",
    "plt.xlabel(\"Separation r [Mpc/h]\",fontsize = 15)\n",
    "plt.ylabel('r^2 * ξ (r)',fontsize = 15)\n",
    "plt.title(\"r^2 * Correlation Function vs. Separation \",fontsize = 20)"
   ]
  },
  {
   "cell_type": "code",
   "execution_count": 89,
   "metadata": {},
   "outputs": [
    {
     "data": {
      "text/plain": [
       "array([ 50. ,  53.5,  57. ,  60.5,  64. ,  67.5,  71. ,  74.5,  78. ,\n",
       "        81.5,  85. ,  88.5,  92. ,  95.5,  99. , 102.5, 106. , 109.5,\n",
       "       113. , 116.5, 120. ])"
      ]
     },
     "execution_count": 89,
     "metadata": {},
     "output_type": "execute_result"
    }
   ],
   "source": []
  },
  {
   "cell_type": "code",
   "execution_count": null,
   "metadata": {
    "collapsed": true
   },
   "outputs": [],
   "source": []
  }
 ],
 "metadata": {
  "kernelspec": {
   "display_name": "Python 3",
   "language": "python",
   "name": "python3"
  },
  "language_info": {
   "codemirror_mode": {
    "name": "ipython",
    "version": 3
   },
   "file_extension": ".py",
   "mimetype": "text/x-python",
   "name": "python",
   "nbconvert_exporter": "python",
   "pygments_lexer": "ipython3",
   "version": "3.6.1"
  }
 },
 "nbformat": 4,
 "nbformat_minor": 2
}
