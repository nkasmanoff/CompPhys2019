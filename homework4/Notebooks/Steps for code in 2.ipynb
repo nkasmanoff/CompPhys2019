{
 "cells": [
  {
   "cell_type": "markdown",
   "metadata": {},
   "source": [
    "# Steps in 2\n",
    "\n",
    "\n",
    "# Make function for gravity\n",
    "\n",
    "    Input is r and t (for some reason )\n",
    "\n",
    "    Return an array of x y vx vy values "
   ]
  },
  {
   "cell_type": "code",
   "execution_count": 60,
   "metadata": {
    "collapsed": true
   },
   "outputs": [],
   "source": [
    "from numpy import array, sqrt\n",
    "\n",
    "def f(r,t):\n",
    "    G = M = 1\n",
    "    \n",
    "    R = 1\n",
    "    x,y,vx,vy = r\n",
    "\n",
    "    Dx = vx\n",
    "    Dy = vy\n",
    "\n",
    "    R = sqrt(x**2 + y**2)\n",
    "\n",
    "    Dvx = -G*M*x/R**3\n",
    "    Dvy = -G*M*y/R**3\n",
    "\n",
    "    return array([Dx,Dy,Dvx,Dvy])"
   ]
  },
  {
   "cell_type": "markdown",
   "metadata": {},
   "source": [
    "# Make function for rk4 in arbitrary input\n",
    "\n",
    "    r is a vector of variables to solve for as a function of t,\n",
    "    r = [x,y,vx,vy]\n",
    "    \n",
    "    \n",
    "    Solve for each k for all "
   ]
  },
  {
   "cell_type": "code",
   "execution_count": 61,
   "metadata": {
    "collapsed": true
   },
   "outputs": [],
   "source": [
    "def rk4_value(f,r,t,h):\n",
    "    \"\"\"\n",
    "    \"\"\"\n",
    "\n",
    "    k1 = h*f(r,t)\n",
    "    k2 = h*f(r+0.5*k1,t+0.5*h)\n",
    "    k3 = h*f(r+0.5*k2,t+0.5*h)\n",
    "    k4 = h*f(r+k3,t+h)\n",
    "    return (k1+2*k2+2*k3+k4)/6"
   ]
  },
  {
   "cell_type": "code",
   "execution_count": 62,
   "metadata": {
    "collapsed": true
   },
   "outputs": [],
   "source": [
    "r = [0,1,1,0] #circular orbit\n",
    "\n",
    "\n",
    "t = 1 \n",
    "h = 10"
   ]
  },
  {
   "cell_type": "code",
   "execution_count": 63,
   "metadata": {},
   "outputs": [
    {
     "data": {
      "text/plain": [
       "array([  9.36576667, -16.76523349,  -0.15193795,  -1.68830604])"
      ]
     },
     "execution_count": 63,
     "metadata": {},
     "output_type": "execute_result"
    }
   ],
   "source": [
    "rk4_value(f,r,t,h)"
   ]
  },
  {
   "cell_type": "markdown",
   "metadata": {},
   "source": [
    "Below does not work. Uh oh!"
   ]
  },
  {
   "cell_type": "code",
   "execution_count": 73,
   "metadata": {},
   "outputs": [],
   "source": [
    "r = [0,1,1,0]\n",
    "t = 0\n",
    "xs = []\n",
    "ys = []\n",
    "while t < 1e6:\n",
    "    \n",
    "    rsoln.append(r)\n",
    "    r += rk4_value(f,r,t,h)\n",
    "    xs.append(r[0])\n",
    "    ys.append(r[1])\n",
    "    t +=1"
   ]
  },
  {
   "cell_type": "code",
   "execution_count": 74,
   "metadata": {},
   "outputs": [
    {
     "data": {
      "text/plain": [
       "[<matplotlib.lines.Line2D at 0x120ff0278>]"
      ]
     },
     "execution_count": 74,
     "metadata": {},
     "output_type": "execute_result"
    },
    {
     "data": {
      "image/png": "[encoded data removed]",
      "text/plain": [
       "<Figure size 432x288 with 1 Axes>"
      ]
     },
     "metadata": {},
     "output_type": "display_data"
    }
   ],
   "source": [
    "plt.plot(xs,ys)"
   ]
  },
  {
   "cell_type": "code",
   "execution_count": 72,
   "metadata": {
    "collapsed": true
   },
   "outputs": [],
   "source": [
    "import numpy as np\n",
    "\n",
    "import matplotlib.pyplot as plt\n",
    "%matplotlib inline"
   ]
  },
  {
   "cell_type": "code",
   "execution_count": null,
   "metadata": {
    "collapsed": true
   },
   "outputs": [],
   "source": [
    "np.concatenate([x])"
   ]
  },
  {
   "cell_type": "code",
   "execution_count": 51,
   "metadata": {},
   "outputs": [],
   "source": [
    "xs = [s[0] for s in rsoln]"
   ]
  },
  {
   "cell_type": "code",
   "execution_count": 52,
   "metadata": {},
   "outputs": [
    {
     "data": {
      "text/plain": [
       "[0,\n",
       " 835.63348973124607,\n",
       " 835.63348973124607,\n",
       " 835.63348973124607,\n",
       " 835.63348973124607,\n",
       " 835.63348973124607,\n",
       " 835.63348973124607,\n",
       " 835.63348973124607,\n",
       " 835.63348973124607,\n",
       " 835.63348973124607,\n",
       " 835.63348973124607,\n",
       " 835.63348973124607,\n",
       " 835.63348973124607,\n",
       " 835.63348973124607,\n",
       " 835.63348973124607,\n",
       " 835.63348973124607,\n",
       " 835.63348973124607,\n",
       " 835.63348973124607,\n",
       " 835.63348973124607,\n",
       " 835.63348973124607,\n",
       " 835.63348973124607,\n",
       " 835.63348973124607,\n",
       " 835.63348973124607,\n",
       " 835.63348973124607,\n",
       " 835.63348973124607,\n",
       " 835.63348973124607,\n",
       " 835.63348973124607,\n",
       " 835.63348973124607,\n",
       " 835.63348973124607,\n",
       " 835.63348973124607,\n",
       " 835.63348973124607,\n",
       " 835.63348973124607,\n",
       " 835.63348973124607,\n",
       " 835.63348973124607,\n",
       " 835.63348973124607,\n",
       " 835.63348973124607,\n",
       " 835.63348973124607,\n",
       " 835.63348973124607,\n",
       " 835.63348973124607,\n",
       " 835.63348973124607,\n",
       " 835.63348973124607,\n",
       " 835.63348973124607,\n",
       " 835.63348973124607,\n",
       " 835.63348973124607,\n",
       " 835.63348973124607,\n",
       " 835.63348973124607,\n",
       " 835.63348973124607,\n",
       " 835.63348973124607,\n",
       " 835.63348973124607,\n",
       " 835.63348973124607,\n",
       " 835.63348973124607,\n",
       " 835.63348973124607,\n",
       " 835.63348973124607,\n",
       " 835.63348973124607,\n",
       " 835.63348973124607,\n",
       " 835.63348973124607,\n",
       " 835.63348973124607,\n",
       " 835.63348973124607,\n",
       " 835.63348973124607,\n",
       " 835.63348973124607,\n",
       " 835.63348973124607,\n",
       " 835.63348973124607,\n",
       " 835.63348973124607,\n",
       " 835.63348973124607,\n",
       " 835.63348973124607,\n",
       " 835.63348973124607,\n",
       " 835.63348973124607,\n",
       " 835.63348973124607,\n",
       " 835.63348973124607,\n",
       " 835.63348973124607,\n",
       " 835.63348973124607,\n",
       " 835.63348973124607,\n",
       " 835.63348973124607,\n",
       " 835.63348973124607,\n",
       " 835.63348973124607,\n",
       " 835.63348973124607,\n",
       " 835.63348973124607,\n",
       " 835.63348973124607,\n",
       " 835.63348973124607,\n",
       " 835.63348973124607,\n",
       " 835.63348973124607,\n",
       " 835.63348973124607,\n",
       " 835.63348973124607,\n",
       " 835.63348973124607,\n",
       " 835.63348973124607,\n",
       " 835.63348973124607,\n",
       " 835.63348973124607,\n",
       " 835.63348973124607,\n",
       " 835.63348973124607,\n",
       " 835.63348973124607,\n",
       " 835.63348973124607,\n",
       " 835.63348973124607,\n",
       " 835.63348973124607,\n",
       " 835.63348973124607,\n",
       " 835.63348973124607,\n",
       " 835.63348973124607,\n",
       " 835.63348973124607,\n",
       " 835.63348973124607,\n",
       " 835.63348973124607,\n",
       " 835.63348973124607]"
      ]
     },
     "execution_count": 52,
     "metadata": {},
     "output_type": "execute_result"
    }
   ],
   "source": [
    "xs"
   ]
  },
  {
   "cell_type": "code",
   "execution_count": null,
   "metadata": {
    "collapsed": true
   },
   "outputs": [],
   "source": [
    "rs"
   ]
  }
 ],
 "metadata": {
  "kernelspec": {
   "display_name": "Python 3",
   "language": "python",
   "name": "python3"
  },
  "language_info": {
   "codemirror_mode": {
    "name": "ipython",
    "version": 3
   },
   "file_extension": ".py",
   "mimetype": "text/x-python",
   "name": "python",
   "nbconvert_exporter": "python",
   "pygments_lexer": "ipython3",
   "version": "3.6.7"
  }
 },
 "nbformat": 4,
 "nbformat_minor": 2
}
