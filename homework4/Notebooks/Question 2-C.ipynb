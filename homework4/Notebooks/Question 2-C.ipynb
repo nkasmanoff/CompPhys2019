{
 "cells": [
  {
   "cell_type": "code",
   "execution_count": 1,
   "metadata": {
    "collapsed": true
   },
   "outputs": [],
   "source": [
    "import numpy as np\n",
    "import matplotlib.pyplot as plt\n",
    "import seaborn as sns\n",
    "\n",
    "sns.set_style('white')\n",
    "%matplotlib inline"
   ]
  },
  {
   "cell_type": "code",
   "execution_count": 2,
   "metadata": {
    "collapsed": true
   },
   "outputs": [],
   "source": [
    "def f(r,t):\n",
    "    \n",
    "    \"\"\"\n",
    "    For some given function with an input r and timestep t, we output the derivative of every value,\n",
    "    which is in turn used in the rk4 integration \n",
    "    \"\"\"\n",
    "    x = r[0]\n",
    "    y = r[1]\n",
    "    vx = r[2]\n",
    "    vy = r[3]\n",
    "    \n",
    "    Dx = vx\n",
    "    Dy = vy\n",
    "    \n",
    "    R = np.sqrt(x**2 + y**2)\n",
    "    \n",
    "\n",
    "    V = np.sqrt(vx**2 + vy**2)\n",
    "    Dvx = -G*M*x/R**3 - AA*vx / (V**3 + BB)\n",
    "    \n",
    "    Dvy = -G*M*y/R**3 - AA*vy / (V**3 + BB)\n",
    "    \n",
    "    \n",
    "    \n",
    "    \n",
    "    return np.array([Dx,Dy,Dvx,Dvy])\n",
    "\n",
    "def rk4(h,r,f):\n",
    "    \"\"\"\n",
    "    RK4 Integration for some step size of h\n",
    "    \n",
    "    \"\"\"\n",
    "    \n",
    "    k1 = h*f(r,t)\n",
    "    k2 = h*f(r + 0.5*k1,t+0.5*h)\n",
    "    k3 = h*f(r + 0.5*k2,t+0.5*h)\n",
    "    k4 = h*f(r + k3,t+h)\n",
    "\n",
    "    rout = r + (k1 + 2*k2 + 2*k3 + k4)/6 #update occurs here\n",
    "    return rout"
   ]
  },
  {
   "cell_type": "code",
   "execution_count": 3,
   "metadata": {
    "collapsed": true
   },
   "outputs": [],
   "source": [
    "h = 1e-4 # This is the initial stepping size. \n",
    "delta = 1e-6 # error tolerance \n",
    "int_time = 9000 #ends after about 10 orbits. \n",
    "rcrit = 1e-7\n",
    "G = M  = 1\n",
    "rapo = 1\n",
    "a = (1 + 1e-7)/2\n",
    "vy = .8*.5\n"
   ]
  },
  {
   "cell_type": "code",
   "execution_count": null,
   "metadata": {
    "collapsed": true
   },
   "outputs": [],
   "source": []
  },
  {
   "cell_type": "code",
   "execution_count": 6,
   "metadata": {},
   "outputs": [
    {
     "name": "stdout",
     "output_type": "stream",
     "text": [
      "Ratio =  0.5\n",
      "Ratio =  0.9\n"
     ]
    },
    {
     "name": "stderr",
     "output_type": "stream",
     "text": [
      "/Users/noahkasmanoff/anaconda/lib/python3.6/site-packages/ipykernel/__main__.py:24: RuntimeWarning: divide by zero encountered in double_scalars\n",
      "/Users/noahkasmanoff/anaconda/lib/python3.6/site-packages/ipykernel/__main__.py:19: RuntimeWarning: invalid value encountered in double_scalars\n",
      "/Users/noahkasmanoff/anaconda/lib/python3.6/site-packages/ipykernel/__main__.py:21: RuntimeWarning: invalid value encountered in double_scalars\n",
      "/Users/noahkasmanoff/anaconda/lib/python3.6/site-packages/ipykernel/__main__.py:39: RuntimeWarning: invalid value encountered in add\n"
     ]
    },
    {
     "name": "stdout",
     "output_type": "stream",
     "text": [
      "Ratio =  1.0\n",
      "Ratio =  2.5\n",
      "Ratio =  5.0\n",
      "Ratio =  7.5\n",
      "Ratio =  10.0\n"
     ]
    }
   ],
   "source": [
    "\n",
    "AA = 1\n",
    "BBs = [.5,.9,1,2.5,5,7.5,10]\n",
    "t_crits = []\n",
    "for BB in BBs:\n",
    "    print(\"Ratio = \", BB/AA)\n",
    "    t = 0 #initialize as 0 time \n",
    "    ratios = []\n",
    "    t_gw = []\n",
    "    #break if  below critical r\n",
    "\n",
    "    r0 = np.array([1.0,0.0,0.0,vy],float)\n",
    "    h = 1e-4 # This is the initial stepping size. \n",
    "\n",
    "    r_sols = []\n",
    "    ts = []\n",
    "    while t < int_time: \n",
    "        rtemp = rk4(h, r0, f)\n",
    "        # Error at h and 2*h\n",
    "        rError1 = rk4(h, rtemp, f)\n",
    "        rError2 = rk4(2*h, r0, f)\n",
    "        xerror = (rError1[0] - rError2[0])/30.  # 0th element -> x component\n",
    "        yerror = (rError1[1] - rError2[1])/30.\n",
    "        rho = h*delta/np.sqrt(xerror**2 + yerror**2)\n",
    "\n",
    "        # If rho > 1, actual accuracy is better than the target accuracy. Keep it.\n",
    "        if rho > 1:\n",
    "            t += h\n",
    "            r0 = rtemp\n",
    "            h = h*rho**(1/4) # Make it bigger since rho^1/4 > 1\n",
    "\n",
    "            #save values and time step below\n",
    "            r_sols.append(rtemp)\n",
    "            ts.append(t)\n",
    "\n",
    "            rtest = np.sqrt(rtemp[0]**2 + rtemp[1]**2)\n",
    "            if rtest<= rcrit:\n",
    "                t_crits.append(t)\n",
    "                break\n",
    "\n",
    "        elif rho < 1:\n",
    "            h = h * rho**(1/4)        \n",
    "        else:\n",
    "            h = 10 #reset to something much larger\n",
    "\n",
    "    xs = [x[0] for x in r_sols]\n",
    "    vxs = [x[2] for x in r_sols]\n",
    "\n",
    "\n",
    "    ys = [y[1] for y in r_sols]\n",
    "    vys = [y[3] for y in r_sols]\n",
    "\n",
    "    rs = np.sqrt(np.power(xs,2) + np.power(ys,2))\n"
   ]
  },
  {
   "cell_type": "code",
   "execution_count": 8,
   "metadata": {},
   "outputs": [
    {
     "data": {
      "image/png": "[encoded data removed]",
      "text/plain": [
       "<Figure size 432x288 with 1 Axes>"
      ]
     },
     "metadata": {},
     "output_type": "display_data"
    }
   ],
   "source": [
    "plt.plot(np.array(BBs)/AA,1.427*np.array(t_crits),'ko-')\n",
    "plt.xlabel(\"Ratio $B/A$\",fontsize=20)\n",
    "plt.ylabel('Time (Myr)', fontsize=20)\n",
    "plt.xscale('log')"
   ]
  },
  {
   "cell_type": "code",
   "execution_count": 9,
   "metadata": {},
   "outputs": [
    {
     "data": {
      "text/plain": [
       "Text(0, 0.5, '$log(r)$')"
      ]
     },
     "execution_count": 9,
     "metadata": {},
     "output_type": "execute_result"
    },
    {
     "data": {
      "image/png": "[encoded data removed]",
      "text/plain": [
       "<Figure size 432x288 with 1 Axes>"
      ]
     },
     "metadata": {},
     "output_type": "display_data"
    }
   ],
   "source": [
    "plt.plot(ts,rs,'k--',linewidth=2)\n",
    "plt.yscale('log')\n",
    "plt.xlabel(\"$t$\",fontsize=20)\n",
    "plt.ylabel('$log(r)$',fontsize=20)"
   ]
  },
  {
   "cell_type": "markdown",
   "metadata": {},
   "source": [
    "# d) Do your results depend on the value of the initial velocity? Do they only depend on the ratio of B/A, or on the individual values of B and A?"
   ]
  },
  {
   "cell_type": "markdown",
   "metadata": {},
   "source": [
    "The results do depend on the initial velocity, depending on the parameters of A and B. Furthermore, the results do not only depend on the ratio B/A, but also on the individual values of each. \n",
    "\n",
    "To understand why initial velocity matters, we need to think about this problem in it's physical setting. Depending on how fast the black hole we are tracking is able to go, there will more or less drag affecting the black hole, and in turn affecting the amount of time it takes for it to reach a pericenter at which gravitational radiation has an effect. \n",
    "\n",
    "To demonstrate such a result, I have included below a plot of the different convergence times (for a constant ratio of 1) where the initial velocity is allowed to vary. \n"
   ]
  },
  {
   "cell_type": "code",
   "execution_count": 26,
   "metadata": {},
   "outputs": [
    {
     "name": "stderr",
     "output_type": "stream",
     "text": [
      "/Users/noahkasmanoff/anaconda/lib/python3.6/site-packages/ipykernel/__main__.py:24: RuntimeWarning: divide by zero encountered in double_scalars\n",
      "/Users/noahkasmanoff/anaconda/lib/python3.6/site-packages/ipykernel/__main__.py:19: RuntimeWarning: invalid value encountered in double_scalars\n",
      "/Users/noahkasmanoff/anaconda/lib/python3.6/site-packages/ipykernel/__main__.py:21: RuntimeWarning: invalid value encountered in double_scalars\n",
      "/Users/noahkasmanoff/anaconda/lib/python3.6/site-packages/ipykernel/__main__.py:39: RuntimeWarning: invalid value encountered in add\n"
     ]
    }
   ],
   "source": [
    "\n",
    "AA = 1\n",
    "BB = 1\n",
    "vy0s = [.1,.25,.5,.75]\n",
    "t_crits = []\n",
    "for vy in vy0s:\n",
    "    t = 0 #initialize as 0 time \n",
    "    ratios = []\n",
    "    t_gw = []\n",
    "    #break if  below critical r\n",
    "\n",
    "    r0 = np.array([1.0,0.0,0.0,vy],float)\n",
    "    h = 1e-4 # This is the initial stepping size. \n",
    "\n",
    "    r_sols = []\n",
    "    ts = []\n",
    "    while t < int_time: \n",
    "        rtemp = rk4(h, r0, f)\n",
    "        # Error at h and 2*h\n",
    "        rError1 = rk4(h, rtemp, f)\n",
    "        rError2 = rk4(2*h, r0, f)\n",
    "        xerror = (rError1[0] - rError2[0])/30.  # 0th element -> x component\n",
    "        yerror = (rError1[1] - rError2[1])/30.\n",
    "        rho = h*delta/np.sqrt(xerror**2 + yerror**2)\n",
    "\n",
    "        # If rho > 1, actual accuracy is better than the target accuracy. Keep it.\n",
    "        if rho > 1:\n",
    "            t += h\n",
    "            r0 = rtemp\n",
    "            h = h*rho**(1/4) # Make it bigger since rho^1/4 > 1\n",
    "\n",
    "            #save values and time step below\n",
    "            r_sols.append(rtemp)\n",
    "            ts.append(t)\n",
    "\n",
    "            rtest = np.sqrt(rtemp[0]**2 + rtemp[1]**2)\n",
    "            if rtest<= rcrit:\n",
    "                t_crits.append(t)\n",
    "                break\n",
    "\n",
    "        elif rho < 1:\n",
    "            h = h * rho**(1/4)        \n",
    "        else:\n",
    "            h = 10 #reset to something much larger\n",
    "\n",
    "    xs = [x[0] for x in r_sols]\n",
    "    vxs = [x[2] for x in r_sols]\n",
    "\n",
    "\n",
    "    ys = [y[1] for y in r_sols]\n",
    "    vys = [y[3] for y in r_sols]\n",
    "\n",
    "    rs = np.sqrt(np.power(xs,2) + np.power(ys,2))\n"
   ]
  },
  {
   "cell_type": "code",
   "execution_count": 28,
   "metadata": {},
   "outputs": [
    {
     "data": {
      "text/plain": [
       "Text(0, 0.5, 'Time (Myr)')"
      ]
     },
     "execution_count": 28,
     "metadata": {},
     "output_type": "execute_result"
    },
    {
     "data": {
      "image/png": "[encoded data removed]",
      "text/plain": [
       "<Figure size 432x288 with 1 Axes>"
      ]
     },
     "metadata": {},
     "output_type": "display_data"
    }
   ],
   "source": [
    "plt.plot(vy0s,1.427*np.array(t_crits),linewidth=3)\n",
    "plt.xlabel(\"Initial Velocity\",fontsize=20)\n",
    "plt.ylabel(\"Time (Myr)\",fontsize=20)"
   ]
  },
  {
   "cell_type": "markdown",
   "metadata": {},
   "source": [
    "From here, we clearly see what was expected! If the black hole is moving faster to start, it will take longer to slow down.\n",
    "\n",
    "\n",
    "Additionally, we also believe that not only does the ratio itself matter, but the individual values for A and B as well. While the ratio is essential for determining the decay time (if B>>A, decay will be faster), the individual importance of each is a result of the second term in the denominator, the total velocity of the black hole cubed. So even if the ratio of A and B is extremely in the favor of A (in the event B is extremely small), this does not necessarily mean that it will take a very long time for the black hole to decay, as $B + V_{BH}^3 = V_{BH}^3$, so now the individual affect of B in turn means the decay time is in the hands of the velocity of the black hole, which is something we just discovered has it's own impact on the decay time, separate from the ratio of the two terms B and A. "
   ]
  },
  {
   "cell_type": "code",
   "execution_count": null,
   "metadata": {
    "collapsed": true
   },
   "outputs": [],
   "source": []
  },
  {
   "cell_type": "code",
   "execution_count": null,
   "metadata": {
    "collapsed": true
   },
   "outputs": [],
   "source": []
  }
 ],
 "metadata": {
  "kernelspec": {
   "display_name": "Python 3",
   "language": "python",
   "name": "python3"
  },
  "language_info": {
   "codemirror_mode": {
    "name": "ipython",
    "version": 3
   },
   "file_extension": ".py",
   "mimetype": "text/x-python",
   "name": "python",
   "nbconvert_exporter": "python",
   "pygments_lexer": "ipython3",
   "version": "3.6.7"
  }
 },
 "nbformat": 4,
 "nbformat_minor": 2
}
