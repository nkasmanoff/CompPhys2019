{
 "cells": [
  {
   "cell_type": "markdown",
   "metadata": {},
   "source": [
    "# Question 8.18\n"
   ]
  },
  {
   "cell_type": "markdown",
   "metadata": {},
   "source": [
    "The Belousov–Zhabotinsky reaction is a chemical oscillator, a cocktail of chemicals which, when heated, undergoes a series of reactions that cause the chemical concentrations in the mixture to oscillate between two extremes. You can add an indicator dye to the reaction which changes color depending on the concentrations and watch the mixture switch back and forth between two different colors for as long as you go on heating the mixture."
   ]
  },
  {
   "cell_type": "markdown",
   "metadata": {},
   "source": [
    "a mathematical model of this type of chemical oscillator, which he called the “Brusselator” after his home town of Brussels. The equations for the\n",
    "Brusselator are"
   ]
  },
  {
   "cell_type": "markdown",
   "metadata": {},
   "source": [
    "$ \\frac{dx}{dt} = 1 - (b-1)x + ax^2y $ and $\\frac{dy}{dt} = 1 - bx -  ax^2y$"
   ]
  },
  {
   "cell_type": "markdown",
   "metadata": {},
   "source": [
    "# Initial Conditions: \n",
    "\n",
    "# a = 1 b = 3, x = y = 0\n"
   ]
  },
  {
   "cell_type": "code",
   "execution_count": 15,
   "metadata": {
    "collapsed": true
   },
   "outputs": [],
   "source": [
    "import numpy as np\n",
    "\n",
    "import matplotlib.pyplot as plt\n",
    "\n",
    "%matplotlib inline\n"
   ]
  },
  {
   "cell_type": "code",
   "execution_count": 24,
   "metadata": {
    "collapsed": true
   },
   "outputs": [],
   "source": [
    "def f(r):\n",
    "    x = r[0]\n",
    "    y = r[1]\n",
    "    \n",
    "    dx = 1 - (b+1)*x + a*x*x*y\n",
    "    \n",
    "    dy = b*x - (a * x*x*y)\n",
    "    \n",
    "    return np.array([dx,dy])\n"
   ]
  },
  {
   "cell_type": "code",
   "execution_count": 25,
   "metadata": {
    "collapsed": true
   },
   "outputs": [],
   "source": [
    "r = np.array([0,0])\n",
    "a = 1.0\n",
    "b = 3.0\n",
    "\n",
    "t = 0\n",
    "end = 20\n",
    "H = (b-a)/N      # Initial size of \"big steps\"\n",
    "delta = 1e-10     # Required position accuracy per unit time\n",
    "\n",
    "\n",
    "nmax = 8"
   ]
  },
  {
   "cell_type": "code",
   "execution_count": null,
   "metadata": {
    "collapsed": true
   },
   "outputs": [],
   "source": []
  },
  {
   "cell_type": "code",
   "execution_count": 37,
   "metadata": {},
   "outputs": [
    {
     "name": "stderr",
     "output_type": "stream",
     "text": [
      "/Users/noahkasmanoff/anaconda/lib/python3.6/site-packages/ipykernel/__main__.py:22: RuntimeWarning: overflow encountered in double_scalars\n",
      "/Users/noahkasmanoff/anaconda/lib/python3.6/site-packages/ipykernel/__main__.py:25: RuntimeWarning: overflow encountered in double_scalars\n",
      "/Users/noahkasmanoff/anaconda/lib/python3.6/site-packages/ipykernel/__main__.py:62: RuntimeWarning: invalid value encountered in add\n",
      "/Users/noahkasmanoff/anaconda/lib/python3.6/site-packages/ipykernel/__main__.py:97: RuntimeWarning: overflow encountered in double_scalars\n",
      "/Users/noahkasmanoff/anaconda/lib/python3.6/site-packages/ipykernel/__main__.py:81: RuntimeWarning: invalid value encountered in subtract\n"
     ]
    },
    {
     "data": {
      "text/plain": [
       "Text(0, 0.5, 'Concentrations')"
      ]
     },
     "execution_count": 37,
     "metadata": {},
     "output_type": "execute_result"
    },
    {
     "data": {
      "image/png": "[encoded data removed]",
      "text/plain": [
       "<Figure size 432x288 with 1 Axes>"
      ]
     },
     "metadata": {},
     "output_type": "display_data"
    }
   ],
   "source": [
    "from scipy import array, sqrt, copy\n",
    "from pylab import plot, show, xlabel, ylabel\n",
    "\n",
    "# Constants\n",
    "a = 1\n",
    "b = 3\n",
    "x_0 = 0\n",
    "y_0 = 0\n",
    "delta = 10 ** -10  # target accuracy per unit time\n",
    "t_0 = 0\n",
    "t_f = 20\n",
    "\n",
    "\n",
    "def f(r):\n",
    "    \"\"\"\n",
    "    Gives the RHS of the system dr/dt = f(r,t)\n",
    "    :param r: vector of the form (x, dx/dt, y, dy/dt)\n",
    "    :return: vector of the same form as r\n",
    "    \"\"\"\n",
    "\n",
    "    def fx(x, y):\n",
    "        return 1 - (b + 1) * x + a * x ** 2 * y\n",
    "\n",
    "    def fy(x, y):\n",
    "        return b * x - a * x ** 2 * y\n",
    "\n",
    "    x = r[0]\n",
    "    y = r[1]\n",
    "    return array([fx(x, y), fy(x, y)], float)\n",
    "\n",
    "def solution(t_0, t_f):\n",
    "    r = array([x_0, y_0], float)\n",
    "    tpoints = [t_0]\n",
    "    xpoints = [r[0]]\n",
    "    ypoints = [r[1]]\n",
    "\n",
    "    def Bulirsch_Stoer_step(r, t, H):\n",
    "        \"\"\"\n",
    "        Computes the nth Richardson extrapolation until the target accuracy is reached\n",
    "        :param r: vector containing the initial conditions, of the form [x, dx/dt, y, dy/dt]\n",
    "        :param H: the interval size\n",
    "        :return: the vector r at t + H\n",
    "        \"\"\"\n",
    "\n",
    "        def modified_midpoint_step(r, n):\n",
    "            \"\"\"\n",
    "            Computes the value of r(t+H) given the initial value of r(t) using the modified midpoint method with n steps\n",
    "            :param r: array of the form [x, dx/dt, y, dy/dt]\n",
    "            :param H: interval size\n",
    "            :param n: number of steps\n",
    "            :return: array with same form as r\n",
    "            \"\"\"\n",
    "\n",
    "            r = copy(r)\n",
    "            h = H / n\n",
    "            k = r + 0.5 * h * f(r)\n",
    "            r += h * f(k)\n",
    "            for i in range(n - 1):\n",
    "                k += h * f(r)\n",
    "                r += h * f(k)\n",
    "\n",
    "            return 0.5 * (r + k + 0.5 * h * f(r))\n",
    "\n",
    "\n",
    "        def compute_row_n(R1, n):\n",
    "            \"\"\"\n",
    "            Calculates the n-th row (n >= 2) of the Richardson extrapolation table given the (n-1)th row,\n",
    "             calculates the error on the R_(n, n-1) estimate and compares it to the target accuracy\n",
    "             and continues to compute the next row until the target accuracy is satisfied\n",
    "            :param R1: the first richardson estimate R_11, i.e. from the modified midpt method with 1 step\n",
    "            :param n: the row to compute\n",
    "            :return: the Richardson estimate of r such that the estimated error is less than the target accuracy\n",
    "            \"\"\"\n",
    "\n",
    "            def R_n_m(m):\n",
    "                \"\"\"\n",
    "                Computes R_n,m\n",
    "                :param m: integer <= n\n",
    "                :return: the vector R_n,m\n",
    "                \"\"\"\n",
    "                return R2[m - 2] + (R2[m - 2] - R1[m - 2]) / ((n / (n - 1)) ** (2 * (m - 1)) - 1)\n",
    "\n",
    "            if n > 8:\n",
    "                #recursion! \n",
    "                r1 = Bulirsch_Stoer_step(r, t, H / 2)\n",
    "                return Bulirsch_Stoer_step(r1, t + H / 2, H / 2)\n",
    "            else:\n",
    "                # Compute R_n,1\n",
    "                R2 = [modified_midpoint_step(r, n)]\n",
    "                # Compute the rest of the row\n",
    "                for m in range(2, n + 1):\n",
    "                    R2.append(R_n_m(m))\n",
    "\n",
    "                # Convert to array to compute error\n",
    "                R2 = array(R2, float)\n",
    "                error_vector = (R2[n - 2] - R1[n - 2]) / ((n / (n - 1)) ** (2 * (n - 1)) - 1)\n",
    "                error = sqrt(error_vector[0] ** 2 + error_vector[1] ** 2)\n",
    "\n",
    "                # If error is smaller than accuracy, calculation terminates, else repeat with 1 more step\n",
    "                target_accuracy = H * delta\n",
    "                if error < target_accuracy:\n",
    "                    tpoints.append(t + H)\n",
    "                    xpoints.append(R2[n - 1][0])\n",
    "                    ypoints.append(R2[n - 1][1])\n",
    "                    return R2[n - 1]\n",
    "                else:\n",
    "                    return compute_row_n(R2, n + 1)\n",
    "\n",
    "\n",
    "        return compute_row_n(array([modified_midpoint_step(r, 1)], float), 2)\n",
    "\n",
    "    Bulirsch_Stoer_step(r, t_0, t_f - t_0)\n",
    "    return tpoints, xpoints, ypoints\n",
    "\n",
    "\n",
    "t, x, y = solution(t_0, t_f)\n",
    "plot(t, x, 'b.-',label = 'x')\n",
    "plot(t, y, 'r.-',label = 'y')\n",
    "xlabel('$t$',fontsize=20)\n",
    "plt.legend()\n",
    "ylabel('Concentrations',fontsize=20)\n",
    "plt.savefig('../bin/adaptivebs.png')"
   ]
  },
  {
   "cell_type": "code",
   "execution_count": null,
   "metadata": {
    "collapsed": true
   },
   "outputs": [],
   "source": [
    "p"
   ]
  }
 ],
 "metadata": {
  "kernelspec": {
   "display_name": "Python 3",
   "language": "python",
   "name": "python3"
  },
  "language_info": {
   "codemirror_mode": {
    "name": "ipython",
    "version": 3
   },
   "file_extension": ".py",
   "mimetype": "text/x-python",
   "name": "python",
   "nbconvert_exporter": "python",
   "pygments_lexer": "ipython3",
   "version": "3.6.7"
  }
 },
 "nbformat": 4,
 "nbformat_minor": 2
}
