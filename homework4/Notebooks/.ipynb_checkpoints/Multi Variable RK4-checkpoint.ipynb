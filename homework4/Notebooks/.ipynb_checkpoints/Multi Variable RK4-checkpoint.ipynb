{
 "cells": [
  {
   "cell_type": "markdown",
   "metadata": {},
   "source": [
    "This is the code for what RK4 Integration should look like with a fixed step size. Will adapt it for adaptive step size next!"
   ]
  },
  {
   "cell_type": "code",
   "execution_count": null,
   "metadata": {
    "collapsed": true
   },
   "outputs": [],
   "source": []
  },
  {
   "cell_type": "code",
   "execution_count": null,
   "metadata": {
    "collapsed": true
   },
   "outputs": [],
   "source": []
  },
  {
   "cell_type": "code",
   "execution_count": 16,
   "metadata": {
    "collapsed": true
   },
   "outputs": [],
   "source": [
    "import numpy as np\n",
    "import matplotlib.pyplot as plt\n",
    "%matplotlib inline"
   ]
  },
  {
   "cell_type": "code",
   "execution_count": 17,
   "metadata": {},
   "outputs": [],
   "source": [
    "def f(r,t):\n",
    "    \"\"\"\n",
    "    For some given function with an input r and timestep t, we output the derivative of every value,\n",
    "    which is in turn used in the rk4 integration \n",
    "    \"\"\"\n",
    "    \n",
    "    x = r[0]\n",
    "    y = r[1]\n",
    "    vx = r[2]\n",
    "    vy = r[3]\n",
    "    \n",
    "    Dx = vx\n",
    "    Dy = vy\n",
    "    \n",
    "    R = np.sqrt(x**2 + y**2)\n",
    "    \n",
    "    Dvx = -G*M*x/R**3\n",
    "    \n",
    "    Dvy = -G*M*y/R**3\n",
    "    \n",
    "    \n",
    "    return np.array([Dx,Dy,Dvx,Dvy])"
   ]
  },
  {
   "cell_type": "code",
   "execution_count": 18,
   "metadata": {},
   "outputs": [],
   "source": [
    "a = 0\n",
    "b = 100\n",
    "G = M  = 1\n",
    "N = 1000\n",
    "\n",
    "h = (b-a)/N\n",
    "\n",
    "tpoints = np.arange(a,b,h)\n",
    "\n",
    "xpoints = []\n",
    "ypoints = []\n",
    "vxpoints = []\n",
    "vypoints = []\n",
    "\n",
    "r = np.array([0.0,1.0,1.0,0.0])\n",
    "\n",
    "for t in tpoints:\n",
    "    \n",
    "    xpoints.append(r[0])\n",
    "    ypoints.append(r[1])\n",
    "    vxpoints.append(r[2])\n",
    "    vypoints.append(r[3])\n",
    "    \n",
    "    k1 = h*f(r,t)\n",
    "    k2 = h*f(r+0.5*k1,t+0.5*h)\n",
    "    k3 = h*f(r+0.5*k2,t+0.5*h)\n",
    "    k4 = h*f(r+k3,t+h)\n",
    "    \n",
    "    r += (k1+2*k2 + 2*k3 + k4)/6\n",
    "    \n",
    "    \n",
    "    \n",
    "    "
   ]
  },
  {
   "cell_type": "code",
   "execution_count": 15,
   "metadata": {},
   "outputs": [
    {
     "data": {
      "text/plain": [
       "[<matplotlib.lines.Line2D at 0x10cf4d588>]"
      ]
     },
     "execution_count": 15,
     "metadata": {},
     "output_type": "execute_result"
    },
    {
     "data": {
      "image/png": "[encoded data removed]",
      "text/plain": [
       "<Figure size 432x288 with 1 Axes>"
      ]
     },
     "metadata": {},
     "output_type": "display_data"
    }
   ],
   "source": [
    "plt.plot(xpoints,ypoints)"
   ]
  },
  {
   "cell_type": "markdown",
   "metadata": {},
   "source": [
    "Next up, implementing adaptive stepping. To start, just going to make rk4 a function since you need to evaluate it at least 3 times per step!"
   ]
  },
  {
   "cell_type": "code",
   "execution_count": 44,
   "metadata": {
    "collapsed": true
   },
   "outputs": [],
   "source": []
  },
  {
   "cell_type": "code",
   "execution_count": 31,
   "metadata": {},
   "outputs": [],
   "source": [
    "a = 0\n",
    "b = 100\n",
    "G = M  = 1\n",
    "N = 1000\n",
    "\n",
    "h = (b-a)/N\n",
    "\n",
    "tpoints = np.arange(a,b,h)\n",
    "\n",
    "xpoints = []\n",
    "ypoints = []\n",
    "vxpoints = []\n",
    "vypoints = []\n",
    "\n",
    "r = np.array([0.0,1.0,1.0,0.0])\n",
    "\n",
    "for t in tpoints:\n",
    "    \n",
    "    xpoints.append(r[0])\n",
    "    ypoints.append(r[1])\n",
    "    vxpoints.append(r[2])\n",
    "    vypoints.append(r[3])\n",
    "    \n",
    "\n",
    "    \n",
    "\n",
    "    r = rk4(h=h,r=r,f=f) #update to r occurs in code. \n",
    "    \n",
    "    \n",
    "    "
   ]
  },
  {
   "cell_type": "code",
   "execution_count": 32,
   "metadata": {},
   "outputs": [
    {
     "data": {
      "text/plain": [
       "[<matplotlib.lines.Line2D at 0x11205d3c8>]"
      ]
     },
     "execution_count": 32,
     "metadata": {},
     "output_type": "execute_result"
    },
    {
     "data": {
      "image/png": "[encoded data removed]",
      "text/plain": [
       "<Figure size 432x288 with 1 Axes>"
      ]
     },
     "metadata": {},
     "output_type": "display_data"
    }
   ],
   "source": [
    "plt.plot(xpoints,ypoints)"
   ]
  },
  {
   "cell_type": "markdown",
   "metadata": {},
   "source": [
    "Next, add the conditions for error tolerance in that step. "
   ]
  },
  {
   "cell_type": "code",
   "execution_count": 139,
   "metadata": {},
   "outputs": [
    {
     "name": "stdout",
     "output_type": "stream",
     "text": [
      "worked!\n",
      "worked!\n",
      "worked!\n",
      "worked!\n",
      "worked!\n",
      "worked!\n",
      "worked!\n",
      "worked!\n",
      "worked!\n",
      "worked!\n",
      "worked!\n",
      "worked!\n",
      "worked!\n",
      "worked!\n",
      "worked!\n",
      "worked!\n",
      "worked!\n",
      "worked!\n",
      "worked!\n",
      "worked!\n",
      "worked!\n",
      "worked!\n",
      "worked!\n",
      "worked!\n",
      "worked!\n",
      "worked!\n",
      "worked!\n",
      "worked!\n",
      "worked!\n",
      "worked!\n",
      "worked!\n",
      "worked!\n",
      "worked!\n",
      "worked!\n",
      "worked!\n",
      "worked!\n",
      "worked!\n",
      "worked!\n",
      "worked!\n",
      "worked!\n",
      "worked!\n",
      "worked!\n",
      "worked!\n",
      "worked!\n",
      "worked!\n",
      "worked!\n",
      "worked!\n",
      "worked!\n",
      "worked!\n",
      "worked!\n",
      "worked!\n",
      "worked!\n",
      "worked!\n",
      "worked!\n",
      "worked!\n",
      "worked!\n",
      "worked!\n",
      "worked!\n",
      "worked!\n",
      "worked!\n",
      "worked!\n",
      "worked!\n",
      "worked!\n",
      "worked!\n",
      "worked!\n",
      "worked!\n",
      "worked!\n",
      "worked!\n",
      "worked!\n",
      "worked!\n",
      "worked!\n",
      "worked!\n",
      "worked!\n",
      "worked!\n",
      "worked!\n",
      "worked!\n",
      "worked!\n",
      "worked!\n",
      "worked!\n",
      "worked!\n",
      "worked!\n",
      "worked!\n",
      "worked!\n",
      "worked!\n",
      "worked!\n",
      "worked!\n",
      "worked!\n",
      "worked!\n",
      "worked!\n",
      "worked!\n",
      "worked!\n",
      "worked!\n",
      "worked!\n",
      "worked!\n",
      "worked!\n",
      "worked!\n",
      "worked!\n",
      "worked!\n",
      "worked!\n",
      "worked!\n"
     ]
    }
   ],
   "source": [
    "a = 0\n",
    "b = 3000\n",
    "G = M  = 1\n",
    "N = 100\n",
    "\n",
    "h = (b-a)/N\n",
    "\n",
    "tpoints = np.arange(a,b,h)\n",
    "\n",
    "xpoints = []\n",
    "ypoints = []\n",
    "vxpoints = []\n",
    "vypoints = []\n",
    "\n",
    "r = np.array([0.0,2,-1,0.0])\n",
    "# Set a target accyracy of delta = 1 km/yr\n",
    "\n",
    "delta = .3 # In Au/yr\n",
    "\n",
    "def rk4(h,r,f):\n",
    "    \"\"\"\n",
    "    RK4 Integration for some step size of h\n",
    "    \n",
    "    \"\"\"\n",
    "    \n",
    "    k1 = h*f(r,t)\n",
    "    k2 = h*f(r + 0.5*k1,t+0.5*h)\n",
    "    k3 = h*f(r + 0.5*k2,t+0.5*h)\n",
    "    k4 = h*f(r + k3,t+h)\n",
    "\n",
    "    rout = r + (k1 + 2*k2 + 2*k3 + k4)/6 #update occurs here\n",
    "    return rout\n",
    "    \n",
    "    \n",
    "    \n",
    "for t in tpoints:\n",
    "    \n",
    "\n",
    "    \n",
    "    #Now, calculate error at h and 2h\n",
    "    rtemp = rk4(h,r,f) #one step at this initial r with initial h val\n",
    "    \n",
    "    rError1 = rk4(h=h, r=rtemp, f=f) #after 2 steps    \n",
    "    rError2 = rk4(h=2*h, r=r, f=f) # one step twice as far, with iniital r \n",
    "    \n",
    "    \n",
    "    xerror = (rError1[0] - rError2[0])/30  # 0th element -> x component\n",
    "    yerror = (rError1[1] - rError2[1])/30.\n",
    "\n",
    "    rho = h*delta/np.sqrt(xerror**2 + yerror**2)\n",
    "    \n",
    "    if rho > 1: \n",
    "        \n",
    "        print(\"worked!\")\n",
    "        xpoints.append(r[0])\n",
    "        ypoints.append(r[1])\n",
    "        vxpoints.append(r[2])\n",
    "        vypoints.append(r[3])\n",
    "        t += h\n",
    "        r = rtemp    \n",
    "        r = rk4(h,r,f) \n",
    "        \n",
    "    if rho < 1:\n",
    "        print(\"adapt\")\n",
    "        h = h * rho**(1/4)"
   ]
  },
  {
   "cell_type": "code",
   "execution_count": 140,
   "metadata": {},
   "outputs": [
    {
     "data": {
      "text/plain": [
       "[<matplotlib.lines.Line2D at 0x123c7e630>]"
      ]
     },
     "execution_count": 140,
     "metadata": {},
     "output_type": "execute_result"
    },
    {
     "data": {
      "image/png": "[encoded data removed]",
      "text/plain": [
       "<Figure size 1080x1080 with 1 Axes>"
      ]
     },
     "metadata": {},
     "output_type": "display_data"
    }
   ],
   "source": [
    "plt.figure(figsize=(15,15))\n",
    "plt.plot(xpoints,ypoints,'.')"
   ]
  },
  {
   "cell_type": "code",
   "execution_count": null,
   "metadata": {},
   "outputs": [],
   "source": []
  },
  {
   "cell_type": "code",
   "execution_count": null,
   "metadata": {
    "collapsed": true
   },
   "outputs": [],
   "source": []
  }
 ],
 "metadata": {
  "kernelspec": {
   "display_name": "Python 3",
   "language": "python",
   "name": "python3"
  },
  "language_info": {
   "codemirror_mode": {
    "name": "ipython",
    "version": 3
   },
   "file_extension": ".py",
   "mimetype": "text/x-python",
   "name": "python",
   "nbconvert_exporter": "python",
   "pygments_lexer": "ipython3",
   "version": "3.6.7"
  }
 },
 "nbformat": 4,
 "nbformat_minor": 2
}
