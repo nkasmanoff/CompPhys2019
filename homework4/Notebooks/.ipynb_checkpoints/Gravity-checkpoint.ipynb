{
 "cells": [
  {
   "cell_type": "code",
   "execution_count": 7,
   "metadata": {
    "collapsed": true
   },
   "outputs": [],
   "source": [
    "import numpy as np\n",
    "import matplotlib.pyplot as plt\n",
    "%matplotlib inline"
   ]
  },
  {
   "cell_type": "code",
   "execution_count": 9,
   "metadata": {},
   "outputs": [],
   "source": [
    "#constants\n",
    "\n",
    "G = 6.67e-11\n",
    "M = 1.9e30\n",
    "r = [4e6,0,0,500]\n",
    "\n",
    "\n",
    "def f(r,t):\n",
    "    \n",
    "    x,y,vx,vy = r\n",
    "\n",
    "    Dx = vx\n",
    "    Dy = vy\n",
    "\n",
    "    R = sqrt(x**2 + y**2)\n",
    "\n",
    "    Dvx = -G*M*x/R**3\n",
    "    Dvy = -G*M*y/R**3\n",
    "\n",
    "    return array([Dx,Dy,Dvx,Dvy])\n",
    "\n",
    "\n",
    "#how do I solve this ordinary challenge with RK4? \n",
    "\n",
    "r = [4e6,0,0,500]\n",
    "\n",
    "def rk4_fixed(f,r,tf=10,N=100):\n",
    "    \"\"\"\n",
    "    \n",
    "    RK4 Integrator for a fixed step size. \n",
    "    \n",
    "    Start at t0 and go to tf, with N steps in between \n",
    "    \n",
    "    \"\"\"\n",
    "    t0 = 0\n",
    "    \n",
    "    h = (tf - t0) /N\n",
    "    \n",
    "    xpoints = []\n",
    "    ypoints = []\n",
    "    \n",
    "    tpoints = np.arange(t0,tf,h)\n",
    "    for t in tpoints:\n",
    "        \n",
    "        rpoints.append(r)\n",
    "        k1 = h*f(r,t)\n",
    "        k2 = h*f(x+0.5*k1,t+0.5*h)\n",
    "        k3 = h*f(x+0.5*k2,t+0.5*h)\n",
    "        k4 = h*f(x+k3,t+h)\n",
    "        x += (k1+2*k2+2*k3+k4)/6\n",
    "        #this won't work for an input of an r, otherwise it's adding .5 to everything? \n",
    "        \n",
    "        ypoints.append(y)\n",
    "        k1 = h*f(y,t)\n",
    "        k2 = h*f(y+0.5*k1,t+0.5*h)\n",
    "        k3 = h*f(y+0.5*k2,t+0.5*h)\n",
    "        k4 = h*f(y+k3,t+h)\n",
    "        y += (k1+2*k2+2*k3+k4)/6\n",
    "        \n",
    "    return xpoints,tpoints\n",
    "\n",
    "r = [4e6,0,0,500]\n",
    "\n",
    "\n"
   ]
  },
  {
   "cell_type": "code",
   "execution_count": null,
   "metadata": {
    "collapsed": true
   },
   "outputs": [],
   "source": []
  },
  {
   "cell_type": "code",
   "execution_count": null,
   "metadata": {
    "collapsed": true
   },
   "outputs": [],
   "source": []
  },
  {
   "cell_type": "code",
   "execution_count": null,
   "metadata": {
    "collapsed": true
   },
   "outputs": [],
   "source": []
  },
  {
   "cell_type": "markdown",
   "metadata": {},
   "source": [
    "Above is the eqn to solve for gravity in 2 dimensions with no other forces present. If we were to now solve this via an integrator, we would have \n"
   ]
  },
  {
   "cell_type": "code",
   "execution_count": null,
   "metadata": {
    "collapsed": true
   },
   "outputs": [],
   "source": [
    "r = [4e6,0,0,500]\n",
    "x,y,vx,vy = r"
   ]
  },
  {
   "cell_type": "code",
   "execution_count": 3,
   "metadata": {},
   "outputs": [
    {
     "data": {
      "image/png": "[encoded data removed]",
      "text/plain": [
       "<Figure size 432x288 with 1 Axes>"
      ]
     },
     "metadata": {},
     "output_type": "display_data"
    }
   ],
   "source": [
    "from pylab import *\n",
    "from math import sqrt\n",
    "\n",
    "class rksolve:\n",
    "\n",
    "    def __init__(self,f):\n",
    "\n",
    "        self.f = f #self.array_decorator(f)\n",
    "\n",
    "        self.initial_conditions = None\n",
    "        self.solution = None\n",
    "\n",
    "    def iterate(self,a,b,N=1000):\n",
    "\n",
    "        #f = self.f\n",
    "        r0 = array(self.initial_conditions,float96)\n",
    "\n",
    "        h = (b-a)/N\n",
    "\n",
    "        tpoints = arange(a,b,h)\n",
    "        solution = empty(tpoints.shape + r0.shape,float)\n",
    "\n",
    "        #r_points[0] = r0\n",
    "        r = r0\n",
    "        for i,t in enumerate(tpoints):\n",
    "            solution[i]=r\n",
    "            r += self.estimate_delta(r,t,h)\n",
    "\n",
    "        self.h = h\n",
    "        self.solution = solution\n",
    "        self.t = tpoints\n",
    "\n",
    "    def estimate_delta(self,r,t,h):\n",
    "\n",
    "        f = self.f\n",
    "        k1 = h*f(r,t)\n",
    "        k2 = h*f(r+0.5*k1,t+0.5*h)\n",
    "        k3 = h*f(r+0.5*k2,t+0.5*h)\n",
    "        k4 = h*f(r+k3,t+h)\n",
    "        return (k1+2*k2+2*k3+k4)/6\n",
    "\n",
    "class rksolve_adaptive(rksolve):\n",
    "\n",
    "    def iterate(self,a,b,delta=1):\n",
    "\n",
    "\n",
    "        r0 = array(self.initial_conditions)\n",
    "\n",
    "        h = (b-a)/10000\n",
    "        solution = []\n",
    "        time = []\n",
    "        r = r0\n",
    "        t = a\n",
    "\n",
    "        solution.append(copy(r))\n",
    "        time.append(t)\n",
    "\n",
    "        ro = 1\n",
    "        while t<b:\t\n",
    "            if ro<2:\n",
    "                h = h*ro**(1/4)\n",
    "            else:\n",
    "                h*=2\n",
    "            # estimating ro\n",
    "            r1 = r + self.estimate_delta(r,t,h)\n",
    "            r1 += self.estimate_delta(r1,t+h,h)\t\t\t\n",
    "            r2 = r + self.estimate_delta(r,t,2*h)\n",
    "            difference = r1 - r2\n",
    "            ro = 30*h*delta/sqrt(difference[0]**2 + difference[1]**2)\n",
    "\n",
    "            if ro>1:\n",
    "                t +=2*h\n",
    "                r = r1\n",
    "                solution.append(copy(r))\n",
    "                time.append(t)\n",
    "\n",
    "\n",
    "        self.h = h\n",
    "        self.solution = array(solution)\n",
    "        self.t = time\n",
    "\n",
    "\n",
    "G = 6.67e-11\n",
    "M = 1.9e30\n",
    "\n",
    "def f(r,t):\n",
    "\n",
    "    x,y,vx,vy = r\n",
    "\n",
    "    Dx = vx\n",
    "    Dy = vy\n",
    "\n",
    "    R = sqrt(x**2 + y**2)\n",
    "\n",
    "    Dvx = -G*M*x/R**3\n",
    "    Dvy = -G*M*y/R**3\n",
    "\n",
    "    return array([Dx,Dy,Dvx,Dvy])\n",
    "\n",
    "prob = rksolve_adaptive(f)\n",
    "\n",
    "\n",
    "R = 1.496e11\n",
    "T = 3.156e7 \n",
    "v = 2*pi*R/T\n",
    "prob.initial_conditions = [4e12,0,0,500]\n",
    "\n",
    "delta = 1e3/365/24/60/60\n",
    "prob.iterate(0,T*50,delta=delta)\n",
    "\n",
    "\n",
    "x = prob.solution[:,0]\n",
    "y = prob.solution[:,1]\n",
    "\n",
    "plot(x,y,'.')\n",
    "show()"
   ]
  },
  {
   "cell_type": "code",
   "execution_count": null,
   "metadata": {
    "collapsed": true
   },
   "outputs": [],
   "source": []
  }
 ],
 "metadata": {
  "kernelspec": {
   "display_name": "Python 3",
   "language": "python",
   "name": "python3"
  },
  "language_info": {
   "codemirror_mode": {
    "name": "ipython",
    "version": 3
   },
   "file_extension": ".py",
   "mimetype": "text/x-python",
   "name": "python",
   "nbconvert_exporter": "python",
   "pygments_lexer": "ipython3",
   "version": "3.6.7"
  }
 },
 "nbformat": 4,
 "nbformat_minor": 2
}
