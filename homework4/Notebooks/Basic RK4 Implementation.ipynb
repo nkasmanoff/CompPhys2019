{
 "cells": [
  {
   "cell_type": "code",
   "execution_count": 27,
   "metadata": {
    "collapsed": true
   },
   "outputs": [],
   "source": [
    "from math import sin\n",
    "from numpy import arange\n",
    "from pylab import plot,xlabel,ylabel,show\n",
    "\n"
   ]
  },
  {
   "cell_type": "code",
   "execution_count": 28,
   "metadata": {},
   "outputs": [
    {
     "ename": "SyntaxError",
     "evalue": "non-default argument follows default argument (<ipython-input-28-e27c613c15df>, line 27)",
     "output_type": "error",
     "traceback": [
      "\u001b[0;36m  File \u001b[0;32m\"<ipython-input-28-e27c613c15df>\"\u001b[0;36m, line \u001b[0;32m27\u001b[0m\n\u001b[0;31m    def rk4_fixed(f,x=0,tf,N):\u001b[0m\n\u001b[0m                 ^\u001b[0m\n\u001b[0;31mSyntaxError\u001b[0m\u001b[0;31m:\u001b[0m non-default argument follows default argument\n"
     ]
    }
   ],
   "source": [
    "def f(x,t):\n",
    "    return -x**3 + sin(t)\n",
    "\n",
    "a = 0.0\n",
    "b = 10.0\n",
    "N = 10\n",
    "h = (b-a)/N\n",
    "\n",
    "tpoints = arange(a,b,h)\n",
    "xpoints = []\n",
    "x = 0.0\n",
    "\n",
    "for t in tpoints:\n",
    "    xpoints.append(x)\n",
    "    k1 = h*f(x,t)\n",
    "    k2 = h*f(x+0.5*k1,t+0.5*h)\n",
    "    k3 = h*f(x+0.5*k2,t+0.5*h)\n",
    "    k4 = h*f(x+k3,t+h)\n",
    "    x += (k1+2*k2+2*k3+k4)/6\n",
    "\n",
    "plot(tpoints,xpoints)\n",
    "xlabel(\"t\")\n",
    "ylabel(\"x(t)\")\n",
    "show()\n",
    "\n",
    "\n",
    "def rk4_fixed(f,x=0,tf,N):\n",
    "    \"\"\"\n",
    "    \n",
    "    RK4 Integrator for a fixed step size. \n",
    "    \n",
    "    Start at t0 and go to tf, with N steps in between \n",
    "    \n",
    "    \"\"\"\n",
    "    t0 = 0\n",
    "    \n",
    "    h = (tf - t0) /N\n",
    "    \n",
    "    xpoints = []\n",
    "    tpoints = np.arange(a,b,h)\n",
    "    for t in tpoints:\n",
    "        xpoints.append(x)\n",
    "        k1 = h*f(x,t)\n",
    "        k2 = h*f(x+0.5*k1,t+0.5*h)\n",
    "        k3 = h*f(x+0.5*k2,t+0.5*h)\n",
    "        k4 = h*f(x+k3,t+h)\n",
    "        x += (k1+2*k2+2*k3+k4)/6\n",
    "        \n",
    "    return x,tpoints"
   ]
  },
  {
   "cell_type": "code",
   "execution_count": 29,
   "metadata": {},
   "outputs": [
    {
     "ename": "NameError",
     "evalue": "name 'a' is not defined",
     "output_type": "error",
     "traceback": [
      "\u001b[0;31m---------------------------------------------------------------------------\u001b[0m",
      "\u001b[0;31mNameError\u001b[0m                                 Traceback (most recent call last)",
      "\u001b[0;32m<ipython-input-29-46a0bf5bef0c>\u001b[0m in \u001b[0;36m<module>\u001b[0;34m()\u001b[0m\n\u001b[1;32m     26\u001b[0m \u001b[0;34m\u001b[0m\u001b[0m\n\u001b[1;32m     27\u001b[0m \u001b[0;34m\u001b[0m\u001b[0m\n\u001b[0;32m---> 28\u001b[0;31m \u001b[0mxpoints\u001b[0m\u001b[0;34m,\u001b[0m\u001b[0mtpoints\u001b[0m \u001b[0;34m=\u001b[0m \u001b[0mrk4_fixed\u001b[0m\u001b[0;34m(\u001b[0m\u001b[0mf\u001b[0m\u001b[0;34m,\u001b[0m\u001b[0mx\u001b[0m\u001b[0;34m=\u001b[0m\u001b[0;36m0\u001b[0m\u001b[0;34m,\u001b[0m\u001b[0mtf\u001b[0m\u001b[0;34m=\u001b[0m\u001b[0;36m10\u001b[0m\u001b[0;34m,\u001b[0m\u001b[0mN\u001b[0m\u001b[0;34m=\u001b[0m\u001b[0;36m100\u001b[0m\u001b[0;34m)\u001b[0m\u001b[0;34m\u001b[0m\u001b[0;34m\u001b[0m\u001b[0m\n\u001b[0m",
      "\u001b[0;32m<ipython-input-29-46a0bf5bef0c>\u001b[0m in \u001b[0;36mrk4_fixed\u001b[0;34m(f, x, tf, N)\u001b[0m\n\u001b[1;32m     13\u001b[0m \u001b[0;34m\u001b[0m\u001b[0m\n\u001b[1;32m     14\u001b[0m     \u001b[0mxpoints\u001b[0m \u001b[0;34m=\u001b[0m \u001b[0;34m[\u001b[0m\u001b[0;34m]\u001b[0m\u001b[0;34m\u001b[0m\u001b[0;34m\u001b[0m\u001b[0m\n\u001b[0;32m---> 15\u001b[0;31m     \u001b[0mtpoints\u001b[0m \u001b[0;34m=\u001b[0m \u001b[0mnp\u001b[0m\u001b[0;34m.\u001b[0m\u001b[0marange\u001b[0m\u001b[0;34m(\u001b[0m\u001b[0ma\u001b[0m\u001b[0;34m,\u001b[0m\u001b[0mb\u001b[0m\u001b[0;34m,\u001b[0m\u001b[0mh\u001b[0m\u001b[0;34m)\u001b[0m\u001b[0;34m\u001b[0m\u001b[0;34m\u001b[0m\u001b[0m\n\u001b[0m\u001b[1;32m     16\u001b[0m     \u001b[0;32mfor\u001b[0m \u001b[0mt\u001b[0m \u001b[0;32min\u001b[0m \u001b[0mtpoints\u001b[0m\u001b[0;34m:\u001b[0m\u001b[0;34m\u001b[0m\u001b[0;34m\u001b[0m\u001b[0m\n\u001b[1;32m     17\u001b[0m         \u001b[0mxpoints\u001b[0m\u001b[0;34m.\u001b[0m\u001b[0mappend\u001b[0m\u001b[0;34m(\u001b[0m\u001b[0mx\u001b[0m\u001b[0;34m)\u001b[0m\u001b[0;34m\u001b[0m\u001b[0;34m\u001b[0m\u001b[0m\n",
      "\u001b[0;31mNameError\u001b[0m: name 'a' is not defined"
     ]
    }
   ],
   "source": [
    "import numpy as np\n",
    "def rk4_fixed(f,x=0,tf=10,N=100):\n",
    "    \"\"\"\n",
    "    \n",
    "    RK4 Integrator for a fixed step size. \n",
    "    \n",
    "    Start at t0 and go to tf, with N steps in between \n",
    "    \n",
    "    \"\"\"\n",
    "    t0 = 0\n",
    "    \n",
    "    h = (tf - t0) /N\n",
    "    \n",
    "    xpoints = []\n",
    "    tpoints = np.arange(a,b,h)\n",
    "    for t in tpoints:\n",
    "        xpoints.append(x)\n",
    "        k1 = h*f(x,t)\n",
    "        k2 = h*f(x+0.5*k1,t+0.5*h)\n",
    "        k3 = h*f(x+0.5*k2,t+0.5*h)\n",
    "        k4 = h*f(x+k3,t+h)\n",
    "        x += (k1+2*k2+2*k3+k4)/6\n",
    "        \n",
    "    return xpoints,tpoints\n",
    "\n",
    "\n",
    "\n",
    "xpoints,tpoints = rk4_fixed(f,x=0,tf=10,N=100)"
   ]
  },
  {
   "cell_type": "code",
   "execution_count": 30,
   "metadata": {
    "collapsed": true
   },
   "outputs": [],
   "source": [
    "import matplotlib.pyplot as plt\n",
    "%matplotlib inline"
   ]
  },
  {
   "cell_type": "code",
   "execution_count": 31,
   "metadata": {},
   "outputs": [
    {
     "ename": "NameError",
     "evalue": "name 'tpoints' is not defined",
     "output_type": "error",
     "traceback": [
      "\u001b[0;31m---------------------------------------------------------------------------\u001b[0m",
      "\u001b[0;31mNameError\u001b[0m                                 Traceback (most recent call last)",
      "\u001b[0;32m<ipython-input-31-b6306f2bd2f8>\u001b[0m in \u001b[0;36m<module>\u001b[0;34m()\u001b[0m\n\u001b[0;32m----> 1\u001b[0;31m \u001b[0mplt\u001b[0m\u001b[0;34m.\u001b[0m\u001b[0mplot\u001b[0m\u001b[0;34m(\u001b[0m\u001b[0mtpoints\u001b[0m\u001b[0;34m,\u001b[0m\u001b[0mxpoints\u001b[0m\u001b[0;34m)\u001b[0m\u001b[0;34m\u001b[0m\u001b[0;34m\u001b[0m\u001b[0m\n\u001b[0m",
      "\u001b[0;31mNameError\u001b[0m: name 'tpoints' is not defined"
     ]
    }
   ],
   "source": [
    "plt.plot(tpoints,xpoints)"
   ]
  },
  {
   "cell_type": "code",
   "execution_count": 32,
   "metadata": {},
   "outputs": [
    {
     "ename": "SyntaxError",
     "evalue": "invalid syntax (<ipython-input-32-77ac10baddca>, line 1)",
     "output_type": "error",
     "traceback": [
      "\u001b[0;36m  File \u001b[0;32m\"<ipython-input-32-77ac10baddca>\"\u001b[0;36m, line \u001b[0;32m1\u001b[0m\n\u001b[0;31m    def rk4adaptive()\u001b[0m\n\u001b[0m                     ^\u001b[0m\n\u001b[0;31mSyntaxError\u001b[0m\u001b[0;31m:\u001b[0m invalid syntax\n"
     ]
    }
   ],
   "source": [
    "def rk4adaptive()"
   ]
  },
  {
   "cell_type": "markdown",
   "metadata": {},
   "source": [
    "Sick this works. Now apply it to a 2d orbit "
   ]
  },
  {
   "cell_type": "code",
   "execution_count": null,
   "metadata": {
    "collapsed": true
   },
   "outputs": [],
   "source": []
  },
  {
   "cell_type": "code",
   "execution_count": 33,
   "metadata": {
    "collapsed": true
   },
   "outputs": [],
   "source": [
    "class rksolve:\n",
    "\t\n",
    "\tdef __init__(self,f):\n",
    "\t\t\n",
    "\t\tself.f = f #self.array_decorator(f)\n",
    "\t\t\n",
    "\t\tself.initial_conditions = None\n",
    "\t\tself.solution = None\n",
    "\t\t\n",
    "\tdef iterate(self,a,b,N=1000):\n",
    "\t\t\n",
    "\t\t#f = self.f\n",
    "\t\tr0 = array(self.initial_conditions)\n",
    "\t\t\n",
    "\t\th = (b-a)/N\n",
    "\t\t\n",
    "\t\ttpoints = arange(a,b,h)\n",
    "\t\tsolution = empty(tpoints.shape + r0.shape,float)\n",
    "\t\t\n",
    "\t\t#r_points[0] = r0\n",
    "\t\tr = r0\n",
    "\t\tfor i,t in enumerate(tpoints):\n",
    "\t\t    solution[i]=r\n",
    "\t\t    r += self.estimate_delta(r,t,h)\n",
    "\t\t\n",
    "\t\tself.h = h\n",
    "\t\tself.solution = solution\n",
    "\t\tself.t = tpoints\n",
    "\t\t\n",
    "\tdef estimate_delta(self,r,t,h):\n",
    "\t\t\n",
    "\t\tf = self.f\n",
    "\t\tk1 = h*f(r,t)\n",
    "\t\tk2 = h*f(r+0.5*k1,t+0.5*h)\n",
    "\t\tk3 = h*f(r+0.5*k2,t+0.5*h)\n",
    "\t\tk4 = h*f(r+k3,t+h)\n",
    "\t\treturn (k1+2*k2+2*k3+k4)/6\n"
   ]
  },
  {
   "cell_type": "code",
   "execution_count": 40,
   "metadata": {
    "collapsed": true
   },
   "outputs": [],
   "source": [
    "\n",
    "class rksolve:\n",
    "\n",
    "    def __init__(self,f):\n",
    "\n",
    "        self.f = f #self.array_decorator(f)\n",
    "\n",
    "        self.initial_conditions = None\n",
    "        self.solution = None\n",
    "\n",
    "    def iterate(self,a,b,N=1000):\n",
    "\n",
    "        #f = self.f\n",
    "        r0 = array(self.initial_conditions)\n",
    "\n",
    "        h = (b-a)/N\n",
    "\n",
    "        tpoints = arange(a,b,h)\n",
    "        solution = empty(tpoints.shape + r0.shape,float)\n",
    "\n",
    "        #r_points[0] = r0\n",
    "        r = r0\n",
    "        for i,t in enumerate(tpoints):\n",
    "            solution[i]=r\n",
    "            r += self.estimate_delta(r,t,h)\n",
    "\n",
    "        self.h = h\n",
    "        self.solution = solution\n",
    "        self.t = tpoints\n",
    "\n",
    "    def estimate_delta(self,r,t,h):\n",
    "\n",
    "        f = self.f\n",
    "        k1 = h*f(r,t)\n",
    "        k2 = h*f(r+0.5*k1,t+0.5*h)\n",
    "        k3 = h*f(r+0.5*k2,t+0.5*h)\n",
    "        k4 = h*f(r+k3,t+h)\n",
    "        return (k1+2*k2+2*k3+k4)/6\n",
    "\n",
    "class rksolve_adaptive(rksolve):\n",
    "\n",
    "    def iterate(self,a,b,delta=1):\n",
    "\n",
    "\n",
    "        r0 = array(self.initial_conditions)\n",
    "\n",
    "        h = (b-a)/10000\n",
    "        solution = []\n",
    "        time = []\n",
    "        r = r0\n",
    "        t = a\n",
    "\n",
    "        solution.append(copy(r))\n",
    "        time.append(t)\n",
    "\n",
    "        ro = 1\n",
    "        while t<b:\n",
    "            if ro<2:\n",
    "                h = h*ro**(1/4)\n",
    "            else:\n",
    "                h*=2\n",
    "            # estimating ro\n",
    "            r1 = r + self.estimate_delta(r,t,h)\n",
    "            r1 += self.estimate_delta(r1,t+h,h)\n",
    "            r2 = r + self.estimate_delta(r,t,2*h)\n",
    "            difference = r1 - r2\n",
    "            ro = 30*h*delta/sqrt(difference[0]**2 + difference[1]**2)\n",
    "\n",
    "            if ro>1:\n",
    "                t +=2*h\n",
    "                r = r1\n",
    "                solution.append(copy(r))\n",
    "                time.append(t)\n",
    "\n",
    "\n",
    "        self.h = h\n",
    "        self.solution = array(solution)\n",
    "        self.t = time\n",
    "\n",
    "\n",
    "def f(r,t):\n",
    "\n",
    "    x,y,vx,vy = r\n",
    "\n",
    "    Dx = vx\n",
    "    Dy = vy\n",
    "\n",
    "    R = sqrt(x**2 + y**2)\n",
    "\n",
    "    Dvx = -G*M*x/R**3\n",
    "    Dvy = -G*M*y/R**3\n",
    "\n",
    "    return array([Dx,Dy,Dvx,Dvy])\n",
    "\n",
    "prob = rksolve_adaptive(f)"
   ]
  },
  {
   "cell_type": "code",
   "execution_count": 53,
   "metadata": {},
   "outputs": [
    {
     "data": {
      "image/png": "[encoded data removed]",
      "text/plain": [
       "<Figure size 432x288 with 1 Axes>"
      ]
     },
     "metadata": {},
     "output_type": "display_data"
    }
   ],
   "source": [
    "\n",
    "class rksolve:\n",
    "\t\n",
    "\tdef __init__(self,f):\n",
    "\t\t\n",
    "\t\tself.f = f #self.array_decorator(f)\n",
    "\t\t\n",
    "\t\tself.initial_conditions = None\n",
    "\t\tself.solution = None\n",
    "\t\t\n",
    "\tdef iterate(self,a,b,N=1000):\n",
    "\t\t\n",
    "\t\t#f = self.f\n",
    "\t\tr0 = array(self.initial_conditions)\n",
    "\t\t\n",
    "\t\th = (b-a)/N\n",
    "\t\t\n",
    "\t\ttpoints = arange(a,b,h)\n",
    "\t\tsolution = empty(tpoints.shape + r0.shape,float)\n",
    "\t\t\n",
    "\t\t#r_points[0] = r0\n",
    "\t\tr = r0\n",
    "\t\tfor i,t in enumerate(tpoints):\n",
    "\t\t    solution[i]=r\n",
    "\t\t    r += self.estimate_delta(r,t,h)\n",
    "\t\t\n",
    "\t\tself.h = h\n",
    "\t\tself.solution = solution\n",
    "\t\tself.t = tpoints\n",
    "\t\t\n",
    "\tdef estimate_delta(self,r,t,h):\n",
    "\t\t\n",
    "\t\tf = self.f\n",
    "\t\tk1 = h*f(r)\n",
    "\t\tk2 = h*f(r+0.5*k1)\n",
    "\t\tk3 = h*f(r+0.5*k2)\n",
    "\t\tk4 = h*f(r+k3)\n",
    "\t\treturn (k1+2*k2+2*k3+k4)/6\n",
    "\n",
    "class rksolve_adaptive(rksolve):\n",
    "\t\n",
    "\tdef iterate(self,a,b,delta=1):\n",
    "\t\t\n",
    "\t\t\n",
    "\t\tr0 = array(self.initial_conditions)\n",
    "\t\t\n",
    "\t\th = (b-a)/10000\n",
    "\t\tsolution = []\n",
    "\t\ttime = []\n",
    "\t\tr = r0\n",
    "\t\tt = a\n",
    "\t\t\n",
    "\t\tsolution.append(copy(r))\n",
    "\t\ttime.append(t)\n",
    "\t\t\n",
    "\t\tro = 1\n",
    "\t\twhile t<b:\t\n",
    "\t\t\tif ro<2:\n",
    "\t\t\t\th = h*ro**(1/4)\n",
    "\t\t\telse:\n",
    "\t\t\t\th*=2\n",
    "\t\t\t# estimating ro\n",
    "\t\t\tr1 = r + self.estimate_delta(r,t,h)\n",
    "\t\t\tr1 += self.estimate_delta(r1,t+h,h)\t\t\t\n",
    "\t\t\tr2 = r + self.estimate_delta(r,t,2*h)\n",
    "\t\t\tdifference = r1 - r2\n",
    "\t\t\tro = 30*h*delta/sqrt(difference[0]**2 + difference[1]**2)\n",
    "\t\t\t\n",
    "\t\t\tif ro>1:\n",
    "\t\t\t\tt +=2*h\n",
    "\t\t\t\tr = r1\n",
    "\t\t\t\tsolution.append(copy(r))\n",
    "\t\t\t\ttime.append(t)\n",
    "\t\t\t\n",
    "\t\t\n",
    "\t\tself.h = h\n",
    "\t\tself.solution = array(solution)\n",
    "\t\tself.t = time\n",
    "\n",
    "\n",
    "G = 6.67e-11\n",
    "M = 1.9e30\n",
    "\n",
    "def f(r):\n",
    "\t\n",
    "\tx,y,vx,vy = r\n",
    "\t\n",
    "\tDx = vx\n",
    "\tDy = vy\n",
    "\t\n",
    "\tR = sqrt(x**2 + y**2)\n",
    "\t\n",
    "\tDvx = -G*M*x/R**3\n",
    "\tDvy = -G*M*y/R**3\n",
    "\t\n",
    "\treturn array([Dx,Dy,Dvx,Dvy])\n",
    "\t\n",
    "prob = rksolve_adaptive(f)\n",
    "\n",
    "\n",
    "R = 1.496e3\n",
    "T = 3.156e7 \n",
    "v = 2*pi*R/T\n",
    "prob.initial_conditions = [4e11,0,0,500]\n",
    "\n",
    "delta = 1e3/365/24/60/60\n",
    "prob.iterate(0,T*50,delta=delta)\n",
    "\n",
    "\n",
    "x = prob.solution[:,0]\n",
    "y = prob.solution[:,1]\n",
    "\n",
    "plot(x,y,'.')\n",
    "show()\n"
   ]
  },
  {
   "cell_type": "code",
   "execution_count": 9,
   "metadata": {},
   "outputs": [
    {
     "data": {
      "text/plain": [
       "3.1709791983764585e-05"
      ]
     },
     "execution_count": 9,
     "metadata": {},
     "output_type": "execute_result"
    }
   ],
   "source": [
    "delta"
   ]
  },
  {
   "cell_type": "markdown",
   "metadata": {},
   "source": [
    "Where is this delta coming from? "
   ]
  },
  {
   "cell_type": "code",
   "execution_count": null,
   "metadata": {
    "collapsed": true
   },
   "outputs": [],
   "source": [
    "from math import sin\n",
    "from numpy import arange\n",
    "from pylab import plot,xlabel,ylabel,show\n",
    "\n",
    "def f(x,t):\n",
    "    return -x**3 + sin(t)\n",
    "\n",
    "a = 0.0\n",
    "b = 10.0\n",
    "N = 10\n",
    "h = (b-a)/N\n",
    "\n",
    "tpoints = arange(a,b,h)\n",
    "xpoints = []\n",
    "x = 0.0\n",
    "\n",
    "for t in tpoints:\n",
    "    xpoints.append(x)\n",
    "    k1 = h*f(x,t)\n",
    "    k2 = h*f(x+0.5*k1,t+0.5*h)\n",
    "    k3 = h*f(x+0.5*k2,t+0.5*h)\n",
    "    k4 = h*f(x+k3,t+h)\n",
    "    x += (k1+2*k2+2*k3+k4)/6\n",
    "\n",
    "plot(tpoints,xpoints)\n",
    "xlabel(\"t\")\n",
    "ylabel(\"x(t)\")\n",
    "show()"
   ]
  },
  {
   "cell_type": "code",
   "execution_count": null,
   "metadata": {
    "collapsed": true
   },
   "outputs": [],
   "source": [
    "def rk4_adaptive(f,a,b,N,r):\n",
    "    \"\"\"\n",
    "    \n",
    "    Adaptive step size rk4 code. \n",
    "    \n",
    "    Returns continuous x y vx and vy as a function of time values for a given function f. \n",
    "    \n",
    "    \n",
    "    \"\"\"\n",
    "    \n",
    "    #first iniital conditions come from r\n",
    "    \n",
    "    x,y,vx,vy = r\n",
    "    \n",
    "    tpoints = arange(a,b,h)\n",
    "    h = (b-a)/N\n",
    "    xpoints = []\n",
    "    ypoints = []\n",
    "    vxpoints = []\n",
    "    vypoints = []\n",
    "    \n",
    "    for t in tpoints:\n",
    "        xpoints.append(x)\n",
    "        ypoints.append(y)\n",
    "        vxpoints.append(vx)\n",
    "        vypoints.append(vy)\n",
    "        \n",
    "        k1 = h*f(x,t)\n",
    "        k2 = h*f(x+0.5*k1,t+0.5*h)\n",
    "        k3 = h*f(x+0.5*k2,t+0.5*h)\n",
    "        k4 = h*f(x+k3,t+h)\n",
    "\n",
    "        x += (k1+2*k2+2*k3+k4)/6\n",
    "        \n",
    "        k1 = h*f(y,t)\n",
    "        k2 = h*f(y+0.5*k1,t+0.5*h)\n",
    "        k3 = h*f(y+0.5*k2,t+0.5*h)\n",
    "        k4 = h*f(y+k3,t+h)\n",
    "\n",
    "        y += (k1+2*k2+2*k3+k4)/6\n",
    "        \n",
    "        k1 = h*f(vx,t)\n",
    "        k2 = h*f(vx+0.5*k1,t+0.5*h)\n",
    "        k3 = h*f(vx+0.5*k2,t+0.5*h)\n",
    "        k4 = h*f(vx+k3,t+h)\n",
    "\n",
    "        vx += (k1+2*k2+2*k3+k4)/6\n",
    "        \n",
    "        k1 = h*f(vy,t)\n",
    "        k2 = h*f(vy+0.5*k1,t+0.5*h)\n",
    "        k3 = h*f(vy+0.5*k2,t+0.5*h)\n",
    "        k4 = h*f(vy+k3,t+h)\n",
    "\n",
    "        vy += (k1+2*k2+2*k3+k4)/6"
   ]
  },
  {
   "cell_type": "code",
   "execution_count": 25,
   "metadata": {
    "collapsed": true
   },
   "outputs": [],
   "source": [
    "def f(r):\n",
    "\n",
    "    x,y,vx,vy = r\n",
    "\n",
    "    Dx = vx\n",
    "    Dy = vy\n",
    "\n",
    "    R = sqrt(x**2 + y**2)\n",
    "\n",
    "    Dvx = -G*M*x/R**3 -1\n",
    "    Dvy = -G*M*y/R**3\n",
    "\n",
    "    return array([Dx,Dy,Dvx,Dvy])"
   ]
  },
  {
   "cell_type": "code",
   "execution_count": 26,
   "metadata": {},
   "outputs": [
    {
     "data": {
      "text/plain": [
       "array([ 1.,  0., -1., -1.])"
      ]
     },
     "execution_count": 26,
     "metadata": {},
     "output_type": "execute_result"
    }
   ],
   "source": [
    "f([0,1,1,0])"
   ]
  },
  {
   "cell_type": "code",
   "execution_count": null,
   "metadata": {
    "collapsed": true
   },
   "outputs": [],
   "source": []
  }
 ],
 "metadata": {
  "kernelspec": {
   "display_name": "Python 3",
   "language": "python",
   "name": "python3"
  },
  "language_info": {
   "codemirror_mode": {
    "name": "ipython",
    "version": 3
   },
   "file_extension": ".py",
   "mimetype": "text/x-python",
   "name": "python",
   "nbconvert_exporter": "python",
   "pygments_lexer": "ipython3",
   "version": "3.6.7"
  }
 },
 "nbformat": 4,
 "nbformat_minor": 2
}
