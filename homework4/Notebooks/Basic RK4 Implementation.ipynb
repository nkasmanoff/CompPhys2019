{
 "cells": [
  {
   "cell_type": "code",
   "execution_count": 1,
   "metadata": {
    "collapsed": true
   },
   "outputs": [],
   "source": [
    "from math import sin\n",
    "from numpy import arange\n",
    "from pylab import plot,xlabel,ylabel,show\n",
    "\n"
   ]
  },
  {
   "cell_type": "code",
   "execution_count": 2,
   "metadata": {},
   "outputs": [
    {
     "data": {
      "image/png": "[encoded data removed]",
      "text/plain": [
       "<Figure size 432x288 with 1 Axes>"
      ]
     },
     "metadata": {},
     "output_type": "display_data"
    }
   ],
   "source": [
    "def f(x,t):\n",
    "    return -x**3 + sin(t)\n",
    "\n",
    "a = 0.0\n",
    "b = 10.0\n",
    "N = 10\n",
    "h = (b-a)/N\n",
    "\n",
    "tpoints = arange(a,b,h)\n",
    "xpoints = []\n",
    "x = 0.0\n",
    "\n",
    "for t in tpoints:\n",
    "    xpoints.append(x)\n",
    "    k1 = h*f(x,t)\n",
    "    k2 = h*f(x+0.5*k1,t+0.5*h)\n",
    "    k3 = h*f(x+0.5*k2,t+0.5*h)\n",
    "    k4 = h*f(x+k3,t+h)\n",
    "    x += (k1+2*k2+2*k3+k4)/6\n",
    "\n",
    "plot(tpoints,xpoints)\n",
    "xlabel(\"t\")\n",
    "ylabel(\"x(t)\")\n",
    "show()\n",
    "\n",
    "\n",
    "def rk4_fixed(f,x=0,tf,N):\n",
    "    \"\"\"\n",
    "    \n",
    "    RK4 Integrator for a fixed step size. \n",
    "    \n",
    "    Start at t0 and go to tf, with N steps in between \n",
    "    \n",
    "    \"\"\"\n",
    "    t0 = 0\n",
    "    \n",
    "    h = (tf - t0) /N\n",
    "    \n",
    "    xpoints = []\n",
    "    tpoints = np.arange(a,b,h)\n",
    "    for t in tpoints:\n",
    "        xpoints.append(x)\n",
    "        k1 = h*f(x,t)\n",
    "        k2 = h*f(x+0.5*k1,t+0.5*h)\n",
    "        k3 = h*f(x+0.5*k2,t+0.5*h)\n",
    "        k4 = h*f(x+k3,t+h)\n",
    "        x += (k1+2*k2+2*k3+k4)/6\n",
    "        \n",
    "    return x,tpoints"
   ]
  },
  {
   "cell_type": "code",
   "execution_count": 7,
   "metadata": {},
   "outputs": [],
   "source": [
    "import numpy as np\n",
    "def rk4_fixed(f,x=0,tf=10,N=100):\n",
    "    \"\"\"\n",
    "    \n",
    "    RK4 Integrator for a fixed step size. \n",
    "    \n",
    "    Start at t0 and go to tf, with N steps in between \n",
    "    \n",
    "    \"\"\"\n",
    "    t0 = 0\n",
    "    \n",
    "    h = (tf - t0) /N\n",
    "    \n",
    "    xpoints = []\n",
    "    tpoints = np.arange(a,b,h)\n",
    "    for t in tpoints:\n",
    "        xpoints.append(x)\n",
    "        k1 = h*f(x,t)\n",
    "        k2 = h*f(x+0.5*k1,t+0.5*h)\n",
    "        k3 = h*f(x+0.5*k2,t+0.5*h)\n",
    "        k4 = h*f(x+k3,t+h)\n",
    "        x += (k1+2*k2+2*k3+k4)/6\n",
    "        \n",
    "    return xpoints,tpoints\n",
    "\n",
    "\n",
    "\n",
    "xpoints,tpoints = rk4_fixed(f,x=0,tf=10,N=100)"
   ]
  },
  {
   "cell_type": "code",
   "execution_count": 8,
   "metadata": {
    "collapsed": true
   },
   "outputs": [],
   "source": [
    "import matplotlib.pyplot as plt\n",
    "%matplotlib inline"
   ]
  },
  {
   "cell_type": "code",
   "execution_count": 10,
   "metadata": {},
   "outputs": [
    {
     "data": {
      "text/plain": [
       "[<matplotlib.lines.Line2D at 0x11977c780>]"
      ]
     },
     "execution_count": 10,
     "metadata": {},
     "output_type": "execute_result"
    },
    {
     "data": {
      "image/png": "[encoded data removed]",
      "text/plain": [
       "<Figure size 432x288 with 1 Axes>"
      ]
     },
     "metadata": {},
     "output_type": "display_data"
    }
   ],
   "source": [
    "plt.plot(tpoints,xpoints)"
   ]
  },
  {
   "cell_type": "markdown",
   "metadata": {},
   "source": [
    "Sick this works. Now apply it to a 2d orbit "
   ]
  },
  {
   "cell_type": "code",
   "execution_count": null,
   "metadata": {
    "collapsed": true
   },
   "outputs": [],
   "source": []
  },
  {
   "cell_type": "code",
   "execution_count": 3,
   "metadata": {
    "collapsed": true
   },
   "outputs": [],
   "source": [
    "class rksolve:\n",
    "\t\n",
    "\tdef __init__(self,f):\n",
    "\t\t\n",
    "\t\tself.f = f #self.array_decorator(f)\n",
    "\t\t\n",
    "\t\tself.initial_conditions = None\n",
    "\t\tself.solution = None\n",
    "\t\t\n",
    "\tdef iterate(self,a,b,N=1000):\n",
    "\t\t\n",
    "\t\t#f = self.f\n",
    "\t\tr0 = array(self.initial_conditions,float96)\n",
    "\t\t\n",
    "\t\th = (b-a)/N\n",
    "\t\t\n",
    "\t\ttpoints = arange(a,b,h)\n",
    "\t\tsolution = empty(tpoints.shape + r0.shape,float)\n",
    "\t\t\n",
    "\t\t#r_points[0] = r0\n",
    "\t\tr = r0\n",
    "\t\tfor i,t in enumerate(tpoints):\n",
    "\t\t    solution[i]=r\n",
    "\t\t    r += self.estimate_delta(r,t,h)\n",
    "\t\t\n",
    "\t\tself.h = h\n",
    "\t\tself.solution = solution\n",
    "\t\tself.t = tpoints\n",
    "\t\t\n",
    "\tdef estimate_delta(self,r,t,h):\n",
    "\t\t\n",
    "\t\tf = self.f\n",
    "\t\tk1 = h*f(r,t)\n",
    "\t\tk2 = h*f(r+0.5*k1,t+0.5*h)\n",
    "\t\tk3 = h*f(r+0.5*k2,t+0.5*h)\n",
    "\t\tk4 = h*f(r+k3,t+h)\n",
    "\t\treturn (k1+2*k2+2*k3+k4)/6\n"
   ]
  },
  {
   "cell_type": "code",
   "execution_count": null,
   "metadata": {
    "collapsed": true
   },
   "outputs": [],
   "source": []
  }
 ],
 "metadata": {
  "kernelspec": {
   "display_name": "Python 3",
   "language": "python",
   "name": "python3"
  },
  "language_info": {
   "codemirror_mode": {
    "name": "ipython",
    "version": 3
   },
   "file_extension": ".py",
   "mimetype": "text/x-python",
   "name": "python",
   "nbconvert_exporter": "python",
   "pygments_lexer": "ipython3",
   "version": "3.6.7"
  }
 },
 "nbformat": 4,
 "nbformat_minor": 2
}
