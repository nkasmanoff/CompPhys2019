{
 "cells": [
  {
   "cell_type": "code",
   "execution_count": 25,
   "metadata": {
    "collapsed": true
   },
   "outputs": [],
   "source": [
    "\n",
    "\n",
    "import numpy as np\n",
    "\n",
    "import matplotlib.pyplot as plt\n",
    "\n",
    "%matplotlib inline\n",
    "\n",
    "\n",
    "# Given Constants\n",
    "a = 1.\n",
    "b = 3.\n",
    "x_0 = 0.\n",
    "y_0 = 0.\n",
    "delta = 10 ** -10  # target accuracy per unit time\n",
    "t_0 = 0.\n",
    "t_f = 20.\n",
    "\n",
    "def f(r):\n",
    "    \"\"\"\n",
    "    \n",
    "    Brussellator Equation\n",
    "    \n",
    "    \n",
    "    \"\"\"\n",
    "    x = r[0]\n",
    "    y = r[1]\n",
    "    \n",
    "    dx = 1 - (b+1)*x + a*x*x*y\n",
    "    \n",
    "    dy = b*x - (a * x*x*y)\n",
    "    \n",
    "    return np.array([dx,dy])\n",
    "\n",
    "\n",
    "from scipy import copy\n",
    "def solution(t_0,t_f):\n",
    "    r = np.array([x_0,y_0])\n",
    "    tpoints = [t_0]\n",
    "    xpoints = [r[0]]\n",
    "    ypoints = [r[1]]\n",
    "    \n",
    "    def BS_step(r,t,H):\n",
    "        \"\"\"\n",
    "        Computes a BS step  with richardson extrapolation until \n",
    "        \n",
    "        target accuracy is reached. \n",
    "        \n",
    "        \"\"\"\n",
    "        \n",
    "        def modified_midpoint(r,n):\n",
    "            \n",
    "            r = copy(r)\n",
    "            \n",
    "            h = H / n\n",
    "            k = r + .5 * h * f(r)\n",
    "            r += h * f(k)\n",
    "            \n",
    "            for i in range(n - 1):\n",
    "                k += h * f(r)\n",
    "                r += h*f(k)\n",
    "                \n",
    "            return 0.5 * (r + k + 0.5 * h * f(r))\n",
    "        \n",
    "        \n",
    "        def compute_R_n(R1,n):\n",
    "            \"\"\"\n",
    "            Calculate the nth row of richardson extrapolation given R1 is inputed, \n",
    "            and is simply the modified midpoint method. \n",
    "            \n",
    "            By emplying recursion, we include in this function \n",
    "            the function for calculating R_n_m\n",
    "            \n",
    "            \"\"\"\n",
    "            \n",
    "\n",
    "            def R_n_m(m):\n",
    "                \"\"\"\n",
    "                Computes R_n,m\n",
    "                :param m: integer <= n\n",
    "                :return: the vector R_n,m\n",
    "                \"\"\"\n",
    "                return R2[m - 2] + (R2[m - 2] - R1[m - 2]) / ((n / (n - 1)) ** (2 * (m - 1)) - 1)\n",
    "\n",
    "            #stops after n > 8\n",
    "        \n",
    "            if n > 8:\n",
    "                #recursion\n",
    "                r1 = BS_step(r,t,H / 2)\n",
    "                return BS_step(r1, t + H / 2, H / 2)\n",
    "            \n",
    "            else: #if not, perform the extrapolation up to n = 8. \n",
    "                # Compute R_n,1\n",
    "                R2 = [modified_midpoint(r, n)]\n",
    "                # Compute the rest of the row\n",
    "                for m in range(2, n + 1):\n",
    "                    R2.append(R_n_m(m))\n",
    "                    \n",
    "                    \n",
    "                #\n",
    "                R2 = np.array(R2)\n",
    "                \n",
    "                #calculation of error for this calculation\n",
    "                error_vec = (R2[n - 2] - R1[n - 2]) / ((n / (n - 1)) ** (2 * (n - 1)) - 1)\n",
    "                \n",
    "                error  = np.sqrt(error_vec[0] ** 2 + error_vec[1] ** 2)\n",
    "                \n",
    "                \n",
    "                # if error is less than goal accuracy, stop. Otherwise, repeat with more steps!\n",
    "                \n",
    "                target = H * delta\n",
    "                \n",
    "                if error < target:\n",
    "                    tpoints.append(t + H)\n",
    "                    xpoints.append(R2[n - 1][0])\n",
    "                    ypoints.append(R2[n - 1][1])\n",
    "                    return R2[n - 1]\n",
    "                else:\n",
    "                    return compute_R_n(R2, n + 1)\n",
    "\n",
    "\n",
    "        return compute_R_n(np.array([modified_midpoint(r, 1)], float), 2)\n",
    "\n",
    "    BS_step(r, t_0, t_f - t_0)\n",
    "    return tpoints, xpoints, ypoints\n"
   ]
  },
  {
   "cell_type": "code",
   "execution_count": 26,
   "metadata": {},
   "outputs": [
    {
     "name": "stderr",
     "output_type": "stream",
     "text": [
      "/Users/noahkasmanoff/anaconda/lib/python3.6/site-packages/ipykernel/__main__.py:29: RuntimeWarning: overflow encountered in double_scalars\n",
      "/Users/noahkasmanoff/anaconda/lib/python3.6/site-packages/ipykernel/__main__.py:31: RuntimeWarning: overflow encountered in double_scalars\n",
      "/Users/noahkasmanoff/anaconda/lib/python3.6/site-packages/ipykernel/__main__.py:63: RuntimeWarning: invalid value encountered in add\n",
      "/Users/noahkasmanoff/anaconda/lib/python3.6/site-packages/ipykernel/__main__.py:106: RuntimeWarning: overflow encountered in double_scalars\n",
      "/Users/noahkasmanoff/anaconda/lib/python3.6/site-packages/ipykernel/__main__.py:83: RuntimeWarning: invalid value encountered in subtract\n"
     ]
    },
    {
     "data": {
      "text/plain": [
       "<matplotlib.legend.Legend at 0x11fbc27f0>"
      ]
     },
     "execution_count": 26,
     "metadata": {},
     "output_type": "execute_result"
    },
    {
     "data": {
      "image/png": "[encoded data removed]",
      "text/plain": [
       "<Figure size 432x288 with 1 Axes>"
      ]
     },
     "metadata": {},
     "output_type": "display_data"
    }
   ],
   "source": [
    "\n",
    "t, x, y = solution(t_0, t_f)\n",
    "plt.plot(t, x, 'b.-',label = 'x')\n",
    "plt.plot(t, y, 'r.-',label = 'y')\n",
    "#xlabel('$t$',fontsize=20)\n",
    "plt.legend()\n",
    "#ylabel('Concentrations',fontsize=20)\n",
    "#plt.savefig('../bin/adaptivebs.png')"
   ]
  },
  {
   "cell_type": "code",
   "execution_count": null,
   "metadata": {
    "collapsed": true
   },
   "outputs": [],
   "source": []
  }
 ],
 "metadata": {
  "kernelspec": {
   "display_name": "Python 3",
   "language": "python",
   "name": "python3"
  },
  "language_info": {
   "codemirror_mode": {
    "name": "ipython",
    "version": 3
   },
   "file_extension": ".py",
   "mimetype": "text/x-python",
   "name": "python",
   "nbconvert_exporter": "python",
   "pygments_lexer": "ipython3",
   "version": "3.6.7"
  }
 },
 "nbformat": 4,
 "nbformat_minor": 2
}
